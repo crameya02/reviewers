{
 "cells": [
  {
   "cell_type": "markdown",
   "metadata": {},
   "source": [
    "# FizzBuzz\n",
    "```\n",
    "Write a short program that prints each number from 1 to 100 on a new line. \n",
    "\n",
    "For each multiple of 3, print \"Fizz\" instead of the number. \n",
    "\n",
    "For each multiple ofa 5, print \"Buzz\" instead of the number. \n",
    "\n",
    "For numbers which are multiples of both 3 and 5, print \"FizzBuzz\" instead of the number.\n",
    "```"
   ]
  },
  {
   "cell_type": "code",
   "execution_count": null,
   "metadata": {
    "dotnet_interactive": {
     "language": "csharp"
    },
    "polyglot_notebook": {
     "kernelName": "csharp"
    }
   },
   "outputs": [],
   "source": [
    "for i in range(1,100+1):\n",
    "    if (i % 5 == 0) and (i % 3 == 0):\n",
    "        print(f\"{i} = FizzBuzz\")\n",
    "    elif (i % 3 == 0):\n",
    "        print(f\"{i} = Fizz\")\n",
    "    \n",
    "    elif (i % 5 == 0):\n",
    "        print(f\"{i} = Buzz\")\n",
    "    else:\n",
    "        print(i)\n",
    "\n",
    "        "
   ]
  },
  {
   "cell_type": "code",
   "execution_count": 15,
   "metadata": {},
   "outputs": [
    {
     "name": "stdout",
     "output_type": "stream",
     "text": [
      "1\n",
      "2\n",
      "3 = Fizz\n",
      "4\n",
      "5 = Buzz\n",
      "6 = Fizz\n",
      "7 = Woof\n",
      "8\n",
      "9 = Fizz\n",
      "10 = Buzz\n",
      "11\n",
      "12 = Fizz\n",
      "13\n",
      "14 = Woof\n",
      "15 = FizzBuzz\n",
      "16\n",
      "17\n",
      "18 = Fizz\n",
      "19\n",
      "20 = Buzz\n",
      "21 = FizzWoof\n",
      "22\n",
      "23\n",
      "24 = Fizz\n",
      "25 = Buzz\n",
      "26\n",
      "27 = Fizz\n",
      "28 = Woof\n",
      "29\n",
      "30 = FizzBuzz\n",
      "31\n",
      "32\n",
      "33 = Fizz\n",
      "34\n",
      "35 = BuzzWoof\n",
      "36 = Fizz\n",
      "37\n",
      "38\n",
      "39 = Fizz\n",
      "40 = Buzz\n",
      "41\n",
      "42 = FizzWoof\n",
      "43\n",
      "44\n",
      "45 = FizzBuzz\n",
      "46\n",
      "47\n",
      "48 = Fizz\n",
      "49 = Woof\n",
      "50 = Buzz\n",
      "51 = Fizz\n",
      "52\n",
      "53\n",
      "54 = Fizz\n",
      "55 = Buzz\n",
      "56 = Woof\n",
      "57 = Fizz\n",
      "58\n",
      "59\n",
      "60 = FizzBuzz\n",
      "61\n",
      "62\n",
      "63 = FizzWoof\n",
      "64\n",
      "65 = Buzz\n",
      "66 = Fizz\n",
      "67\n",
      "68\n",
      "69 = Fizz\n",
      "70 = BuzzWoof\n",
      "71\n",
      "72 = Fizz\n",
      "73\n",
      "74\n",
      "75 = FizzBuzz\n",
      "76\n",
      "77 = Woof\n",
      "78 = Fizz\n",
      "79\n",
      "80 = Buzz\n",
      "81 = Fizz\n",
      "82\n",
      "83\n",
      "84 = FizzWoof\n",
      "85 = Buzz\n",
      "86\n",
      "87 = Fizz\n",
      "88\n",
      "89\n",
      "90 = FizzBuzz\n",
      "91 = Woof\n",
      "92\n",
      "93 = Fizz\n",
      "94\n",
      "95 = Buzz\n",
      "96 = Fizz\n",
      "97\n",
      "98 = Woof\n",
      "99 = Fizz\n",
      "100 = Buzz\n"
     ]
    }
   ],
   "source": [
    "def fizzbuzz(start, end, rules):\n",
    "    for i in range(start, end + 1):\n",
    "        output = \"\".join(word for divisor, word in rules.items() if i % divisor == 0)\n",
    "        print(f\"{i} = {output}\" if output else i)\n",
    "\n",
    "# Example usage:\n",
    "fizzbuzz(1, 100, {3: \"Fizz\", 5: \"Buzz\", 7: \"Woof\"})\n"
   ]
  },
  {
   "cell_type": "code",
   "execution_count": null,
   "metadata": {},
   "outputs": [],
   "source": [
    "for i in range(1, 101):\n",
    "    match (i % 3 == 0, i % 5 == 0):\n",
    "        case (True, True):\n",
    "            print(f\"{i} = FizzBuzz\")\n",
    "        case (True, False):\n",
    "            print(f\"{i} = Fizz\")\n",
    "        case (False, True):\n",
    "            print(f\"{i} = Buzz\")\n",
    "        case _:\n",
    "            pass  # Do nothing for numbers not divisible by 3 or 5\n"
   ]
  },
  {
   "cell_type": "markdown",
   "metadata": {},
   "source": [
    "# TwoSum\n",
    "```\n",
    "Given an array of integers  `nums` and an integer  `target`, return  _indices of the two numbers such that they add up to  `target`_.\n",
    "\n",
    "You may assume that each input would have  **_exactly_  one solution**, and you may not use the  _same_  element twice.\n",
    "\n",
    "You can return the answer in any order.\n",
    "```"
   ]
  },
  {
   "cell_type": "code",
   "execution_count": 5,
   "metadata": {},
   "outputs": [
    {
     "name": "stdout",
     "output_type": "stream",
     "text": [
      "[0, 1]\n"
     ]
    }
   ],
   "source": [
    "def TwoSum(nums, target):\n",
    "    for i in range(len(nums)):\n",
    "        for j in range(i + 1, len(nums)):\n",
    "            if nums[i] + nums[j] == target:\n",
    "                return [i, j]\n",
    "    return []\n",
    "\n",
    "nums = [2,7,11,15]\n",
    "target = 9\n",
    "result = TwoSum(nums, target)\n",
    "print(result)"
   ]
  },
  {
   "cell_type": "markdown",
   "metadata": {},
   "source": [
    "# Palindrome\n",
    "\n"
   ]
  },
  {
   "cell_type": "code",
   "execution_count": 8,
   "metadata": {},
   "outputs": [
    {
     "name": "stdout",
     "output_type": "stream",
     "text": [
      "True\n"
     ]
    }
   ],
   "source": [
    "class Solution:\n",
    "    def isPalindrome(self, x):\n",
    "            \"\"\"\n",
    "            :type x: int\n",
    "            :rtype: bool\n",
    "            \"\"\"\n",
    "            rev = str(x)[::-1] #or using in-built rev = ''.join(reversed(str(x)))\n",
    "            return str(x) == rev\n",
    "    \n",
    "sol = Solution()\n",
    "print(sol.isPalindrome(121))"
   ]
  },
  {
   "cell_type": "code",
   "execution_count": 5,
   "metadata": {},
   "outputs": [
    {
     "name": "stdout",
     "output_type": "stream",
     "text": [
      "'12121' is a palindrome!\n"
     ]
    }
   ],
   "source": [
    "def is_palindrome(input_value):\n",
    "    # Convert the input to a string, as the input could be a number or text\n",
    "    input_str = str(input_value)\n",
    "    \n",
    "    # Find the length of the string to know how many comparisons to make\n",
    "    length = len(input_str)\n",
    "    \n",
    "    # Iterate only up to the middle of the string (length // 2)\n",
    "    for i in range(length // 2):\n",
    "        # Compare the character at the current index `i` \n",
    "        # with the character at the mirrored index from the end\n",
    "        if input_str[i] != input_str[length - i - 1]:\n",
    "            # If any characters don't match, it is not a palindrome\n",
    "            return False\n",
    "    \n",
    "    # If the loop completes without finding mismatches, it is a palindrome\n",
    "    return True\n",
    "\n",
    "# Prompt the user to enter a value (could be a string or number)\n",
    "user_input = input(\"Enter a value: \")\n",
    "\n",
    "# Call the is_palindrome function to check if the input is a palindrome\n",
    "if is_palindrome(user_input):\n",
    "    # If the function returns True, it is a palindrome\n",
    "    print(f\"'{user_input}' is a palindrome!\")\n",
    "else:\n",
    "    # If the function returns False, it is not a palindrome\n",
    "    print(f\"'{user_input}' is not a palindrome.\")\n"
   ]
  },
  {
   "cell_type": "markdown",
   "metadata": {},
   "source": [
    "# Roman to Integer\n",
    "\n",
    "Roman numerals are represented by seven different symbols: I, V, X, L, C, D and M.\n",
    "\n",
    "\n",
    "<pre><strong>Symbol</strong>       <strong>Value</strong>\n",
    "I             1\n",
    "V             5\n",
    "X             10\n",
    "L             50\n",
    "C             100\n",
    "D             500\n",
    "M             1000</pre>"
   ]
  },
  {
   "cell_type": "code",
   "execution_count": 11,
   "metadata": {},
   "outputs": [
    {
     "name": "stdout",
     "output_type": "stream",
     "text": [
      "1994\n"
     ]
    }
   ],
   "source": [
    "class Roman_to_int_Solution:\n",
    "    def romanToInt(self, s: str) -> int:\n",
    "        res, prev = 0, 0\n",
    "        dict = {'I':1, 'V':5, 'X':10, 'L':50, 'C':100, 'D':500, 'M':1000}\n",
    "        for i in s[::-1]:          # rev the s\n",
    "            if dict[i] >= prev:\n",
    "                res += dict[i]     # sum the value iff previous value same or more\n",
    "            else:\n",
    "                res -= dict[i]     # substract when value is like \"IV\" --> 5-1, \"IX\" --> 10 -1 etc \n",
    "            prev = dict[i]\n",
    "        return res\n",
    "\n",
    "sol = Roman_to_int_Solution()\n",
    "print(sol.romanToInt('MCMXCIV'))\n"
   ]
  },
  {
   "cell_type": "markdown",
   "metadata": {},
   "source": [
    "# Fibonacci sequence\n",
    "\n",
    "- next item is the sum of 2 previous numbers"
   ]
  },
  {
   "cell_type": "code",
   "execution_count": 13,
   "metadata": {},
   "outputs": [
    {
     "name": "stdout",
     "output_type": "stream",
     "text": [
      "[0, 1, 1, 2, 3, 5]\n"
     ]
    }
   ],
   "source": [
    "def fibonacci_sequence(n):\n",
    "    sequence = []\n",
    "    a, b = 0, 1\n",
    "    for _ in range(n):\n",
    "        sequence.append(a)\n",
    "        a, b = b, a + b\n",
    "    return sequence\n",
    "\n",
    "# Example: Fibonacci sequence up to the 6th number\n",
    "print(fibonacci_sequence(6))  # Output: [0, 1, 1, 2, 3, 5]\n"
   ]
  },
  {
   "cell_type": "markdown",
   "metadata": {},
   "source": [
    "\n",
    "# 1. How will you access the dataset of a publicly shared spreadsheet in CSV format stored in Google Drive?\n",
    "\n",
    "in this sample I used local csv file"
   ]
  },
  {
   "cell_type": "code",
   "execution_count": null,
   "metadata": {},
   "outputs": [],
   "source": [
    "from io import StringIO\n",
    "import pandas as pd\n",
    "import requests\n",
    "\n",
    "csv_link = \"https://people.sc.fsu.edu/~jburkardt/data/csv/airtravel.csv\"\n",
    "response = requests.get(csv_link)\n",
    "data_source = StringIO(response.text)  # Use response.text for text-based input\n",
    "dataframe = pd.read_csv(data_source)\n",
    "print(dataframe.head())\n"
   ]
  },
  {
   "cell_type": "code",
   "execution_count": null,
   "metadata": {},
   "outputs": [],
   "source": [
    "import pandas as pd\n",
    "\n",
    "# Read the local CSV file\n",
    "csv_link = \"C:/Users/crameya02/Downloads/Interview/Technical/Phyton/Coding/test.csv\"  # Ensure the file is in the same directory as your script\n",
    "dataframe = pd.read_csv(csv_link)\n",
    "print(dataframe.head())\n",
    "\n"
   ]
  },
  {
   "cell_type": "markdown",
   "metadata": {},
   "source": [
    "# 2. Write a Program to combine two different dictionaries. While combining, if you find the same keys, you can add the values of these same keys. Output the new dictionary"
   ]
  },
  {
   "cell_type": "code",
   "execution_count": 8,
   "metadata": {},
   "outputs": [
    {
     "name": "stdout",
     "output_type": "stream",
     "text": [
      "Counter({'key4': 300, 'key1': 250, 'key2': 200, 'key3': 200})\n",
      "{'key1': 250, 'key2': 200, 'key3': 200, 'key4': 300}\n"
     ]
    }
   ],
   "source": [
    "from collections import Counter\n",
    "d1 = {'key1': 50, 'key2': 100, 'key3':200}\n",
    "d2 = {'key1': 200, 'key2': 100, 'key4':300}\n",
    "new_dict = Counter(d1) + Counter(d2)\n",
    "print(new_dict)\n",
    "\n",
    "# if you want to sort\n",
    "sorted_dict = dict(sorted((Counter(d1) + Counter(d2)).items()))\n",
    "print(sorted_dict)\n",
    "\n"
   ]
  },
  {
   "cell_type": "markdown",
   "metadata": {},
   "source": [
    "# 3. Write a Program to convert date from yyyy-mm-dd format to dd-mm-yyyy format."
   ]
  },
  {
   "cell_type": "code",
   "execution_count": 9,
   "metadata": {},
   "outputs": [
    {
     "name": "stdout",
     "output_type": "stream",
     "text": [
      "01:08:2021\n"
     ]
    }
   ],
   "source": [
    "from datetime import datetime\n",
    "new_date = datetime.strptime(\"2021-08-01\", \"%Y-%m-%d\").strftime(\"%d:%m:%Y\")\n",
    "print(new_date)"
   ]
  },
  {
   "cell_type": "markdown",
   "metadata": {},
   "source": [
    "# 4. Write a Program to match a string that has the letter ‘a’ followed by 4 to 8 'b’s."
   ]
  },
  {
   "cell_type": "code",
   "execution_count": 12,
   "metadata": {},
   "outputs": [
    {
     "name": "stdout",
     "output_type": "stream",
     "text": [
      "Match not found\n",
      "Match found\n"
     ]
    }
   ],
   "source": [
    "import re\n",
    "def match_text(txt_data):\n",
    "       pattern = 'ab{4,8}'\n",
    "       if re.search(pattern,  txt_data):    #search for pattern in txt_data\n",
    "           return 'Match found'\n",
    "       else:\n",
    "           return('Match not found')\n",
    "print(match_text(\"abc\"))         #prints Match not found\n",
    "print(match_text(\"aabbbbbc\"))    #prints Match found"
   ]
  },
  {
   "cell_type": "markdown",
   "metadata": {},
   "source": [
    "# 5. Write a Program to add two integers >0 without using the plus operator."
   ]
  },
  {
   "cell_type": "code",
   "execution_count": 13,
   "metadata": {},
   "outputs": [
    {
     "name": "stdout",
     "output_type": "stream",
     "text": [
      "12\n"
     ]
    }
   ],
   "source": [
    "def add_nums(num1, num2):\n",
    "   while num2 != 0:\n",
    "       data = num1 & num2\n",
    "       num1 = num1 ^ num2\n",
    "       num2 = data << 1\n",
    "   return num1\n",
    "print(add_nums(2, 10))"
   ]
  },
  {
   "cell_type": "markdown",
   "metadata": {},
   "source": [
    "# 6. Write a program to check and return the pairs of a given array A whose sum value is equal to a target value N."
   ]
  },
  {
   "cell_type": "code",
   "execution_count": 15,
   "metadata": {},
   "outputs": [
    {
     "name": "stdout",
     "output_type": "stream",
     "text": [
      "Pairs 9, 40\n"
     ]
    }
   ],
   "source": [
    "def print_pairs(arr, N):\n",
    "   # hash set\n",
    "   hash_set = set()\n",
    "    \n",
    "   for i in range(0, len(arr)):\n",
    "       val = N-arr[i]\n",
    "       if (val in hash_set):    #check if N-x is there in set, print the pair\n",
    "           print(\"Pairs \" + str(arr[i]) + \", \" + str(val))\n",
    "       hash_set.add(arr[i])\n",
    "\n",
    "# driver code\n",
    "arr = [1, 2, 40, 3, 9, 4]\n",
    "N = 49\n",
    "print_pairs(arr, N)"
   ]
  },
  {
   "cell_type": "markdown",
   "metadata": {},
   "source": [
    "# 8. Write a program for counting the number of every character of a given text file."
   ]
  },
  {
   "cell_type": "code",
   "execution_count": null,
   "metadata": {},
   "outputs": [],
   "source": [
    "import collections\n",
    "import pprint\n",
    "with open(\"test.csv\", 'r') as data:\n",
    " count_data = collections.Counter(data.read().upper())\n",
    " count_value = pprint.pformat(count_data)\n",
    "print(count_value)"
   ]
  },
  {
   "cell_type": "markdown",
   "metadata": {},
   "source": [
    "# 9. Write a program which takes a sequence of numbers and check if all numbers are unique."
   ]
  },
  {
   "cell_type": "code",
   "execution_count": 17,
   "metadata": {},
   "outputs": [
    {
     "name": "stdout",
     "output_type": "stream",
     "text": [
      "True\n",
      "False\n"
     ]
    }
   ],
   "source": [
    "def check_distinct(data_list):\n",
    " if len(data_list) == len(set(data_list)):\n",
    "   return True\n",
    " else:\n",
    "   return False;\n",
    "print(check_distinct([1,6,5,8]))     #Prints True\n",
    "print(check_distinct([2,2,5,5,7,8])) #Prints False"
   ]
  },
  {
   "cell_type": "markdown",
   "metadata": {},
   "source": [
    "# 10. Write python function which takes a variable number of arguments."
   ]
  },
  {
   "cell_type": "code",
   "execution_count": null,
   "metadata": {},
   "outputs": [],
   "source": [
    "def func(*var):\n",
    "   for i in var:\n",
    "       print(i)\n",
    "func(1)\n",
    "func(20,1,6)"
   ]
  },
  {
   "cell_type": "markdown",
   "metadata": {},
   "source": [
    "# Loops"
   ]
  },
  {
   "cell_type": "code",
   "execution_count": null,
   "metadata": {},
   "outputs": [],
   "source": [
    "#While loop\n",
    "n = 0\n",
    "while n < 5:\n",
    "    print(n)\n",
    "    n +=1"
   ]
  },
  {
   "cell_type": "code",
   "execution_count": null,
   "metadata": {},
   "outputs": [],
   "source": [
    "# using range (index)\n",
    "nums = [1,3,4,8]\n",
    "\n",
    "for i in range(len(nums)):\n",
    "    print(nums[i])"
   ]
  },
  {
   "cell_type": "code",
   "execution_count": null,
   "metadata": {},
   "outputs": [],
   "source": [
    "# without using index\n",
    "\n",
    "nums = [1,3,4,8]\n",
    "\n",
    "for num in nums:\n",
    "    print(num)"
   ]
  },
  {
   "cell_type": "code",
   "execution_count": null,
   "metadata": {},
   "outputs": [],
   "source": [
    "# Loop through multiple arrays simultaneously\n",
    "# with unpacking\n",
    "\n",
    "nums1 = [1,3,5]\n",
    "nums2 = [2,4,6]\n",
    "\n",
    "for i in zip(nums1,nums2):\n",
    "    print(i)"
   ]
  },
  {
   "cell_type": "code",
   "execution_count": null,
   "metadata": {},
   "outputs": [],
   "source": [
    "# using enumerate\n",
    "nums = [1,3,4,8]\n",
    "\n",
    "for i, n in enumerate(nums):\n",
    "    print(i,n)"
   ]
  },
  {
   "cell_type": "code",
   "execution_count": null,
   "metadata": {},
   "outputs": [],
   "source": [
    "for i in range(5):\n",
    "    print(i)\n",
    "    \n",
    "for j in range(2,6):\n",
    "    print(j)\n",
    "\n",
    "for k in range(5,1,-1):\n",
    "    print(k)"
   ]
  },
  {
   "cell_type": "markdown",
   "metadata": {},
   "source": [
    "# Division\n"
   ]
  },
  {
   "cell_type": "code",
   "execution_count": 16,
   "metadata": {},
   "outputs": [
    {
     "name": "stdout",
     "output_type": "stream",
     "text": [
      "2.5\n",
      "2\n",
      "-2\n",
      "-1\n"
     ]
    }
   ],
   "source": [
    "# Division is decimal by default\n",
    "print(5 / 2)\n",
    "\n",
    "# Double slash rounds down\n",
    "print(5 // 2)\n",
    "\n",
    "# CAREFUL: most languages round towards 0 by \n",
    "# default so negative numbers will round down\n",
    "print(-3 // 2)\n",
    "\n",
    "# A workaround for rounding towards zero is to\n",
    "# use decimal division and then convert to int\n",
    "print(int(-3 / 2))"
   ]
  },
  {
   "cell_type": "markdown",
   "metadata": {},
   "source": [
    "# Modding (remainder)"
   ]
  },
  {
   "cell_type": "code",
   "execution_count": 17,
   "metadata": {},
   "outputs": [
    {
     "name": "stdout",
     "output_type": "stream",
     "text": [
      "1\n",
      "2\n"
     ]
    }
   ],
   "source": [
    "# Modding is similar to most languages\n",
    "print(10 % 3)\n",
    "\n",
    "# Except for negative values\n",
    "print(-10 % 3)"
   ]
  },
  {
   "cell_type": "code",
   "execution_count": 18,
   "metadata": {},
   "outputs": [
    {
     "name": "stdout",
     "output_type": "stream",
     "text": [
      "-1.0\n"
     ]
    }
   ],
   "source": [
    "# to be consistent with other languages modulo\n",
    "import math\n",
    "print(math.fmod(-10, 3))"
   ]
  },
  {
   "cell_type": "markdown",
   "metadata": {},
   "source": [
    "# HashMap\n",
    "- is a data structure that provides an efficient way to store and retrieve data using key-value pairs. \n",
    "- It is implemented using a hash table in most programming languages, and it is known for its constant time complexity \n",
    "for lookup, insertion, and deletion operations (in average cases).\n",
    "\n",
    "\n",
    "### **Key Features of a HashMap:**\n",
    "\n",
    "1.  **Key-Value Pairs**:\n",
    "    \n",
    "    -   Each element in the HashMap is a pair of a **key** and its corresponding **value**.\n",
    "    -   The key is unique, and it is used to access its associated value.\n",
    "2.  **Hashing**:\n",
    "    \n",
    "    -   Hashing is the process of converting the key into a hash code (an integer) using a **hash function**.\n",
    "    -   The hash code determines the index where the key-value pair will be stored in the underlying array.\n",
    "3.  **Fast Access**:\n",
    "    \n",
    "    -   By using the hash code to directly locate an element, HashMaps can provide very fast access to values.\n",
    "4.  **Collision Handling**:\n",
    "    \n",
    "    -   If two keys produce the same hash code (a collision), the HashMap uses strategies like **chaining** or **open addressing** to resolve it."
   ]
  },
  {
   "cell_type": "code",
   "execution_count": 31,
   "metadata": {},
   "outputs": [
    {
     "name": "stdout",
     "output_type": "stream",
     "text": [
      "85\n",
      "Bob's score: 90\n",
      "Alice: 85\n",
      "Bob: 90\n",
      "85\n",
      "90\n"
     ]
    }
   ],
   "source": [
    "# Creating a HashMap (Dictionary)\n",
    "hash_map = {}\n",
    "\n",
    "# Adding key-value pairs\n",
    "hash_map['Alice'] = 85\n",
    "hash_map['Bob'] = 90\n",
    "hash_map['Charlie'] = 88\n",
    "\n",
    "# Accessing values using keys\n",
    "print(hash_map['Alice'])  # Output: 85\n",
    "\n",
    "# Checking if a key exists\n",
    "if 'Bob' in hash_map:\n",
    "    print(\"Bob's score:\", hash_map['Bob'])  # Output: Bob's score: 90\n",
    "\n",
    "# Removing a key-value pair\n",
    "del hash_map['Charlie']\n",
    "\n",
    "# Iterating over a HashMap\n",
    "for key, value in hash_map.items():\n",
    "    print(f\"{key}: {value}\")\n",
    "    \n",
    "for val in hash_map.values():\n",
    "    print(val)\n",
    "\n",
    "# Output:\n",
    "# Alice: 85\n",
    "# Bob: 90\n"
   ]
  },
  {
   "cell_type": "code",
   "execution_count": 29,
   "metadata": {},
   "outputs": [
    {
     "name": "stdout",
     "output_type": "stream",
     "text": [
      "{0: 0, 1: 2, 2: 4, 3: 6, 4: 8}\n"
     ]
    }
   ],
   "source": [
    "# Dict Comprehension\n",
    "\n",
    "myMap = {i: 2*i for i in range(5)}\n",
    "print(myMap)"
   ]
  },
  {
   "cell_type": "markdown",
   "metadata": {},
   "source": [
    "# Math Helpers"
   ]
  },
  {
   "cell_type": "code",
   "execution_count": 21,
   "metadata": {},
   "outputs": [
    {
     "name": "stdout",
     "output_type": "stream",
     "text": [
      "1\n",
      "2\n",
      "4.47213595499958\n",
      "8.0\n"
     ]
    }
   ],
   "source": [
    "import math\n",
    "\n",
    "print(math.floor(3/2)) # method rounds a number DOWN to the nearest integer, if necessary, and returns the result.\n",
    "print(math.ceil(3/2))  # method rounds a number rounded UP to the nearest integer.\n",
    "print(math.sqrt(20))   # square root of\n",
    "print(math.pow(2,3))   # power"
   ]
  },
  {
   "cell_type": "markdown",
   "metadata": {},
   "source": [
    "# MinMax numbers"
   ]
  },
  {
   "cell_type": "code",
   "execution_count": 28,
   "metadata": {},
   "outputs": [
    {
     "name": "stdout",
     "output_type": "stream",
     "text": [
      "max number is 8\n",
      "max number is 1\n"
     ]
    }
   ],
   "source": [
    "# using sorted\n",
    "num_list = [3,4,5,1,8,2]\n",
    "result = sorted(num_list)\n",
    "print(f\"max number is {result[-1]}\")\n",
    "print(f\"max number is {result[0]}\")\n"
   ]
  },
  {
   "cell_type": "code",
   "execution_count": 38,
   "metadata": {},
   "outputs": [
    {
     "name": "stdout",
     "output_type": "stream",
     "text": [
      "min number is 1\n",
      "max number is 8\n",
      "min number is 1\n"
     ]
    }
   ],
   "source": [
    "# Using built-in function\n",
    "num_list = [3, 4, 5, 1, 8, 2]\n",
    "\n",
    "# Using min() and max()\n",
    "min_num = min(num_list)\n",
    "max_num = max(num_list)\n",
    "\n",
    "print(f\"min number is {min_num}\")\n",
    "print(f\"max number is {max_num}\")\n",
    "\n",
    "print(f\"min number is {min(num_list)}\")\n",
    "print(f\"min number is {max(num_list)}\")"
   ]
  },
  {
   "cell_type": "code",
   "execution_count": 37,
   "metadata": {},
   "outputs": [
    {
     "name": "stdout",
     "output_type": "stream",
     "text": [
      "min number is 1\n",
      "max number is 8\n"
     ]
    }
   ],
   "source": [
    "# without using built in function\n",
    "\n",
    "num_list = [3, 4, 5, 1, 8, 2]\n",
    "\n",
    "# Custom logic for min and max\n",
    "min_num = float('inf')  # Initialize with a very large value\n",
    "max_num = float('-inf')  # Initialize with a very small value\n",
    "\n",
    "for num in num_list:\n",
    "    if num < min_num:\n",
    "        min_num = num\n",
    "    if num > max_num:\n",
    "        max_num = num\n",
    "\n",
    "print(f\"min number is {min_num}\")\n",
    "print(f\"max number is {max_num}\")\n"
   ]
  },
  {
   "cell_type": "code",
   "execution_count": 35,
   "metadata": {},
   "outputs": [
    {
     "name": "stdout",
     "output_type": "stream",
     "text": [
      "max number is 8\n",
      "min number is 1\n"
     ]
    }
   ],
   "source": [
    "# using bubble sort\n",
    "def arraySort(arr):\n",
    "    n = len(arr)\n",
    "    for i in range(n):\n",
    "        for j in range(0, n-i-1):\n",
    "            if arr[j] > arr[j+1]:\n",
    "                arr[j], arr[j+1] = arr[j+1], arr[j]\n",
    "    return arr\n",
    "\n",
    "num_list  = [3,4,5,1,8,2]\n",
    "sorted_array = arraySort(num_list)\n",
    "print(f\"max number is {sorted_array[-1]}\")\n",
    "print(f\"min number is {sorted_array[0]}\")"
   ]
  },
  {
   "cell_type": "markdown",
   "metadata": {},
   "source": [
    "# Lists"
   ]
  },
  {
   "cell_type": "code",
   "execution_count": 49,
   "metadata": {},
   "outputs": [
    {
     "name": "stdout",
     "output_type": "stream",
     "text": [
      "[1, 3, 4]\n",
      "[1, 3, 4, 5, 6]\n",
      "[1, 3, 4, 5]\n",
      "[1, 2, 3, 4, 5]\n",
      "[0, 2, 3, 0, 5]\n"
     ]
    }
   ],
   "source": [
    "arr = [1,3,4]\n",
    "print(arr)\n",
    "\n",
    "arr.append(5)\n",
    "arr.append(6)\n",
    "print(arr)\n",
    "arr.pop()\n",
    "print(arr)\n",
    "\n",
    "arr.insert(1,2) # O of n in time complexity but using index is constant time\n",
    "print(arr)\n",
    "\n",
    "arr[0]=0\n",
    "arr[3]=0\n",
    "print(arr)\n",
    "\n"
   ]
  },
  {
   "cell_type": "markdown",
   "metadata": {},
   "source": [
    "## List Compreshension"
   ]
  },
  {
   "cell_type": "code",
   "execution_count": 14,
   "metadata": {},
   "outputs": [
    {
     "name": "stdout",
     "output_type": "stream",
     "text": [
      "[0, 1, 2, 3, 4]\n",
      "[0, 2, 4, 6, 8]\n"
     ]
    }
   ],
   "source": [
    "arr = [i for i in range(5)]\n",
    "print(arr)\n",
    "\n",
    "arr1 = [i+i for i in range(5)]\n",
    "print(arr1)"
   ]
  },
  {
   "cell_type": "markdown",
   "metadata": {},
   "source": [
    "# 2D list"
   ]
  },
  {
   "cell_type": "code",
   "execution_count": 15,
   "metadata": {},
   "outputs": [
    {
     "name": "stdout",
     "output_type": "stream",
     "text": [
      "[[0, 0, 0, 0], [0, 0, 0, 0], [0, 0, 0, 0], [0, 0, 0, 0]]\n"
     ]
    }
   ],
   "source": [
    "arr = [[0]*4 for i in range(4)]\n",
    "print(arr)"
   ]
  },
  {
   "cell_type": "markdown",
   "metadata": {},
   "source": [
    "# Unpacking"
   ]
  },
  {
   "cell_type": "code",
   "execution_count": 50,
   "metadata": {},
   "outputs": [
    {
     "name": "stdout",
     "output_type": "stream",
     "text": [
      "1 3 4\n"
     ]
    }
   ],
   "source": [
    "a, b, c = [1,3,4]\n",
    "print(a,b,c)"
   ]
  },
  {
   "cell_type": "markdown",
   "metadata": {},
   "source": [
    "# Reversing"
   ]
  },
  {
   "cell_type": "code",
   "execution_count": 5,
   "metadata": {},
   "outputs": [
    {
     "name": "stdout",
     "output_type": "stream",
     "text": [
      "[3, 2, 1]\n"
     ]
    }
   ],
   "source": [
    "nums = [1,2,3]\n",
    "nums.reverse()\n",
    "print(nums)"
   ]
  },
  {
   "cell_type": "markdown",
   "metadata": {},
   "source": [
    "# Sorting"
   ]
  },
  {
   "cell_type": "code",
   "execution_count": 6,
   "metadata": {},
   "outputs": [
    {
     "name": "stdout",
     "output_type": "stream",
     "text": [
      "[1, 2, 3, 4, 8, 9]\n"
     ]
    }
   ],
   "source": [
    "# Sort ascending\n",
    "nums = [4,8,9,1,2,3]\n",
    "nums.sort()\n",
    "print(nums)\n"
   ]
  },
  {
   "cell_type": "code",
   "execution_count": 7,
   "metadata": {},
   "outputs": [
    {
     "name": "stdout",
     "output_type": "stream",
     "text": [
      "[9, 8, 4, 3, 2, 1]\n"
     ]
    }
   ],
   "source": [
    "# Sort descending\n",
    "nums = [4,8,9,1,2,3]\n",
    "nums.sort(reverse=True)\n",
    "print(nums)"
   ]
  },
  {
   "cell_type": "code",
   "execution_count": 9,
   "metadata": {},
   "outputs": [
    {
     "name": "stdout",
     "output_type": "stream",
     "text": [
      "['ace', 'bob', 'charlie', 'faye']\n",
      "['ace', 'bob', 'faye', 'charlie']\n"
     ]
    }
   ],
   "source": [
    "arr = ['bob','ace','charlie','faye']\n",
    "arr.sort()\n",
    "print(arr)\n",
    "\n",
    "# Custom sort by string length\n",
    "\n",
    "arr.sort(key=lambda x: len(x))\n",
    "print(arr)"
   ]
  },
  {
   "cell_type": "markdown",
   "metadata": {},
   "source": [
    "# Combine Strings "
   ]
  },
  {
   "cell_type": "code",
   "execution_count": 17,
   "metadata": {},
   "outputs": [
    {
     "name": "stdout",
     "output_type": "stream",
     "text": [
      "abcdef\n",
      "ab,,cd,,ef\n"
     ]
    }
   ],
   "source": [
    "strings = ['ab','cd','ef']\n",
    "print(\"\".join(strings))"
   ]
  },
  {
   "cell_type": "markdown",
   "metadata": {},
   "source": [
    "# Queues (double ended)"
   ]
  },
  {
   "cell_type": "code",
   "execution_count": 21,
   "metadata": {},
   "outputs": [
    {
     "name": "stdout",
     "output_type": "stream",
     "text": [
      "deque([1, 2])\n",
      "deque([2])\n",
      "deque([1, 2])\n",
      "deque([1])\n"
     ]
    }
   ],
   "source": [
    "from collections import deque\n",
    "\n",
    "queue = deque()\n",
    "queue.append(1)\n",
    "queue.append(2)\n",
    "print(queue)\n",
    "\n",
    "queue.popleft()\n",
    "print(queue)\n",
    "\n",
    "queue.appendleft(1)\n",
    "print(queue)\n",
    "\n",
    "queue.pop()\n",
    "print(queue)"
   ]
  },
  {
   "cell_type": "markdown",
   "metadata": {},
   "source": [
    "# Hash Sets"
   ]
  },
  {
   "cell_type": "code",
   "execution_count": null,
   "metadata": {},
   "outputs": [],
   "source": [
    "mySet = set()\n",
    "\n",
    "mySet.add(1)\n",
    "mySet.add(2)\n",
    "print(mySet)\n",
    "\n",
    "print(len(mySet))\n",
    "\n",
    "print(1 in mySet)\n",
    "print(2 in mySet)\n",
    "print(3 in mySet)\n",
    "\n",
    "mySet.remove(2)\n",
    "print(mySet)\n"
   ]
  },
  {
   "cell_type": "code",
   "execution_count": 28,
   "metadata": {},
   "outputs": [
    {
     "name": "stdout",
     "output_type": "stream",
     "text": [
      "{1, 2, 3, 5}\n",
      "{0, 1, 2, 3, 4}\n"
     ]
    }
   ],
   "source": [
    "# list to set\n",
    "\n",
    "print(set([1,2,3,5]))\n",
    "\n",
    "# set comprehension\n",
    "\n",
    "mySet={ i for i in range(5)}\n",
    "print(mySet)"
   ]
  },
  {
   "cell_type": "markdown",
   "metadata": {},
   "source": [
    "# Heaps"
   ]
  },
  {
   "cell_type": "code",
   "execution_count": 37,
   "metadata": {},
   "outputs": [
    {
     "name": "stdout",
     "output_type": "stream",
     "text": [
      "2\n",
      "2\n",
      "4\n",
      "3\n",
      "5\n"
     ]
    }
   ],
   "source": [
    "import heapq\n",
    "\n",
    "minHeap = []\n",
    "heapq.heappush(minHeap, 5)\n",
    "heapq.heappush(minHeap, 2)\n",
    "heapq.heappush(minHeap, 3)\n",
    "heapq.heappush(minHeap, 4)\n",
    "\n",
    "print(minHeap[0]) # minimum is always at index 0\n",
    "\n",
    "while len(minHeap):\n",
    "    print(heapq.heappop(minHeap))\n",
    "    \n",
    "\n",
    "\n"
   ]
  },
  {
   "cell_type": "code",
   "execution_count": null,
   "metadata": {},
   "outputs": [],
   "source": [
    "# max Heap - no max heap by default , the work around is to use negative numbers\n",
    "\n",
    "maxHeap = []\n",
    "\n",
    "heapq.heappush(maxHeap, -5)\n",
    "heapq.heappush(maxHeap, -2)\n",
    "heapq.heappush(maxHeap, -3)\n",
    "heapq.heappush(maxHeap, -4)\n",
    "\n",
    "print(-1 * maxHeap[0])\n",
    "\n",
    "while len(maxHeap):\n",
    "    print(-1 * heapq.heappop(maxHeap))\n",
    "\n"
   ]
  },
  {
   "cell_type": "code",
   "execution_count": null,
   "metadata": {},
   "outputs": [],
   "source": [
    "# if you have already an list \n",
    "import heapq\n",
    "\n",
    "arr = [5,8,6,1,3,4]\n",
    "heapq.heapify(arr)\n",
    "while arr:\n",
    "    print(heapq.heappop(arr))"
   ]
  },
  {
   "cell_type": "markdown",
   "metadata": {},
   "source": [
    "# Modify objects but not reaasign"
   ]
  },
  {
   "cell_type": "code",
   "execution_count": 44,
   "metadata": {},
   "outputs": [
    {
     "name": "stdout",
     "output_type": "stream",
     "text": [
      "[2, 4] 6\n"
     ]
    }
   ],
   "source": [
    "# using nonlocal keyword\n",
    "def double(arr, val):\n",
    "    def helper():\n",
    "        for i, n in enumerate(arr):\n",
    "            arr[i] *= 2\n",
    "        # if you put val inside of the inner function you can't access it, you can use global scope parameter pass or use nonlocal keyword\n",
    "        nonlocal val\n",
    "        val *= 2\n",
    "    helper()\n",
    "    print(arr,val)  \n",
    "    \n",
    "nums = [1,2]\n",
    "val = 3\n",
    "double(nums,val)       \n",
    "        "
   ]
  },
  {
   "cell_type": "markdown",
   "metadata": {},
   "source": [
    "# Class"
   ]
  },
  {
   "cell_type": "code",
   "execution_count": 46,
   "metadata": {},
   "outputs": [
    {
     "data": {
      "text/plain": [
       "3"
      ]
     },
     "execution_count": 46,
     "metadata": {},
     "output_type": "execute_result"
    }
   ],
   "source": [
    "class MyClass:\n",
    "    # Constructor:\n",
    "    def __init__(self, nums):\n",
    "        # Create member variables\n",
    "        self.nums = nums\n",
    "        self.size = len(nums)\n",
    "    \n",
    "    def getLength(self):\n",
    "        return self.size\n",
    "    \n",
    "\n",
    "arr = [1,2,3]\n",
    "test = MyClass(arr)\n",
    "test.getLength()"
   ]
  }
 ],
 "metadata": {
  "kernelspec": {
   "display_name": "Python 3",
   "language": "python",
   "name": "python3"
  },
  "language_info": {
   "codemirror_mode": {
    "name": "ipython",
    "version": 3
   },
   "file_extension": ".py",
   "mimetype": "text/x-python",
   "name": "python",
   "nbconvert_exporter": "python",
   "pygments_lexer": "ipython3",
   "version": "3.11.9"
  },
  "polyglot_notebook": {
   "kernelInfo": {
    "defaultKernelName": "csharp",
    "items": [
     {
      "aliases": [],
      "name": "csharp"
     }
    ]
   }
  }
 },
 "nbformat": 4,
 "nbformat_minor": 2
}
