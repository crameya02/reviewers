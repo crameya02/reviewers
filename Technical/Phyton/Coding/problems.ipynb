{
 "cells": [
  {
   "cell_type": "markdown",
   "metadata": {},
   "source": [
    "## Sort array with squares!\n",
    "\n",
    "Given a sorted array A containing N integers both positive and negative.\n",
    "\n",
    "You need to create another array containing the squares of all the elements in A and return it in non-decreasing order."
   ]
  },
  {
   "cell_type": "code",
   "execution_count": 1,
   "metadata": {},
   "outputs": [
    {
     "name": "stdout",
     "output_type": "stream",
     "text": [
      "[1, 4, 9, 16, 25, 36]\n"
     ]
    }
   ],
   "source": [
    "\n",
    "class Solution:\n",
    "    # @param A : list of integers\n",
    "    # @return a list of integers\n",
    "    def solve(self, A):\n",
    "        result = []\n",
    "        for x in A:\n",
    "            x_sqrt = x ** 2\n",
    "            result.append(x_sqrt)\n",
    "        result.sort()\n",
    "        return result\n",
    "\n",
    "sol = Solution()  \n",
    "A = [-6, -3, -1, 2, 4, 5]   \n",
    "print(sol.solve(A))    \n",
    "                \n"
   ]
  },
  {
   "cell_type": "markdown",
   "metadata": {},
   "source": [
    "## Bubble sort"
   ]
  },
  {
   "cell_type": "code",
   "execution_count": 28,
   "metadata": {},
   "outputs": [
    {
     "name": "stdout",
     "output_type": "stream",
     "text": [
      "[1, 2, 3, 4, 8, 9]\n",
      "[1, 2, 3, 4, 8, 9]\n"
     ]
    }
   ],
   "source": [
    "def arraySort(arr):\n",
    "    # Implementing Bubble Sort for simplicity\n",
    "    n = len(arr)\n",
    "    for i in range(n):\n",
    "        for j in range(0, n - i - 1):  # Compare adjacent elements\n",
    "            if arr[j] > arr[j + 1]:  # Swap if elements are out of order\n",
    "                arr[j], arr[j + 1] = arr[j + 1], arr[j]\n",
    "    return arr  # Return the sorted array\n",
    "\n",
    "input_array = [1, 3, 4, 8, 2, 9]\n",
    "sorted_array = arraySort(input_array)\n",
    "print(sorted_array)\n",
    "\n",
    "# You can use the built-in sort method\n",
    "print(sorted(input_array))\n"
   ]
  },
  {
   "cell_type": "markdown",
   "metadata": {},
   "source": [
    "# Converting an integer into Decimals"
   ]
  },
  {
   "cell_type": "code",
   "execution_count": 1,
   "metadata": {},
   "outputs": [
    {
     "name": "stdout",
     "output_type": "stream",
     "text": [
      "10\n",
      "<class 'decimal.Decimal'>\n"
     ]
    }
   ],
   "source": [
    "import decimal\n",
    "\n",
    "integer = 10\n",
    "print(decimal.Decimal(integer))\n",
    "print(type(decimal.Decimal(integer)))\n"
   ]
  },
  {
   "cell_type": "markdown",
   "metadata": {},
   "source": [
    "# Random number"
   ]
  },
  {
   "cell_type": "code",
   "execution_count": 1,
   "metadata": {},
   "outputs": [
    {
     "name": "stdout",
     "output_type": "stream",
     "text": [
      "89\n"
     ]
    }
   ],
   "source": [
    "import random\n",
    "\n",
    "random_number = random.randint(1, 100)\n",
    "print(random_number)"
   ]
  },
  {
   "cell_type": "markdown",
   "metadata": {},
   "source": [
    "# Prime Number"
   ]
  },
  {
   "cell_type": "code",
   "execution_count": 6,
   "metadata": {},
   "outputs": [
    {
     "name": "stdout",
     "output_type": "stream",
     "text": [
      "2 is a prime number.\n",
      "Prime numbers between 2 and 50: [2, 3, 5, 7, 11, 13, 17, 19, 23, 29, 31, 37, 41, 43, 47]\n"
     ]
    }
   ],
   "source": [
    "def is_prime(n):\n",
    "    # A prime number must be greater than 1\n",
    "    if n <= 1:\n",
    "        return False\n",
    "    \n",
    "    # Check divisors from 2 to √n\n",
    "    for i in range(2, int(n ** 0.5) + 1):\n",
    "        if n % i == 0:\n",
    "            return False  # If divisible by any number in range, not prime\n",
    "    \n",
    "    # If no divisors found, it is prime\n",
    "    return True\n",
    "\n",
    "# Input from user\n",
    "num = int(input(\"Enter a number: \"))\n",
    "\n",
    "# Check and output result\n",
    "if is_prime(num):\n",
    "    print(f\"{num} is a prime number.\")\n",
    "else:\n",
    "    print(f\"{num} is not a prime number.\")\n",
    "    \n",
    "def generate_primes(start, end):\n",
    "    primes = []\n",
    "    for num in range(start, end + 1):\n",
    "        if is_prime(num):\n",
    "            primes.append(num)\n",
    "    return primes\n",
    "\n",
    "# Input range from user\n",
    "start = int(input(\"Enter start of range: \"))\n",
    "end = int(input(\"Enter end of range: \"))\n",
    "\n",
    "# Generate and print primes\n",
    "prime_numbers = generate_primes(start, end)\n",
    "print(f\"Prime numbers between {start} and {end}: {prime_numbers}\")\n",
    "\n"
   ]
  },
  {
   "cell_type": "markdown",
   "metadata": {},
   "source": [
    "# Factorial"
   ]
  },
  {
   "cell_type": "code",
   "execution_count": 8,
   "metadata": {},
   "outputs": [
    {
     "name": "stdout",
     "output_type": "stream",
     "text": [
      "The factorial of 5 is: 120\n"
     ]
    }
   ],
   "source": [
    "def factorial(n):\n",
    "    # Factorial is undefined for negative numbers\n",
    "    if n < 0:\n",
    "        return \"Factorial is not defined for negative numbers.\"\n",
    "    # Factorial of 0 is 1\n",
    "    if n == 0:\n",
    "        return 1\n",
    "    \n",
    "    # Calculate factorial using a loop\n",
    "    result = 1\n",
    "    for i in range(1, n + 1):\n",
    "        result *= i  # Multiply result by current number i\n",
    "    return result\n",
    "\n",
    "# Input from user\n",
    "num = int(input(\"Enter a number: \"))\n",
    "\n",
    "# Calculate and display factorial\n",
    "print(f\"The factorial of {num} is: {factorial(num)}\")\n"
   ]
  },
  {
   "cell_type": "code",
   "execution_count": 9,
   "metadata": {},
   "outputs": [
    {
     "name": "stdout",
     "output_type": "stream",
     "text": [
      "The factorial of 5 is: 120\n"
     ]
    }
   ],
   "source": [
    "def factorial_recursive(n):\n",
    "    # Factorial is undefined for negative numbers\n",
    "    if n < 0:\n",
    "        return \"Factorial is not defined for negative numbers.\"\n",
    "    # Base case: factorial of 0 is 1\n",
    "    if n == 0:\n",
    "        return 1\n",
    "    # Recursive case: n! = n * (n-1)!\n",
    "    return n * factorial_recursive(n - 1)\n",
    "\n",
    "# Input from user\n",
    "num = int(input(\"Enter a number: \"))\n",
    "\n",
    "# Calculate and display factorial\n",
    "print(f\"The factorial of {num} is: {factorial_recursive(num)}\")\n"
   ]
  },
  {
   "cell_type": "code",
   "execution_count": 12,
   "metadata": {},
   "outputs": [
    {
     "name": "stdout",
     "output_type": "stream",
     "text": [
      "120\n"
     ]
    }
   ],
   "source": [
    "def factorial_while(n):\n",
    "    if n < 0:\n",
    "        return \"Factorial is not defined for negative numbers.\"\n",
    "    if n == 0:\n",
    "        return 1\n",
    "    \n",
    "    result = 1\n",
    "    while n > 0:\n",
    "        result *= n\n",
    "        n -= 1  # Decrease n\n",
    "    return result\n",
    "\n",
    "# Example usage\n",
    "print(factorial_while(5))  # Output: 120\n"
   ]
  },
  {
   "cell_type": "markdown",
   "metadata": {},
   "source": [
    "# Pyramid"
   ]
  },
  {
   "cell_type": "code",
   "execution_count": null,
   "metadata": {},
   "outputs": [],
   "source": [
    "def display_pyramid(n):\n",
    "    for i in range(n):\n",
    "        # Print spaces (n - i - 1 spaces)\n",
    "        print(\" \" * (n - i - 1), end=\"\")\n",
    "        # Print stars (2 * i + 1 stars)\n",
    "        print(2 * i + 1)\n",
    "        print(\"*\" * (2 * i + 1))\n",
    "\n",
    "# Number of rows in the pyramid\n",
    "rows = 5\n",
    "display_pyramid(rows)\n"
   ]
  },
  {
   "cell_type": "markdown",
   "metadata": {},
   "source": [
    "# Pine tree"
   ]
  },
  {
   "cell_type": "code",
   "execution_count": 17,
   "metadata": {},
   "outputs": [
    {
     "name": "stdout",
     "output_type": "stream",
     "text": [
      "    *\n",
      "   ***\n",
      "  *****\n",
      " *******\n",
      "*********\n",
      "   **\n"
     ]
    }
   ],
   "source": [
    "def display_pine_tree(rows):\n",
    "    # Display the pyramid (tree leaves)\n",
    "    for i in range(rows):\n",
    "        # Print spaces for alignment\n",
    "        print(\" \" * (rows - i - 1), end=\"\")\n",
    "        # Print stars for each row\n",
    "        print(\"*\" * (2 * i + 1))\n",
    "    \n",
    "    # Display the trunk\n",
    "    trunk_width = rows // 2  # Width of the trunk\n",
    "    trunk_height = rows // 3  # Height of the trunk\n",
    "    for _ in range(trunk_height):\n",
    "        # Center the trunk below the pyramid\n",
    "        print(\" \" * (rows - trunk_width // 2 - 1) + \"*\" * trunk_width)\n",
    "\n",
    "# Number of rows for the tree\n",
    "rows = 5\n",
    "display_pine_tree(rows)\n"
   ]
  }
 ],
 "metadata": {
  "kernelspec": {
   "display_name": "Python 3",
   "language": "python",
   "name": "python3"
  },
  "language_info": {
   "codemirror_mode": {
    "name": "ipython",
    "version": 3
   },
   "file_extension": ".py",
   "mimetype": "text/x-python",
   "name": "python",
   "nbconvert_exporter": "python",
   "pygments_lexer": "ipython3",
   "version": "3.11.9"
  }
 },
 "nbformat": 4,
 "nbformat_minor": 2
}
