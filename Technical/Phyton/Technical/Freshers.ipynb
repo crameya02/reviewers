{
 "cells": [
  {
   "cell_type": "markdown",
   "metadata": {},
   "source": [
    "\n",
    "### What is __init__?\n",
    "\n",
    "-   **`__init__`:** Constructor method in Python.\n",
    "-   **Purpose:** Allocates memory when a new object is created.\n",
    "-   **All classes:** Have an associated `__init__` method.\n",
    "-   **Use:** Distinguishes class methods/attributes from local variables."
   ]
  },
  {
   "cell_type": "code",
   "execution_count": 1,
   "metadata": {},
   "outputs": [
    {
     "name": "stdout",
     "output_type": "stream",
     "text": [
      "Sara Ansh 22 A2\n"
     ]
    }
   ],
   "source": [
    "class Student:\n",
    "    def __init__(self, fname, lname, age, section):\n",
    "        self.firstname = fname\n",
    "        self.lastname = lname\n",
    "        self.age = age\n",
    "        self.section = section\n",
    "\n",
    "    def to_list(self):\n",
    "        # Join all attributes into a single string\n",
    "        return ' '.join(str(value) for value in self.__dict__.values())\n",
    "\n",
    "# Creating a new object\n",
    "stu1 = Student(\"Sara\", \"Ansh\", 22, \"A2\")\n",
    "print(stu1.to_list())\n"
   ]
  },
  {
   "cell_type": "markdown",
   "metadata": {},
   "source": [
    "### 2. What is the difference between Python Arrays and lists?\n",
    "\n",
    "-   **Python Arrays:**\n",
    "    \n",
    "    -   Homogeneous (same data type).\n",
    "    -   Thin wrapper around C arrays. (functionality that closely maps to the underlying implementation of arrays in C)\n",
    "    -   Memory-efficient.\n",
    "-   **Python Lists:**\n",
    "    \n",
    "    -   Heterogeneous (different data types).\n",
    "    -   More flexible.\n",
    "    -   Consumes more memory."
   ]
  },
  {
   "cell_type": "code",
   "execution_count": 41,
   "metadata": {},
   "outputs": [
    {
     "name": "stdout",
     "output_type": "stream",
     "text": [
      "1 2 3 1 2 string "
     ]
    }
   ],
   "source": [
    "import array\n",
    "a = array.array('i', [1, 2, 3])\n",
    "for i in a:\n",
    "    print(i, end=' ')    #OUTPUT: 1 2 3\n",
    "a = array.array('i', [1, 2, 5])    #OUTPUT: TypeError: an integer is required (got type str)\n",
    "a = [1, 2, 'string']\n",
    "for i in a:\n",
    "   print(i, end=' ')    #OUTPUT: 1 2 string"
   ]
  },
  {
   "cell_type": "markdown",
   "metadata": {},
   "source": [
    "\n",
    "### 3. Explain how can you make a Python Script executable on Unix?\n",
    "\n",
    "-   Script file must begin with  **#!/usr/bin/env python**"
   ]
  },
  {
   "cell_type": "markdown",
   "metadata": {},
   "source": [
    "\n",
    "### 4. What is slicing in Python?\n",
    "\n",
    "-   As the name suggests, ‘slicing’ is taking parts of.\n",
    "-   Syntax for slicing is  **[start : stop : step]**\n",
    "-   **start**  is the starting index from where to slice a list or tuple\n",
    "-   **stop**  is the ending index or where to sop.\n",
    "-   **step**  is the number of steps to jump.\n",
    "-   Default value for  **start**  is 0,  **stop**  is number of items,  **step**  is 1.\n",
    "-   Slicing can be done on  **strings, arrays, lists**, and  **tuples**."
   ]
  },
  {
   "cell_type": "code",
   "execution_count": 4,
   "metadata": {},
   "outputs": [
    {
     "name": "stdout",
     "output_type": "stream",
     "text": [
      "[2, 4, 6, 8, 10]\n",
      "['b', 'd', 'f', 'h', 'j']\n",
      "ell\n"
     ]
    }
   ],
   "source": [
    "numbers = [1, 2, 3, 4, 5, 6, 7, 8, 9, 10]\n",
    "print(numbers[1::2]) #output : [2, 4, 6, 8, 10]\n",
    "\n",
    "str = [\"a\", \"b\", \"c\", \"d\", \"e\", \"f\", \"g\", \"h\", \"i\", \"j\"]\n",
    "print(str[1::2]) #output : ['b', 'd', 'f', 'h', 'j']\n",
    "\n",
    "my_str = \"Hello\"\n",
    "print(my_str[1:4])  # Output: ell\n"
   ]
  },
  {
   "cell_type": "markdown",
   "metadata": {},
   "source": [
    "\n",
    "### 5. What is docstring in Python?\n",
    "\n",
    "-   **Docstring:** Multiline string for code documentation.\n",
    "-   **Purpose:** Describes what a function, method, or class does.\n",
    "-   **Usage:** Improves code readability and understanding."
   ]
  },
  {
   "cell_type": "code",
   "execution_count": 3,
   "metadata": {},
   "outputs": [
    {
     "name": "stdout",
     "output_type": "stream",
     "text": [
      "Sara Ansh 22 A2\n"
     ]
    }
   ],
   "source": [
    "class Student:\n",
    "    \"\"\"\n",
    "    Represents a student with personal details and functionality to retrieve them.\n",
    "\n",
    "    Attributes:\n",
    "        firstname (str): The first name of the student.\n",
    "        lastname (str): The last name of the student.\n",
    "        age (int): The age of the student.\n",
    "        section (str): The section the student belongs to.\n",
    "    \"\"\"\n",
    "\n",
    "    def __init__(self, fname, lname, age, section):\n",
    "        \"\"\"\n",
    "        Initializes the Student object with the provided details.\n",
    "\n",
    "        Args:\n",
    "            fname (str): First name of the student.\n",
    "            lname (str): Last name of the student.\n",
    "            age (int): Age of the student.\n",
    "            section (str): Section of the student.\n",
    "        \"\"\"\n",
    "        self.firstname = fname\n",
    "        self.lastname = lname\n",
    "        self.age = age\n",
    "        self.section = section\n",
    "\n",
    "    def to_list(self):\n",
    "        \"\"\"\n",
    "        Returns a formatted string containing all the attributes of the student.\n",
    "\n",
    "        Returns:\n",
    "            str: A single string with all student attributes joined by spaces.\n",
    "        \"\"\"\n",
    "        return ' '.join(str(value) for value in self.__dict__.values())\n",
    "    \n",
    "# Creating a new object\n",
    "stu1 = Student(\"Sara\", \"Ansh\", 22, \"A2\")\n",
    "print(stu1.to_list())\n"
   ]
  },
  {
   "cell_type": "markdown",
   "metadata": {},
   "source": [
    "\n",
    "###   6. What are unit tests in Python?\n",
    "\n",
    "-   Unit test is a unit testing framework of Python.\n",
    "-   Unit testing means testing different components of software separately. Can you think about why unit testing is important? Imagine a scenario, you are building software that uses three components namely A, B, and C. Now, suppose your software breaks at a point time. How will you find which component was responsible for breaking the software? Maybe it was component A that failed, which in turn failed component B, and this actually failed the software. There can be many such combinations.\n",
    "-   This is why it is necessary to test each and every component properly so that we know which component might be highly responsible for the failure of the software."
   ]
  },
  {
   "cell_type": "markdown",
   "metadata": {},
   "source": [
    "### 7. What is break, continue and pass in Python?\n",
    "\n",
    "\n",
    "-   **`break`:** Ends the loop immediately; control moves to the statement after the loop.\n",
    "-   **`continue`:** Skips the current iteration; control moves to the next iteration.\n",
    "-   **`pass`:** Placeholder for empty blocks for future codes; does nothing (like a semicolon in Java/C++)."
   ]
  },
  {
   "cell_type": "code",
   "execution_count": null,
   "metadata": {},
   "outputs": [],
   "source": [
    "# Example demonstrating break, continue, and pass\n",
    "for i in range(1, 11):\n",
    "    if i == 5:\n",
    "        pass  # Placeholder for future code; does nothing for now\n",
    "        print(f\"Pass is encountered at {i}.\")\n",
    "    \n",
    "    if i % 3 == 0:\n",
    "        continue  # Skips the rest of the loop for numbers divisible by 3\n",
    "        print(f\"Continue skipped {i}.\")  # This won't execute because of continue\n",
    "    \n",
    "    if i == 8:\n",
    "        print(\"Breaking the loop at 8.\")\n",
    "        break  # Exits the loop completely when i is 8\n",
    "    \n",
    "    print(f\"Processing number: {i}\")\n"
   ]
  },
  {
   "cell_type": "markdown",
   "metadata": {},
   "source": [
    "\n",
    "### 8. What is the use of self in Python?\n",
    "\n",
    "-   **`self`:** Represents the instance of a class.\n",
    "-   **Purpose:** Access class attributes and methods.\n",
    "-   **Role:** Binds attributes to given arguments.\n",
    "-   **Note:** Not a keyword in Python (unlike C++)."
   ]
  },
  {
   "cell_type": "code",
   "execution_count": 6,
   "metadata": {},
   "outputs": [
    {
     "name": "stdout",
     "output_type": "stream",
     "text": [
      "Area: 50\n",
      "Perimeter: 30\n"
     ]
    }
   ],
   "source": [
    "class Rectangle:\n",
    "    \"\"\"\n",
    "    Represents a rectangle with a specific width and height.\n",
    "    \"\"\"\n",
    "\n",
    "    def __init__(self, width, height):\n",
    "        \"\"\"\n",
    "        Initializes the Rectangle instance with width and height.\n",
    "\n",
    "        Args:\n",
    "            width (float): The width of the rectangle.\n",
    "            height (float): The height of the rectangle.\n",
    "        \"\"\"\n",
    "        self.width = width  # Assign width to the instance\n",
    "        self.height = height  # Assign height to the instance\n",
    "\n",
    "    def area(self):\n",
    "        \"\"\"\n",
    "        Calculates the area of the rectangle.\n",
    "\n",
    "        Returns:\n",
    "            float: The area of the rectangle.\n",
    "        \"\"\"\n",
    "        return self.width * self.height  # Access instance attributes using self\n",
    "\n",
    "    def perimeter(self):\n",
    "        \"\"\"\n",
    "        Calculates the perimeter of the rectangle.\n",
    "\n",
    "        Returns:\n",
    "            float: The perimeter of the rectangle.\n",
    "        \"\"\"\n",
    "        return 2 * (self.width + self.height)  # Access instance attributes using self\n",
    "\n",
    "# Creating a Rectangle instance\n",
    "rect = Rectangle(5, 10)\n",
    "\n",
    "# Using methods that utilize self\n",
    "print(f\"Area: {rect.area()}\")  # Output: Area: 50\n",
    "print(f\"Perimeter: {rect.perimeter()}\")  # Output: Perimeter: 30\n"
   ]
  },
  {
   "cell_type": "markdown",
   "metadata": {},
   "source": [
    "\n",
    "### 9. What are global, protected and private attributes in Python?\n",
    "\n",
    "-   **Global:** Public variables defined in the global scope; use `global` keyword in functions to modify.\n",
    "-   **Protected:** Prefixed with `_` (e.g., `_attr`); accessible outside the class but should be avoided.\n",
    "-   **Private:** Prefixed with `__` (e.g., `__attr`); inaccessible directly from outside the class."
   ]
  },
  {
   "cell_type": "markdown",
   "metadata": {},
   "source": [
    "#### **1. Global Attributes**\n",
    "\n",
    "Global attributes are public and can be accessed from anywhere, both within and outside the class. By default, all attributes in Python are public."
   ]
  },
  {
   "cell_type": "code",
   "execution_count": 7,
   "metadata": {},
   "outputs": [
    {
     "name": "stdout",
     "output_type": "stream",
     "text": [
      "I am global\n"
     ]
    }
   ],
   "source": [
    "class Example:\n",
    "    def __init__(self, value):\n",
    "        self.global_attr = value  # Public attribute\n",
    "\n",
    "# Usage\n",
    "obj = Example(\"I am global\")\n",
    "print(obj.global_attr)  # Accessible anywhere\n"
   ]
  },
  {
   "cell_type": "markdown",
   "metadata": {},
   "source": [
    "\n",
    "#### **2. Protected Attributes**\n",
    "\n",
    "Protected attributes are indicated by a single underscore `_`. These are meant to be accessed only within the class and its subclasses, but this is a convention, not enforced by Python."
   ]
  },
  {
   "cell_type": "code",
   "execution_count": 8,
   "metadata": {},
   "outputs": [
    {
     "name": "stdout",
     "output_type": "stream",
     "text": [
      "I am protected\n"
     ]
    }
   ],
   "source": [
    "class Example:\n",
    "    def __init__(self, value):\n",
    "        self._protected_attr = value  # Protected attribute\n",
    "\n",
    "class SubExample(Example):\n",
    "    def get_protected_attr(self):\n",
    "        return self._protected_attr  # Accessible in subclass\n",
    "\n",
    "# Usage\n",
    "obj = Example(\"I am protected\")\n",
    "print(obj._protected_attr)  # Can be accessed, but not recommended outside the class\n"
   ]
  },
  {
   "cell_type": "markdown",
   "metadata": {},
   "source": [
    "\n",
    "#### **3. Private Attributes**\n",
    "\n",
    "Private attributes are indicated by a double underscore `__`. These are name-mangled by Python, making it difficult to access them directly outside the class."
   ]
  },
  {
   "cell_type": "code",
   "execution_count": 9,
   "metadata": {},
   "outputs": [
    {
     "name": "stdout",
     "output_type": "stream",
     "text": [
      "I am private\n"
     ]
    }
   ],
   "source": [
    "class Example:\n",
    "    def __init__(self, value):\n",
    "        self.__private_attr = value  # Private attribute\n",
    "\n",
    "    def get_private_attr(self):\n",
    "        return self.__private_attr  # Getter to access private attribute\n",
    "\n",
    "# Usage\n",
    "obj = Example(\"I am private\")\n",
    "# print(obj.__private_attr)  # AttributeError: Cannot access directly\n",
    "print(obj.get_private_attr())  # Accessible via getter\n"
   ]
  },
  {
   "cell_type": "markdown",
   "metadata": {},
   "source": [
    "\n",
    "#### Comparison\n",
    "\n",
    "<table><thead><tr><th><strong>Type</strong></th><th><strong>Syntax</strong></th><th><strong>Accessibility</strong></th></tr></thead><tbody><tr><td><strong>Global</strong></td><td><code>self.attr</code></td><td>Fully accessible from anywhere.</td></tr><tr><td><strong>Protected</strong></td><td><code>self._attr</code></td><td>Accessible within the class and subclasses (by convention).</td></tr><tr><td><strong>Private</strong></td><td><code>self.__attr</code></td><td>Restricted access; only accessible internally or via name-mangling.</td></tr></tbody></table>"
   ]
  },
  {
   "cell_type": "code",
   "execution_count": 10,
   "metadata": {},
   "outputs": [
    {
     "name": "stdout",
     "output_type": "stream",
     "text": [
      "I am public\n",
      "I am protected\n",
      "I am private\n"
     ]
    }
   ],
   "source": [
    "class Demo:\n",
    "    def __init__(self):\n",
    "        self.global_attr = \"I am public\"\n",
    "        self._protected_attr = \"I am protected\"\n",
    "        self.__private_attr = \"I am private\"\n",
    "\n",
    "    def get_private_attr(self):\n",
    "        return self.__private_attr\n",
    "\n",
    "# Usage\n",
    "obj = Demo()\n",
    "print(obj.global_attr)  # Public\n",
    "print(obj._protected_attr)  # Accessible but not recommended\n",
    "# print(obj.__private_attr)  # AttributeError: Private attribute\n",
    "print(obj.get_private_attr())  # Access private attribute via getter\n"
   ]
  },
  {
   "cell_type": "markdown",
   "metadata": {},
   "source": [
    " ### 10. What are modules and packages in Python?\n",
    "\n",
    "Python packages and Python modules are two mechanisms that allow for  **modular programming**  in Python\n",
    "\n",
    "\n",
    "-   **Advantages:**\n",
    "    -   **Simplicity:** Focus on smaller problems.\n",
    "    -   **Maintainability:** Enforces logical boundaries.\n",
    "    -   **Reusability:** Share functions across applications.\n",
    "    -   **Scoping:** Separate namespace to avoid conflicts\n",
    "\n",
    "    **Modules:**\n",
    "\n",
    "-   Python files (`.py`) with functions, classes, or variables.\n",
    "-   **Import:** Use `import module` or `from module import item`.\n",
    "\n",
    "**Packages:**\n",
    "\n",
    "-   Allows Hierarchical structure for organizing modules using dot notation.\n",
    "-   **Creation:** Place modules in a folder; the folder name becomes the package name.\n",
    "-   **Import:** Use `package.module` or `from package.module import item`.\n",
    "\n"
   ]
  },
  {
   "cell_type": "markdown",
   "metadata": {},
   "source": [
    "\n",
    "#### **Package**:\n",
    "\n",
    "-   A **package** is a collection of Python modules organized in a directory hierarchy.\n",
    "    \n",
    "-   A package can contain multiple sub-packages and modules.\n",
    "    \n",
    "-   The directory containing the package must include a special file called `__init__.py` to be recognized as a package (though, starting from Python 3.3, this file can be empty).\n",
    "    \n",
    "-   **Example**: If you have a folder structure like this:\n",
    "\n",
    "my_package/\n",
    "    __init__.py\n",
    "    module1.py\n",
    "    module2.py\n",
    "\n",
    "\n",
    "from my_package import module1\n",
    "result = module1.some_function()\n"
   ]
  },
  {
   "cell_type": "markdown",
   "metadata": {},
   "source": [
    "### 11. What is pass in Python?\n",
    "\n",
    "- The  `pass`  keyword represents a null operation in Python. \n",
    "- It is generally used for the purpose of filling up empty blocks of code which may execute during runtime but has yet to be written.\n",
    "-  Without the  **pass**  statement in the following code, we may run into some errors during code execution."
   ]
  },
  {
   "cell_type": "code",
   "execution_count": 13,
   "metadata": {},
   "outputs": [],
   "source": [
    "def myEmptyFunc():\n",
    "   # do nothing\n",
    "   pass\n",
    "myEmptyFunc()    # nothing happens\n",
    "## Without the pass keyword\n",
    "# File \"<stdin>\", line 3\n",
    "# IndentationError: expected an indented block"
   ]
  },
  {
   "cell_type": "markdown",
   "metadata": {},
   "source": [
    "### 12. What are the common built-in data types in Python?\n",
    "\n",
    "There are several built-in data types in Python.\n",
    "-   **No Explicit Declaration:** Python doesn't require type definitions.\n",
    "-   **Type Checking:** Use `type()` or `isinstance()` to check variable types.\n",
    "-   **Importance:** Understanding types prevents compatibility errors."
   ]
  },
  {
   "cell_type": "markdown",
   "metadata": {},
   "source": [
    "#### These data groups are\n",
    "\n",
    "\n",
    "-   [**None Type:**](#none-type)\n",
    "    \n",
    "    -   None\n",
    "-   [**Numeric Types:**](#numeric-types)\n",
    "    \n",
    "    -   int\n",
    "    -   float\n",
    "    -   complex\n",
    "    -   bool\n",
    "-   [**Sequence Types:**](#sequence-types)\n",
    "    \n",
    "    -   str\n",
    "    -   list\n",
    "    -   tuple\n",
    "    -   range\n",
    "-   **Mapping Types:**\n",
    "    \n",
    "    -   dict\n",
    "-   **Set Types:**\n",
    "    \n",
    "    -   set\n",
    "    -   frozenset\n",
    "-   **Modules:**\n",
    "    \n",
    "    -   module\n",
    "-   **Callable Types:**\n",
    "    \n",
    "    -   function\n",
    "    -   method\n",
    "    -   class"
   ]
  },
  {
   "cell_type": "markdown",
   "metadata": {},
   "source": [
    "##### None Type:\n",
    "    `None`  keyword represents the null values in Python. \n",
    "    Boolean equality operation can be performed using these NoneType objects.\n",
    "\n",
    "\n",
    "<table>\n",
    "<thead><tr>\n",
    "<th>Class Name</th>\n",
    "<th>Description</th>\n",
    "</tr></thead>\n",
    "<tbody><tr>\n",
    "<td>NoneType</td>\n",
    "<td>Represents the<strong> NULL</strong> values in Python.</td>\n",
    "</tr></tbody>\n",
    "</table>"
   ]
  },
  {
   "cell_type": "code",
   "execution_count": 4,
   "metadata": {},
   "outputs": [
    {
     "name": "stdout",
     "output_type": "stream",
     "text": [
      "User 104 found!\n"
     ]
    }
   ],
   "source": [
    "# Simulating a simple database with a list of user IDs\n",
    "database = [101, 102, 103, 104]\n",
    "\n",
    "def find_user_by_id(user_id):\n",
    "    if user_id not in database:\n",
    "        return None  # Return None if user is not found\n",
    "    return user_id  # Return user ID if found\n",
    "\n",
    "# Test the function\n",
    "user_id_to_search = 105\n",
    "result = find_user_by_id(user_id_to_search)\n",
    "\n",
    "if result is None:\n",
    "    print(\"User not found!\")\n",
    "else:\n",
    "    print(f\"User {result} found!\")\n"
   ]
  },
  {
   "cell_type": "markdown",
   "metadata": {},
   "source": [
    "##### Numeric Types\n",
    "    There are three distinct numeric types -  \n",
    "    **integers, \n",
    "    floating-point numbers**, and  \n",
    "    **complex numbers**. \n",
    "    Additionally,  **booleans**  are a sub-type of integers.\n",
    "\n",
    "<table>\n",
    "<thead><tr>\n",
    "<th>Class Name</th>\n",
    "<th>Description</th>\n",
    "</tr></thead>\n",
    "<tbody>\n",
    "<tr>\n",
    "<td>int</td>\n",
    "<td>Stores integer literals including hex, octal and binary numbers as integers</td>\n",
    "</tr>\n",
    "<tr>\n",
    "<td>float</td>\n",
    "<td>Stores literals containing decimal values and/or exponent signs as floating-point numbers</td>\n",
    "</tr>\n",
    "<tr>\n",
    "<td>complex</td>\n",
    "<td>Stores complex numbers in the form (A + Bj) and has attributes: <code>real</code> and <code>imag</code>\n",
    "</td>\n",
    "</tr>\n",
    "<tr>\n",
    "<td>bool</td>\n",
    "<td>Stores boolean value (True or False).</td>\n",
    "</tr>\n",
    "</tbody>\n",
    "</table>"
   ]
  },
  {
   "cell_type": "code",
   "execution_count": 6,
   "metadata": {},
   "outputs": [
    {
     "name": "stdout",
     "output_type": "stream",
     "text": [
      "Loan not approved!\n"
     ]
    }
   ],
   "source": [
    "# Function to check loan eligibility\n",
    "def check_loan_eligibility(age, salary, credit_score):\n",
    "    # int (age) and float (salary) are used here\n",
    "    if age >= 18 and salary >= 30000.00:  # age (int) and salary (float)\n",
    "        # bool (credit_score > 700) for eligibility check\n",
    "        if credit_score > 700:\n",
    "            return True  # eligible\n",
    "        else:\n",
    "            return False  # not eligible due to low credit score\n",
    "    else:\n",
    "        return False  # not eligible due to age or salary\n",
    "\n",
    "# Test data\n",
    "age = 30  # int\n",
    "salary = 35000.50  # float\n",
    "credit_score = 750  # int (used to simulate the score, but it's checked as a condition)\n",
    "\n",
    "# Check loan eligibility\n",
    "eligible = check_loan_eligibility(age, salary, credit_score)\n",
    "\n",
    "# Display result using bool check\n",
    "if eligible:\n",
    "    print(\"Loan approved!\")\n",
    "else:\n",
    "    print(\"Loan not approved!\")\n"
   ]
  },
  {
   "cell_type": "code",
   "execution_count": 8,
   "metadata": {},
   "outputs": [
    {
     "name": "stdout",
     "output_type": "stream",
     "text": [
      "Resulting position: 4.0, 2.0\n"
     ]
    }
   ],
   "source": [
    "# Representing two movements as complex numbers (x, y)\n",
    "movement1 = complex(3, 4)  # Move 3 units right and 4 units up\n",
    "movement2 = complex(1, -2) # Move 1 unit right and 2 units down\n",
    "\n",
    "# Adding the movements\n",
    "result = movement1 + movement2\n",
    "\n",
    "# Display the resulting position (x, y)\n",
    "print(f\"Resulting position: {result.real}, {result.imag}\")\n",
    "\n"
   ]
  },
  {
   "cell_type": "markdown",
   "metadata": {},
   "source": [
    "#####  **Sequence Types**  \n",
    "    there are three basic Sequence Types - \n",
    "    - **lists, \n",
    "    - tuples,**  and  \n",
    "    - **range**  objects. \n",
    "    \n",
    "    Sequence types have the  `in`  and  `not in`  operators defined for their traversing their elements. \n",
    "    These operators share the same priority as the comparison operations.\n",
    "\n",
    "    **Note:** The standard library also includes additional types for processing:  \n",
    "1. **Binary data** such as `bytearray bytes`  `memoryview` , and  \n",
    "2. **Text strings** such as `str`."
   ]
  },
  {
   "cell_type": "code",
   "execution_count": 9,
   "metadata": {},
   "outputs": [
    {
     "name": "stdout",
     "output_type": "stream",
     "text": [
      "Student Grades:\n",
      "Alice: 85 (B)\n",
      "Bob: 90 (A)\n",
      "Charlie: 88 (B)\n",
      "David: 92 (A)\n",
      "\n",
      "Possible scores: [50, 51, 52, 53, 54, 55, 56, 57, 58, 59, 60, 61, 62, 63, 64, 65, 66, 67, 68, 69, 70, 71, 72, 73, 74, 75, 76, 77, 78, 79, 80, 81, 82, 83, 84, 85, 86, 87, 88, 89, 90, 91, 92, 93, 94, 95, 96, 97, 98, 99, 100]\n"
     ]
    }
   ],
   "source": [
    "# List: To store student names and their grades\n",
    "students = ['Alice', 'Bob', 'Charlie', 'David']\n",
    "grades = [85, 90, 88, 92]  # List of grades corresponding to the students\n",
    "\n",
    "# Tuple: Used to store an immutable grade scale\n",
    "grade_scale = ('F', 'D', 'C', 'B', 'A')  # A simple grade scale from F to A\n",
    "\n",
    "# Range: To generate possible scores from 50 to 100\n",
    "possible_scores = range(50, 101)  # Range of scores between 50 and 100\n",
    "\n",
    "# String: Create a message to print student details\n",
    "message = \"Student Grades:\\n\"\n",
    "\n",
    "# Loop through students and grades\n",
    "for student, grade in zip(students, grades):\n",
    "    # Determine the letter grade\n",
    "    if grade < 60:\n",
    "        letter_grade = grade_scale[0]  # F\n",
    "    elif grade < 70:\n",
    "        letter_grade = grade_scale[1]  # D\n",
    "    elif grade < 80:\n",
    "        letter_grade = grade_scale[2]  # C\n",
    "    elif grade < 90:\n",
    "        letter_grade = grade_scale[3]  # B\n",
    "    else:\n",
    "        letter_grade = grade_scale[4]  # A\n",
    "\n",
    "    # Add the result to the message string\n",
    "    message += f\"{student}: {grade} ({letter_grade})\\n\"\n",
    "\n",
    "# Print the message with the results\n",
    "print(message)\n",
    "\n",
    "# Print the possible scores (range)\n",
    "print(\"Possible scores:\", list(possible_scores))\n"
   ]
  },
  {
   "cell_type": "code",
   "execution_count": 1,
   "metadata": {},
   "outputs": [
    {
     "name": "stdout",
     "output_type": "stream",
     "text": [
      "Student: Alice\n",
      "Grade: 85\n",
      "Letter Grade: B\n",
      "Student: Alice\n",
      "Grade: 85\n",
      "Letter Grade: B\n",
      "<class 'int'>\n"
     ]
    }
   ],
   "source": [
    "# String: Creating a formatted message for displaying student information\n",
    "student_name = \"Alice\"\n",
    "student_grade = 85\n",
    "letter_grade = \"B\"\n",
    "\n",
    "# String concatenation\n",
    "message = \"Student: \" + student_name + \"\\nGrade: \" + str(student_grade) + \"\\nLetter Grade: \" + letter_grade\n",
    "\n",
    "# Or using f-string (formatted string literals)\n",
    "message_fstring = f\"Student: {student_name}\\nGrade: {student_grade}\\nLetter Grade: {letter_grade}\"\n",
    "\n",
    "print(message)           # Using string concatenation\n",
    "print(message_fstring)   # Using f-string for formatting\n"
   ]
  },
  {
   "cell_type": "code",
   "execution_count": 3,
   "metadata": {},
   "outputs": [
    {
     "name": "stdout",
     "output_type": "stream",
     "text": [
      "H\n",
      "e\n",
      "l\n",
      "l\n",
      "o\n",
      "H\n",
      "e\n",
      "ell\n"
     ]
    }
   ],
   "source": [
    "my_str = \"Hello\"\n",
    "for char in my_str:\n",
    "    print(char)\n",
    "print(my_str[0])  # Output: H\n",
    "print(my_str[1])  # Output: e\n",
    "print(my_str[1:4])  # Output: ell\n"
   ]
  },
  {
   "cell_type": "markdown",
   "metadata": {},
   "source": [
    "##### **Mapping Types**\n",
    "\n",
    "-   **Definition**: A mapping type maps **hashable keys** to values.\n",
    "-   **Characteristics**:\n",
    "    -   Keys must be **hashable** (e.g., strings, numbers, tuples with immutable elements).\n",
    "    -   Values can be of any type (mutable or immutable).\n",
    "    -   Mapping types are **mutable** (can be changed after creation).\n",
    "-   **Standard Mapping Type**: **`dict` (dictionary)**."
   ]
  },
  {
   "cell_type": "code",
   "execution_count": 1,
   "metadata": {},
   "outputs": [
    {
     "name": "stdout",
     "output_type": "stream",
     "text": [
      "85\n",
      "Alice: 95\n",
      "Charlie: 88\n",
      "David: 92\n"
     ]
    }
   ],
   "source": [
    "# Create a dictionary\n",
    "student_grades = {\n",
    "    \"Alice\": 85,\n",
    "    \"Bob\": 90,\n",
    "    \"Charlie\": 88\n",
    "}\n",
    "\n",
    "# Accessing values using keys\n",
    "print(student_grades[\"Alice\"])  # Output: 85\n",
    "\n",
    "# Adding a new key-value pair\n",
    "student_grades[\"David\"] = 92\n",
    "\n",
    "# Updating a value\n",
    "student_grades[\"Alice\"] = 95\n",
    "\n",
    "# Deleting a key-value pair\n",
    "del student_grades[\"Bob\"]\n",
    "\n",
    "# Iterating through dictionary keys and values\n",
    "for student, grade in student_grades.items():\n",
    "    print(f\"{student}: {grade}\")\n"
   ]
  },
  {
   "cell_type": "markdown",
   "metadata": {},
   "source": [
    "\n",
    "##### **Set Types:**  \n",
    "    **Set types** in Python are unordered collections of unique, hashable elements. These types are commonly used when you need to store distinct items and perform mathematical set operations.\n",
    "\n",
    "----------\n",
    "\n",
    "**Types of Sets:**\n",
    "\n",
    "1.  **`set`**:\n",
    "    -   A mutable collection of unique, unordered elements.\n",
    "    -   Can be modified (e.g., add, remove elements).\n",
    "2.  **`frozenset`**:\n",
    "    -   An immutable version of a set.\n",
    "    -   Cannot be modified after creation.\n",
    "\n",
    "    **Key Features of Set Types:**\n",
    "\n",
    "-   **Unique Elements**:\n",
    "    \n",
    "    -   Sets automatically eliminate duplicate elements.\n",
    "    -   Example: `{1, 2, 2, 3}` becomes `{1, 2, 3}`.\n",
    "-   **Unordered**:\n",
    "    \n",
    "    -   The order of elements is not preserved.\n",
    "    -   Elements are stored in a way optimized for fast operations (e.g., lookups).\n",
    "-   **Hashable Elements Only**:\n",
    "    \n",
    "    -   Elements must be immutable (e.g., numbers, strings, tuples with immutable contents).\n",
    "-   **Mathematical Set Operations**:\n",
    "    \n",
    "    -   Supports union, intersection, difference, and symmetric difference."
   ]
  },
  {
   "cell_type": "code",
   "execution_count": 2,
   "metadata": {},
   "outputs": [
    {
     "name": "stdout",
     "output_type": "stream",
     "text": [
      "True\n",
      "apple\n",
      "cherry\n",
      "orange\n",
      "{1, 2, 3, 4, 5}\n",
      "{3}\n",
      "{1, 2}\n"
     ]
    }
   ],
   "source": [
    "# Create a set\n",
    "fruits = {\"apple\", \"banana\", \"cherry\"}\n",
    "\n",
    "# Add an element\n",
    "fruits.add(\"orange\")\n",
    "\n",
    "# Remove an element\n",
    "fruits.discard(\"banana\")\n",
    "\n",
    "# Check membership\n",
    "print(\"apple\" in fruits)  # Output: True\n",
    "\n",
    "# Iterate through a set\n",
    "for fruit in fruits:\n",
    "    print(fruit)\n",
    "\n",
    "# Perform set operations\n",
    "set1 = {1, 2, 3}\n",
    "set2 = {3, 4, 5}\n",
    "\n",
    "print(set1 | set2)  # Union: {1, 2, 3, 4, 5}\n",
    "print(set1 & set2)  # Intersection: {3}\n",
    "print(set1 - set2)  # Difference: {1, 2}\n"
   ]
  },
  {
   "cell_type": "code",
   "execution_count": 3,
   "metadata": {},
   "outputs": [
    {
     "name": "stdout",
     "output_type": "stream",
     "text": [
      "frozenset({3, 4})\n"
     ]
    }
   ],
   "source": [
    "# Create a frozenset\n",
    "immutable_set = frozenset([1, 2, 3, 4])\n",
    "\n",
    "# Try modifying (will raise an error)\n",
    "# immutable_set.add(5)  # AttributeError: 'frozenset' object has no attribute 'add'\n",
    "\n",
    "# Perform operations\n",
    "set3 = {3, 4, 5}\n",
    "print(immutable_set & set3)  # Intersection: {3, 4}\n"
   ]
  },
  {
   "cell_type": "markdown",
   "metadata": {},
   "source": [
    "######  **Use Cases of Set Types:**\n",
    "\n",
    "1.  **Removing Duplicates**:\n",
    "    \n",
    "    -   Convert a list to a set to eliminate duplicates.\n",
    "    \n",
    "    \n",
    "    `nums = [1, 2, 2, 3, 4, 4]`\n",
    "    \n",
    "    `unique_nums = set(nums)  # {1, 2, 3, 4}` \n",
    "    \n",
    "2.  **Membership Testing**:\n",
    "    \n",
    "    -   Sets provide fast membership testing (e.g., `element in set`).\n",
    "3.  **Mathematical Set Operations**:\n",
    "    \n",
    "    -   Union, intersection, and difference are used in data analysis, graph theory, etc.\n",
    "4.  **Immutable Collections**:\n",
    "    \n",
    "    -   Use `frozenset` when you need a hashable collection (e.g., as a dictionary key)"
   ]
  },
  {
   "cell_type": "code",
   "execution_count": 7,
   "metadata": {},
   "outputs": [
    {
     "name": "stdout",
     "output_type": "stream",
     "text": [
      "Unique Emails: {'eve@business.com', 'frank@company.com', 'alice@gmail.com', 'dave@company.com', 'charlie@gmail.com', 'bob@yahoo.com'}\n",
      "Personal Emails: {'charlie@gmail.com', 'bob@yahoo.com', 'alice@gmail.com'}\n",
      "Business Emails: {'dave@company.com', 'eve@business.com', 'frank@company.com'}\n",
      "All Domains: {'company.com', 'gmail.com', 'business.com', 'yahoo.com'}\n",
      "Common Domains: set()\n",
      "Unique Domains to Business: {'company.com', 'business.com'}\n"
     ]
    }
   ],
   "source": [
    "# Sample data: List of email addresses (with duplicates)\n",
    "emails = [\n",
    "    \"alice@gmail.com\", \"bob@yahoo.com\", \"charlie@gmail.com\", \n",
    "    \"dave@company.com\", \"alice@gmail.com\", \"eve@business.com\", \n",
    "    \"frank@company.com\", \"bob@yahoo.com\"\n",
    "]\n",
    "\n",
    "# Step 1: Remove duplicate email addresses\n",
    "unique_emails = set(emails)\n",
    "\n",
    "# Step 2: Categorize emails into personal and business\n",
    "personal_domains = {\"gmail.com\", \"yahoo.com\", \"outlook.com\"}\n",
    "business_domains = {\"company.com\", \"business.com\"}\n",
    "\n",
    "personal_emails = {email for email in unique_emails if email.split(\"@\")[1] in personal_domains}\n",
    "business_emails = {email for email in unique_emails if email.split(\"@\")[1] in business_domains}\n",
    "\n",
    "# Step 3: Find common domains (just for analysis)\n",
    "all_domains = {email.split(\"@\")[1] for email in unique_emails}\n",
    "common_domains = personal_domains & business_domains  # Intersection\n",
    "unique_domains = all_domains - personal_domains       # Difference\n",
    "\n",
    "# Output results\n",
    "print(\"Unique Emails:\", unique_emails)\n",
    "print(\"Personal Emails:\", personal_emails)\n",
    "print(\"Business Emails:\", business_emails)\n",
    "print(\"All Domains:\", all_domains)\n",
    "print(\"Common Domains:\", common_domains)\n",
    "print(\"Unique Domains to Business:\", unique_domains)\n"
   ]
  },
  {
   "cell_type": "code",
   "execution_count": 8,
   "metadata": {},
   "outputs": [
    {
     "name": "stdout",
     "output_type": "stream",
     "text": [
      "Role Permissions: frozenset({'modify', 'write', 'delete', 'read'}) -> Users: ['Alice', 'Bob']\n",
      "Role Permissions: frozenset({'modify', 'write', 'read'}) -> Users: ['Charlie', 'David']\n",
      "Role Permissions: frozenset({'read'}) -> Users: ['Eve']\n",
      "Users with the new permission set: ['Charlie', 'David']\n"
     ]
    }
   ],
   "source": [
    "# Step 1: Define immutable permission groups using frozenset\n",
    "admin_permissions = frozenset([\"read\", \"write\", \"delete\", \"modify\"])\n",
    "editor_permissions = frozenset([\"read\", \"write\", \"modify\"])\n",
    "viewer_permissions = frozenset([\"read\"])\n",
    "\n",
    "# Step 2: Use frozensets as dictionary keys to map roles to users\n",
    "role_based_access = {\n",
    "    admin_permissions: [\"Alice\", \"Bob\"],       # Admins\n",
    "    editor_permissions: [\"Charlie\", \"David\"], # Editors\n",
    "    viewer_permissions: [\"Eve\"]               # Viewers\n",
    "}\n",
    "\n",
    "# Step 3: Access the data based on roles\n",
    "for role, users in role_based_access.items():\n",
    "    print(f\"Role Permissions: {role} -> Users: {users}\")\n",
    "\n",
    "# Step 4: Check if a permission set exists in the roles\n",
    "new_permission_set = frozenset([\"read\", \"write\", \"modify\"])\n",
    "if new_permission_set in role_based_access:\n",
    "    print(f\"Users with the new permission set: {role_based_access[new_permission_set]}\")\n",
    "else:\n",
    "    print(\"No users found for the new permission set.\")\n"
   ]
  },
  {
   "cell_type": "markdown",
   "metadata": {},
   "source": [
    "##### **Modules:**\n",
    "    \n",
    "    -   A module is a built-in Python type that provides a way to organize code into separate files or namespaces.\n",
    "-   **Special Operation**:\n",
    "    \n",
    "    -   Supports **attribute access**: You can use `module_name.attribute` to access variables, functions, or classes defined in the module.\n",
    "-   **Symbol Table**:\n",
    "    \n",
    "    -   A module's symbol table (all its attributes) is stored in a special attribute: `module_name.__dict__`.\n",
    "-   **Assignment Restriction**:\n",
    "    \n",
    "    -   Direct assignment to `__dict__` is not allowed or recommended as it can lead to unintended behavior.\n",
    "-   **Usage**:\n",
    "    \n",
    "    -   Modules help with code organization, reusability, and namespace management.\n",
    "\n",
    "\n",
    "    -----\n",
    "\n",
    "    **Explanation:**\n",
    "\n",
    "1.  **Modules**:\n",
    "    -   Code is divided into `product.py`, `user.py`, and `order.py` modules for better organization.\n",
    "2.  **Reusability**:\n",
    "    -   Each module's functions can be imported and reused across different applications or scripts.\n",
    "3.  **Namespace**:\n",
    "    -   Attribute access (`product.add_product`, `user.add_user`) ensures no name conflicts between modules."
   ]
  },
  {
   "cell_type": "code",
   "execution_count": 11,
   "metadata": {},
   "outputs": [
    {
     "name": "stdout",
     "output_type": "stream",
     "text": [
      "User alice authenticated successfully!\n",
      "\n",
      "Available Products:\n",
      "[{'name': 'Laptop', 'price': 1200}, {'name': 'Headphones', 'price': 150}]\n",
      "\n",
      "Orders Placed:\n",
      "[{'username': 'alice', 'product': 'Laptop', 'quantity': 1}]\n"
     ]
    }
   ],
   "source": [
    "# main.py\n",
    "import product\n",
    "import user\n",
    "import order\n",
    "\n",
    "# Step 1: Add products\n",
    "product.add_product(\"Laptop\", 1200)\n",
    "product.add_product(\"Headphones\", 150)\n",
    "\n",
    "# Step 2: Add users\n",
    "user.add_user(\"alice\", \"password123\")\n",
    "user.add_user(\"bob\", \"mypassword\")\n",
    "\n",
    "# Step 3: Authenticate a user\n",
    "username = \"alice\"\n",
    "password = \"password123\"\n",
    "if user.authenticate_user(username, password):\n",
    "    print(f\"User {username} authenticated successfully!\")\n",
    "    \n",
    "    # Step 4: Place an order\n",
    "    order.place_order(username, \"Laptop\", 1)\n",
    "else:\n",
    "    print(f\"Authentication failed for {username}.\")\n",
    "\n",
    "# Step 5: List all products and orders\n",
    "print(\"\\nAvailable Products:\")\n",
    "print(product.list_products())\n",
    "\n",
    "print(\"\\nOrders Placed:\")\n",
    "print(order.list_orders())\n"
   ]
  },
  {
   "cell_type": "markdown",
   "metadata": {},
   "source": [
    "##### **Callable Types:**  \n",
    "-   Callable types are objects in Python that can be called using the function call syntax `()`.\n",
    "-   Examples include:\n",
    "    -   User-defined functions.\n",
    "    -   Instance methods.\n",
    "    -   Generator functions.\n",
    "    -   Certain built-in functions, methods, and classes."
   ]
  },
  {
   "cell_type": "code",
   "execution_count": 12,
   "metadata": {},
   "outputs": [
    {
     "name": "stdout",
     "output_type": "stream",
     "text": [
      "Hello, Alice!\n",
      "12\n",
      "Even numbers up to 10:\n",
      "0\n",
      "2\n",
      "4\n",
      "6\n",
      "8\n",
      "10\n",
      "Length of list: 4\n"
     ]
    }
   ],
   "source": [
    "# Step 1: User-Defined Function\n",
    "def greet_user(name):\n",
    "    return f\"Hello, {name}!\"\n",
    "\n",
    "# Step 2: Instance Method\n",
    "class Calculator:\n",
    "    def multiply(self, a, b):\n",
    "        return a * b\n",
    "\n",
    "# Step 3: Generator Function\n",
    "def even_numbers(limit):\n",
    "    for num in range(limit + 1):\n",
    "        if num % 2 == 0:\n",
    "            yield num\n",
    "\n",
    "# Step 4: Built-in Callable\n",
    "builtin_callable = len\n",
    "\n",
    "# Step 5: Using all callable types\n",
    "# User-defined function\n",
    "print(greet_user(\"Alice\"))\n",
    "\n",
    "# Instance method\n",
    "calc = Calculator()\n",
    "print(calc.multiply(3, 4))\n",
    "\n",
    "# Generator function\n",
    "print(\"Even numbers up to 10:\")\n",
    "for even in even_numbers(10):\n",
    "    print(even)\n",
    "\n",
    "# Built-in callable\n",
    "sample_list = [1, 2, 3, 4]\n",
    "print(f\"Length of list: {builtin_callable(sample_list)}\")\n"
   ]
  },
  {
   "cell_type": "markdown",
   "metadata": {},
   "source": [
    "\n",
    "### 13. What are lists and tuples? What is the key difference between the two?\n",
    "\n",
    "**Lists** and  **Tuples**  are both s**equence data types**  that can store a collection of objects in Python\n",
    "\n",
    "\n",
    "-   **Lists:** Sequence data type, mutable (modifiable).\n",
    "    \n",
    "    -   Syntax: `['sara', 6, 0.19]`.\n",
    "    -   Can be modified, appended, or sliced.\n",
    "-   **Tuples:** Sequence data type, immutable (non-modifiable).\n",
    "    \n",
    "    -   Syntax: `('ansh', 5, 0.97)`.\n",
    "    -   Remains constant, cannot be altered."
   ]
  },
  {
   "cell_type": "code",
   "execution_count": 2,
   "metadata": {},
   "outputs": [
    {
     "name": "stdout",
     "output_type": "stream",
     "text": [
      "sara\n",
      "sara\n",
      "sara\n",
      "ansh\n"
     ]
    }
   ],
   "source": [
    "my_tuple = ('sara', 6, 5, 0.97)\n",
    "my_list = ['sara', 6, 5, 0.97]\n",
    "print(my_tuple[0])     # output => 'sara'\n",
    "print(my_list[0])     # output => 'sara'\n",
    "# my_tuple[0] = 'ansh'    # modifying tuple => throws an error\n",
    "my_list[0] = 'ansh'    # modifying list => list modified\n",
    "print(my_tuple[0])     # output => 'sara'\n",
    "print(my_list[0])     # output => 'ansh'"
   ]
  },
  {
   "cell_type": "markdown",
   "metadata": {},
   "source": [
    "####  **Scope in Python**\n",
    "\n",
    "-   Scope defines the region of the code where an object (variable, function, etc.) is relevant and can be accessed.\n",
    "\n",
    "----------\n",
    "\n",
    " **Types of Scopes in Python**:\n",
    "\n",
    "1.  **Local Scope**:\n",
    "    \n",
    "    -   Contains objects defined inside a function.\n",
    "    -   Accessible only within that function.\n",
    "2.  **Global Scope**:\n",
    "    \n",
    "    -   Contains objects defined at the module level.\n",
    "    -   Accessible throughout the program after their definition.\n",
    "3.  **Module-Level Scope**:\n",
    "    \n",
    "    -   Refers to global objects of the current module.\n",
    "    -   Accessible within the same module.\n",
    "4.  **Outermost (Built-in) Scope**:\n",
    "    \n",
    "    -   Contains Python's built-in names (e.g., `len`, `print`, etc.).\n",
    "    -   Searched last during name resolution.\n",
    "\n",
    "----------\n",
    "\n",
    "**Key Note**:\n",
    "\n",
    "-   The `global` keyword allows a local object to be synchronized with a global object, enabling updates to the global variable within a local scope.\n",
    "\n",
    "\n",
    "##### **`Local Scope`**"
   ]
  },
  {
   "cell_type": "code",
   "execution_count": 13,
   "metadata": {},
   "outputs": [
    {
     "name": "stdout",
     "output_type": "stream",
     "text": [
      "Hello, Alice!\n"
     ]
    }
   ],
   "source": [
    "## Local Scope\n",
    "\n",
    "def greet(name):\n",
    "    message = f\"Hello, {name}!\"  # 'message' is a local variable\n",
    "    print(message)  # Accessible inside the function\n",
    "\n",
    "greet(\"Alice\")  # Output: Hello, Alice!\n",
    "\n",
    "# Uncommenting the next line will raise an error\n",
    "# print(message)  # NameError: name 'message' is not defined\n"
   ]
  },
  {
   "cell_type": "code",
   "execution_count": 14,
   "metadata": {},
   "outputs": [
    {
     "name": "stdout",
     "output_type": "stream",
     "text": [
      "I am in the inner function\n",
      "I am in the outer function\n"
     ]
    }
   ],
   "source": [
    "## Nested Functions and Local Scope\n",
    "\n",
    "def outer_function():\n",
    "    outer_var = \"I am in the outer function\"  # Local variable for outer_function\n",
    "    \n",
    "    def inner_function():\n",
    "        inner_var = \"I am in the inner function\"  # Local variable for inner_function\n",
    "        print(inner_var)\n",
    "        print(outer_var)  # Accesses outer function's local variable\n",
    "    \n",
    "    inner_function()  # Calls the inner function\n",
    "\n",
    "outer_function()\n"
   ]
  },
  {
   "cell_type": "markdown",
   "metadata": {},
   "source": [
    "##### **`Global Scope`**"
   ]
  },
  {
   "cell_type": "code",
   "execution_count": 15,
   "metadata": {},
   "outputs": [
    {
     "name": "stdout",
     "output_type": "stream",
     "text": [
      "Hello, World!\n"
     ]
    }
   ],
   "source": [
    "## Simple Global Scope\n",
    "\n",
    "# Global variable\n",
    "message = \"Hello, World!\"  # Defined in global scope\n",
    "\n",
    "def print_message():\n",
    "    print(message)  # Accesses global variable\n",
    "\n",
    "print_message()  # Output: Hello, World!\n"
   ]
  },
  {
   "cell_type": "code",
   "execution_count": 16,
   "metadata": {},
   "outputs": [
    {
     "name": "stdout",
     "output_type": "stream",
     "text": [
      "2\n"
     ]
    }
   ],
   "source": [
    "## Modifying Global Variables with global Keyword\n",
    "\n",
    "count = 0  # Global variable\n",
    "\n",
    "def increment():\n",
    "    global count  # Access and modify the global variable\n",
    "    count += 1\n",
    "\n",
    "increment()\n",
    "increment()\n",
    "print(count)  # Output: 2\n"
   ]
  },
  {
   "cell_type": "code",
   "execution_count": 20,
   "metadata": {},
   "outputs": [
    {
     "name": "stdout",
     "output_type": "stream",
     "text": [
      "5\n",
      "5\n"
     ]
    }
   ],
   "source": [
    "## Global Scope with Functions and Variables\n",
    "\n",
    "x = 5  # Global variable\n",
    "\n",
    "def print_x():\n",
    "    print(x)  # Access global variable x\n",
    "\n",
    "def modify_x():\n",
    "    global x # removing global will result to x value to remain 5\n",
    "    x = 10  # Modify global variable x\n",
    "\n",
    "print_x()  # Output: 5\n",
    "modify_x()\n",
    "print_x()  # Output: 10\n"
   ]
  },
  {
   "cell_type": "markdown",
   "metadata": {},
   "source": [
    "\n",
    "##### **`Comparison: Module-Level Scope vs. Global Scope`**\n",
    "\n",
    "**Similarities**:\n",
    "\n",
    "-   Both module-level scope and global scope allow variables or functions to be accessible throughout the program.\n",
    "-   They are both **not tied to any specific function or class**. This means variables defined at either level can be accessed by any function or code block within their respective scope.\n",
    "\n",
    "**Differences**:\n",
    "\n",
    "1.  **Global Scope**:\n",
    "    \n",
    "    -   Defined outside of functions or classes and is accessible anywhere in the program **globally**.\n",
    "    -   Global variables are available throughout the entire script and can be accessed or modified by any function **without any imports**.\n",
    "    -   **Global scope is typically used for variables that need to be accessed by the entire program.**\n",
    "2.  **Module-Level Scope**:\n",
    "    \n",
    "    -   Defined at the top level of a module (Python file).\n",
    "    -   **Accessible only within the module in which they are defined**, unless explicitly imported into another module.\n",
    "    -   **Module-level scope is used for organizing code into separate files (modules)**, making it easier to maintain and reuse code across different parts of a program."
   ]
  },
  {
   "cell_type": "markdown",
   "metadata": {},
   "source": [
    "\n",
    "### 15. What is PEP 8 and why is it important?\n",
    "\n",
    "-   **PEP 8** (Python Enhancement Proposal 8) is the official style guide for writing Python code.\n",
    "-   It provides conventions and recommendations on how to write clean, readable, and consistent Python code.\n",
    "-   It is considered a standard for Python code style, and adhering to it ensures that code is maintainable, understandable, and follows best practices."
   ]
  },
  {
   "cell_type": "markdown",
   "metadata": {},
   "source": [
    "\n",
    "#### **Key Guidelines in PEP 8:**\n",
    "\n",
    "1.  **Indentation**:\n",
    "    \n",
    "    -   Use 4 spaces per indentation level. Do not use tabs.\n",
    "    -   Example:\n",
    "        \n",
    "        `def function():\n",
    "\n",
    "            print(\"Hello World\")` \n",
    "        \n",
    "2.  **Line Length**:\n",
    "    \n",
    "    -   Limit all lines to a maximum of 79 characters. For docstrings and comments, limit them to 72 characters.\n",
    "3.  **Blank Lines**:\n",
    "    \n",
    "    -   Use blank lines to separate functions, classes, and blocks of code inside functions.\n",
    "    -   Example:\n",
    "        \n",
    "        \n",
    "        `def first_function():\n",
    "\n",
    "            pass\n",
    "        \n",
    "        def second_function():\n",
    "\n",
    "            pass` \n",
    "        \n",
    "4.  **Imports**:\n",
    "    \n",
    "    -   Imports should be on separate lines.\n",
    "    -   Standard library imports first, followed by third-party imports, and then local application imports.\n",
    "    -   Example:\n",
    "        \n",
    "        \n",
    "        `import os\n",
    "\n",
    "        import sys\n",
    "\n",
    "        from mymodule import my_function` \n",
    "        \n",
    "5.  **Naming Conventions**:\n",
    "    \n",
    "    -   **Variable names**: Use lowercase with underscores for variables (e.g., `my_variable`).\n",
    "    -   **Class names**: Use the CapitalizedWords convention (e.g., `MyClass`).\n",
    "    -   **Function names**: Use lowercase with underscores (e.g., `my_function`).\n",
    "    -   **Constants**: Use all uppercase letters with underscores (e.g., `MY_CONSTANT`).\n",
    "6.  **Docstrings**:\n",
    "    \n",
    "    -   Use triple quotes for docstrings and keep them concise. Document all public modules, functions, classes, and methods.\n",
    "    -   Example:\n",
    "\n",
    "        `def example_function():\n",
    "\n",
    "            \"\"\"This function does something.\"\"\"\n",
    "            pass` \n",
    "        \n",
    "7.  **Whitespace in Expressions and Statements**:\n",
    "    \n",
    "    -   Avoid extra spaces inside parentheses, brackets, or braces.\n",
    "    -   Example:\n",
    "        \n",
    "        `# Correct\n",
    "\n",
    "        result = (a + b) * (c - d)\n",
    "\n",
    "        # Incorrect\n",
    "\n",
    "        result = ( a + b ) * ( c - d )` \n",
    "        \n",
    "8.  **Comparison and Boolean Operators**:\n",
    "    \n",
    "    -   Use `is` for comparisons with `None`.\n",
    "    -   Example:\n",
    "        \n",
    "        `if var is None:\n",
    "        \n",
    "            pass`"
   ]
  },
  {
   "cell_type": "markdown",
   "metadata": {},
   "source": [
    "\n",
    "# 16. What is an Interpreted language?\n",
    "\n",
    "-   **Definition**: Executes code line by line, translating each statement into machine code during runtime.\n",
    "-   **Examples**: Python, JavaScript, R, PHP, Ruby.\n",
    "-   **Characteristics**:\n",
    "    -   No compilation step; runs directly from source code.\n",
    "    -   Suitable for scripting, rapid prototyping, and applications requiring frequent changes.\n",
    "-   **Advantages**:\n",
    "    -   Platform independence (requires an interpreter for the specific platform).\n",
    "    -   Easier debugging due to immediate feedback.\n",
    "-   **Disadvantages**:\n",
    "    -   Slower execution compared to compiled languages since translation happens during runtime.\n",
    "    -   Dependent on the interpreter for execution."
   ]
  },
  {
   "cell_type": "markdown",
   "metadata": {},
   "source": [
    "\n",
    "# 17. What is a dynamically typed language?\n",
    "\n",
    "\n",
    "-   **Definition**: A programming language where data types are checked at runtime (during execution), not before execution.\n",
    "    \n",
    "-   **Key Features**:\n",
    "    \n",
    "    -   Variables can change type dynamically.\n",
    "    -   No need to declare the type of a variable explicitly.\n",
    "    -   Example in Python:\n",
    "        \n",
    "        `x = 10        # x is an integer\n",
    "\n",
    "        x = \"Hello\"   # x is now a string` \n",
    "        \n",
    "-   **Typing Classifications**:\n",
    "    \n",
    "    -   **Strongly Typed**: Prevents implicit type conversion (e.g., Python).\n",
    "        -   Example: `\"1\" + 2` raises a `TypeError` in Python.\n",
    "    -   **Weakly Typed**: Allows implicit type conversion (e.g., JavaScript).\n",
    "        -   Example: `\"1\" + 2` results in `\"12\"` in JavaScript.\n",
    "-   **Advantages**:\n",
    "    \n",
    "    -   Flexibility in coding.\n",
    "    -   Easier and faster prototyping.\n",
    "-   **Disadvantages**:\n",
    "    \n",
    "    -   Increases the risk of runtime errors.\n",
    "    -   Slower performance compared to statically typed languages."
   ]
  },
  {
   "cell_type": "markdown",
   "metadata": {},
   "source": [
    "# 18. What is Python? What are the benefits of using Python\n",
    "\n",
    "-   **Definition**:\n",
    "    \n",
    "    -   A high-level, interpreted, and general-purpose programming language.\n",
    "    -   Suitable for building a wide range of applications with appropriate tools/libraries.\n",
    "    -   Supports **objects**, **modules**, **threads**, **exception handling**, and **automatic memory management**.\n",
    "-   **Benefits**:\n",
    "    \n",
    "    -   **Readability & Maintenance**:\n",
    "        -   Simple and easy-to-learn syntax.\n",
    "        -   Reduces program maintenance costs.\n",
    "    -   **Versatility**:\n",
    "        -   General-purpose and suitable for scripting.\n",
    "        -   Open-source with extensive third-party packages for modularity and code reuse.\n",
    "    -   **Efficiency**:\n",
    "        -   High-level data structures.\n",
    "        -   Dynamic typing and dynamic binding for flexibility.\n",
    "        -   Great for **Rapid Application Development** and deployment."
   ]
  }
 ],
 "metadata": {
  "kernelspec": {
   "display_name": "Python 3",
   "language": "python",
   "name": "python3"
  },
  "language_info": {
   "codemirror_mode": {
    "name": "ipython",
    "version": 3
   },
   "file_extension": ".py",
   "mimetype": "text/x-python",
   "name": "python",
   "nbconvert_exporter": "python",
   "pygments_lexer": "ipython3",
   "version": "3.11.9"
  }
 },
 "nbformat": 4,
 "nbformat_minor": 2
}
