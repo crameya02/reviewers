{
 "cells": [
  {
   "cell_type": "code",
   "execution_count": null,
   "metadata": {},
   "outputs": [],
   "source": []
  },
  {
   "cell_type": "markdown",
   "metadata": {},
   "source": [
    "\n",
    "1. OOP stands for Object-Oriented Programming.\n",
    " - object-oriented programming is about creating objects that contain both data and methods.\n",
    " - it provides concepts such as objects, classes, inheritance etc.\n",
    "\n",
    "2. Procedural programming \n",
    " - is about writing procedures or methods that perform operations on the data, while \n",
    "\n",
    "Object-oriented programming has several advantages over procedural programming:\n",
    "\n",
    "-   OOP is faster and easier to execute\n",
    "-   OOP provides a clear structure for the programs\n",
    "-   OOP helps to keep the C# code DRY \"Don't Repeat Yourself\", and makes the code easier to maintain, modify and debug\n",
    "-   OOP makes it possible to create full reusable applications with less code and shorter development time\n",
    "\n",
    "\n",
    "Object-Oriented Programming offers several benefits, including:\n",
    "\n",
    "-   **Modularity**: OOP promotes modularity by breaking down complex systems into smaller, manageable parts (objects). This makes it easier to maintain and update the code.\n",
    "    \n",
    "-   **Reusability**: OOP allows you to reuse existing code by creating new objects based on existing ones. This saves time and effort in developing new applications.\n",
    "    \n",
    "-   **Flexibility**: OOP provides flexibility in designing and implementing software systems. You can easily modify and extend the functionality of objects without affecting other parts of the system.\n",
    "    \n",
    "-   **Scalability**: OOP supports scalability by allowing you to add new objects and classes as the system grows. This makes it easier to accommodate changes and enhancements in the software."
   ]
  },
  {
   "cell_type": "markdown",
   "metadata": {},
   "source": [
    "\n",
    "The four pillars of Object-Oriented Programming are: (these are also the part of OOP concepts)\n",
    "\n",
    "1.  [**Inheritance**](OOP_Pillars/Inheritance.ipynb)\n",
    "2.  [**Encapsulation**](OOP_Pillars/Encapsulation.ipynb)\n",
    "3.  [**Polymorphism**](OOP_Pillars/Inheritance.ipynb)\n",
    "4.  [**Abstraction**](OOP_Pillars/Inheritance.ipynb)\n",
    "\n",
    "    - 5.  [**Classes and Object**](Concepts/ClassesAndObjects.ipynb)"
   ]
  }
 ],
 "metadata": {
  "kernelspec": {
   "display_name": "Python 3",
   "language": "python",
   "name": "python3"
  },
  "language_info": {
   "name": "python",
   "version": "3.11.9"
  }
 },
 "nbformat": 4,
 "nbformat_minor": 2
}
