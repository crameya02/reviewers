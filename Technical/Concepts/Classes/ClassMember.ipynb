{
 "cells": [
  {
   "cell_type": "markdown",
   "metadata": {},
   "source": [
    "\n",
    "## Class Members\n",
    "\n",
    "Fields and methods inside classes are often referred to as \"Class Members\":"
   ]
  },
  {
   "cell_type": "code",
   "execution_count": 5,
   "metadata": {
    "vscode": {
     "languageId": "polyglot-notebook"
    }
   },
   "outputs": [
    {
     "name": "stdout",
     "output_type": "stream",
     "text": [
      "The car is going as fast as it can!\n",
      "The car color is red\n",
      "The car maxSpeed is 200mph\n"
     ]
    }
   ],
   "source": [
    "// The class\n",
    "class MyClass\n",
    "{\n",
    "  // Class members\n",
    "  string color = \"red\";        // field\n",
    "  int maxSpeed = 200;          // field\n",
    "  public void fullThrottle()   // method\n",
    "  {\n",
    "    Console.WriteLine(\"The car is going as fast as it can!\");\n",
    "    Console.WriteLine(\"The car color is \"+ color);\n",
    "    Console.WriteLine(\"The car maxSpeed is \"+ maxSpeed + \"mph\");\n",
    "  }\n",
    "}\n",
    "\n",
    "MyClass newClass = new MyClass();\n",
    "\n",
    "newClass.fullThrottle();\n"
   ]
  },
  {
   "cell_type": "markdown",
   "metadata": {},
   "source": [
    "\n",
    "## Fields\n",
    "\n",
    "Variables inside a class are called fields, and that you can access them by creating an object of the class, and by using the dot syntax (`.`).\n",
    "\n",
    "The following example will create an object of the  `Car`  class, with the name  `myObj`. Then we print the value of the fields  `color`  and  `maxSpeed`:"
   ]
  },
  {
   "cell_type": "code",
   "execution_count": 8,
   "metadata": {
    "vscode": {
     "languageId": "polyglot-notebook"
    }
   },
   "outputs": [
    {
     "name": "stdout",
     "output_type": "stream",
     "text": [
      "red\n",
      "200\n",
      "The car is going as fast as it can!\n"
     ]
    }
   ],
   "source": [
    "class Car \n",
    "{\n",
    "  public string color = \"red\"; // field\n",
    "  public int maxSpeed = 200; // field\n",
    "   public void fullThrottle()    // method\n",
    "  {\n",
    "    Console.WriteLine(\"The car is going as fast as it can!\"); \n",
    "  }\n",
    "\n",
    "}\n",
    "Car myObj = new Car();\n",
    "Console.WriteLine(myObj.color);\n",
    "Console.WriteLine(myObj.maxSpeed);\n",
    "  myObj.fullThrottle();  // Call the method"
   ]
  }
 ],
 "metadata": {
  "kernelspec": {
   "display_name": ".NET (C#)",
   "language": "C#",
   "name": ".net-csharp"
  },
  "language_info": {
   "name": "python"
  },
  "polyglot_notebook": {
   "kernelInfo": {
    "defaultKernelName": "csharp",
    "items": [
     {
      "aliases": [],
      "name": "csharp"
     }
    ]
   }
  }
 },
 "nbformat": 4,
 "nbformat_minor": 2
}
