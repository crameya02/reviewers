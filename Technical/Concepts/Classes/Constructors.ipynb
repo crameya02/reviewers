{
 "cells": [
  {
   "cell_type": "markdown",
   "metadata": {},
   "source": [
    "\n",
    "## Constructors\n",
    "\n",
    "A constructor is a  **special method**  that is used to initialize objects. The advantage of a constructor, is that it is called when an object of a class is created. It can be used to set initial values for fields:"
   ]
  },
  {
   "cell_type": "code",
   "execution_count": 1,
   "metadata": {
    "vscode": {
     "languageId": "polyglot-notebook"
    }
   },
   "outputs": [
    {
     "name": "stdout",
     "output_type": "stream",
     "text": [
      "Mustang\r\n"
     ]
    }
   ],
   "source": [
    "// Create a Car class\n",
    "class Car\n",
    "{\n",
    "  public string model;  // Create a field\n",
    "\n",
    "  // Create a class constructor for the Car class\n",
    "  public Car()\n",
    "  {\n",
    "    model = \"Mustang\"; // Set the initial value for model\n",
    "  }\n",
    "\n",
    "}\n",
    "Car Ford = new Car();  // Create an object of the Car Class (this will call the constructor)\n",
    "Console.WriteLine(Ford.model);  // Print the value of model\n",
    "  "
   ]
  },
  {
   "cell_type": "markdown",
   "metadata": {},
   "source": [
    "\n",
    "## Constructor Parameters\n",
    "\n",
    "Constructors can also take parameters, which is used to initialize fields.\n",
    "\n",
    "The following example adds a  `string modelName`  parameter to the constructor. Inside the constructor we set  `model`  to  `modelName`  (`model=modelName`). When we call the constructor, we pass a parameter to the constructor (`\"Mustang\"`), which will set the value of  `model`  to  `\"Mustang\"`:"
   ]
  },
  {
   "cell_type": "code",
   "execution_count": 2,
   "metadata": {
    "vscode": {
     "languageId": "polyglot-notebook"
    }
   },
   "outputs": [
    {
     "name": "stdout",
     "output_type": "stream",
     "text": [
      "Mustang\r\n"
     ]
    }
   ],
   "source": [
    "class Car\n",
    "{\n",
    "  public string model;\n",
    "\n",
    "  // Create a class constructor with a parameter\n",
    "  public Car(string modelName)\n",
    "  {\n",
    "    model = modelName;\n",
    "  }\n",
    "\n",
    " \n",
    "}\n",
    " \n",
    "    Car Ford = new Car(\"Mustang\");\n",
    "    Console.WriteLine(Ford.model);\n",
    "  "
   ]
  }
 ],
 "metadata": {
  "kernelspec": {
   "display_name": ".NET (C#)",
   "language": "C#",
   "name": ".net-csharp"
  },
  "language_info": {
   "name": "python"
  },
  "polyglot_notebook": {
   "kernelInfo": {
    "defaultKernelName": "csharp",
    "items": [
     {
      "aliases": [],
      "name": "csharp"
     }
    ]
   }
  }
 },
 "nbformat": 4,
 "nbformat_minor": 2
}
