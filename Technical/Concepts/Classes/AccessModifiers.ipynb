{
 "cells": [
  {
   "cell_type": "markdown",
   "metadata": {},
   "source": [
    "\n",
    "## Access modifiers \n",
    "\n",
    "\n",
    "Access modifiers in C# define the accessibility or scope of a member of a class, such as fields, properties, methods, and nested classes. They determine where these members can be accessed from within the application. The main access modifiers in C# are:"
   ]
  },
  {
   "cell_type": "markdown",
   "metadata": {},
   "source": [
    "\n",
    "-   **public**:\n",
    "    \n",
    "    -   **Accessibility**: Any part of the code can access the member.\n",
    "    -   **Use Case**: When you want the member to be accessible from any other code.\n",
    "-   **private**:\n",
    "    \n",
    "    -   **Accessibility**: Only within the same class.\n",
    "    -   **Use Case**: When you want to encapsulate the member and prevent access from outside the class.\n",
    "-   **protected**:\n",
    "    \n",
    "    -   **Accessibility**: Within the same class and any derived classes.\n",
    "    -   **Use Case**: When you want the member to be accessible within the class and its subclasses.\n",
    "-   **internal**:\n",
    "    \n",
    "    -   **Accessibility**: Within the same assembly but not from another assembly.\n",
    "    -   **Use Case**: When you want the member to be accessible to other types in the same assembly but not to types in other assemblies.\n",
    "-   **protected internal**:\n",
    "    \n",
    "    -   **Accessibility**: Within the same assembly or any derived class in another assembly.\n",
    "    -   **Use Case**: When you want the member to be accessible within its own assembly and also to any subclasses.\n",
    "-   **private protected**:\n",
    "    \n",
    "    -   **Accessibility**: Within the same class or derived classes defined in the same assembly.\n",
    "    -   **Use Case**: When you want the member to be accessible within its class and derived classes but only within the same assembly."
   ]
  },
  {
   "cell_type": "markdown",
   "metadata": {},
   "source": [
    "## Public Modifier"
   ]
  },
  {
   "cell_type": "code",
   "execution_count": 6,
   "metadata": {
    "dotnet_interactive": {
     "language": "csharp"
    },
    "polyglot_notebook": {
     "kernelName": "csharp"
    },
    "vscode": {
     "languageId": "polyglot-notebook"
    }
   },
   "outputs": [],
   "source": [
    "class Car\n",
    "{\n",
    "  private string model = \"Mustang\";\n",
    "\n",
    "public void Test()\n",
    "{\n",
    " Car myObj = new Car();\n",
    "    Console.WriteLine(myObj.model);\n",
    "}\n",
    "}\n",
    " Car myCar = new Car();\n",
    "        myCar.Test();"
   ]
  },
  {
   "cell_type": "markdown",
   "metadata": {},
   "source": [
    "## Private Modifier"
   ]
  },
  {
   "cell_type": "code",
   "execution_count": 1,
   "metadata": {
    "dotnet_interactive": {
     "language": "csharp"
    },
    "polyglot_notebook": {
     "kernelName": "csharp"
    },
    "vscode": {
     "languageId": "polyglot-notebook"
    }
   },
   "outputs": [
    {
     "name": "stdout",
     "output_type": "stream",
     "text": [
      "Mustang\r\n"
     ]
    }
   ],
   "source": [
    "class Car\n",
    "{\n",
    "  private string model = \"Mustang\";\n",
    "\n",
    "  public void displayModel()\n",
    "  {\n",
    "    Car myObj = new Car();\n",
    "    Console.WriteLine(myObj.model);\n",
    "  }\n",
    "}\n",
    "Car carObj = new Car();\n",
    "carObj.displayModel();"
   ]
  },
  {
   "cell_type": "markdown",
   "metadata": {},
   "source": [
    "if you try to access outside the class, an error will occur"
   ]
  },
  {
   "cell_type": "code",
   "execution_count": 14,
   "metadata": {
    "dotnet_interactive": {
     "language": "csharp"
    },
    "polyglot_notebook": {
     "kernelName": "csharp"
    },
    "vscode": {
     "languageId": "polyglot-notebook"
    }
   },
   "outputs": [],
   "source": [
    "class Car\n",
    "{\n",
    "  private string model = \"Mustang\";\n",
    "}\n",
    "\n",
    "class Program\n",
    "{\n",
    "  static void Main(string[] args)\n",
    "  {\n",
    "    Car myObj = new Car();\n",
    "    Console.WriteLine(myObj.model);\n",
    "  }\n",
    "}"
   ]
  },
  {
   "cell_type": "markdown",
   "metadata": {},
   "source": [
    "## Protected Modifier"
   ]
  },
  {
   "cell_type": "code",
   "execution_count": 2,
   "metadata": {
    "dotnet_interactive": {
     "language": "csharp"
    },
    "polyglot_notebook": {
     "kernelName": "csharp"
    },
    "vscode": {
     "languageId": "polyglot-notebook"
    }
   },
   "outputs": [
    {
     "name": "stdout",
     "output_type": "stream",
     "text": [
      "Mustang\n",
      "Model: Mustang\n"
     ]
    }
   ],
   "source": [
    "class Car\n",
    "{\n",
    "    protected string model = \"Mustang\";\n",
    "\n",
    "    public void Test()\n",
    "    {\n",
    "        Car myObj = new Car();\n",
    "        Console.WriteLine(myObj.model);\n",
    "    }\n",
    "}\n",
    "\n",
    "class SportsCar : Car\n",
    "{\n",
    "    public void ShowModel()\n",
    "    {\n",
    "        Console.WriteLine(\"Model: \" + model);\n",
    "    }\n",
    "}\n",
    "\n",
    "Car myCar = new Car();\n",
    "myCar.Test();\n",
    "\n",
    "SportsCar mySportsCar = new SportsCar();\n",
    "mySportsCar.ShowModel();"
   ]
  },
  {
   "cell_type": "markdown",
   "metadata": {},
   "source": [
    "## Internal Modifier\n",
    "\n",
    "The `internal` access modifier makes a member accessible only within its own assembly. This means that if you have multiple projects within the same solution, a member marked as `internal` will only be accessible within the project where it is declared.\n",
    "\n",
    "Here's an example demonstrating the use of the `internal` access modifier:\n",
    "\n",
    "### Project Structure\n",
    "\n",
    "Assume you have two projects in your solution:\n",
    "\n",
    "1.  **Project1**: Contains the `Car` class.\n",
    "2.  **Project2**: Contains the `Program` class and references **Project1**.\n",
    "\n",
    "### Project1 (CarLibrary)\n",
    "\n",
    "**Car.cs**"
   ]
  },
  {
   "cell_type": "code",
   "execution_count": 3,
   "metadata": {
    "dotnet_interactive": {
     "language": "csharp"
    },
    "polyglot_notebook": {
     "kernelName": "csharp"
    },
    "vscode": {
     "languageId": "polyglot-notebook"
    }
   },
   "outputs": [],
   "source": [
    "// Uncomment lines here , It wont work in Jupyter\n",
    "\n",
    "\n",
    "// namespace CarLibrary\n",
    "// {\n",
    "    public class Car\n",
    "    {\n",
    "        internal string model = \"Mustang\";\n",
    "\n",
    "        public void Test()\n",
    "        {\n",
    "            Car myObj = new Car();\n",
    "            Console.WriteLine(myObj.model);\n",
    "        }\n",
    "    }\n",
    "//}"
   ]
  },
  {
   "cell_type": "code",
   "execution_count": 4,
   "metadata": {
    "dotnet_interactive": {
     "language": "csharp"
    },
    "polyglot_notebook": {
     "kernelName": "csharp"
    },
    "vscode": {
     "languageId": "polyglot-notebook"
    }
   },
   "outputs": [],
   "source": [
    "//using CarLibrary;\n",
    "\n",
    "class Program\n",
    "{\n",
    "    static void Main()\n",
    "    {\n",
    "        Car myCar = new Car();\n",
    "        myCar.Test();\n",
    "\n",
    "        // This will cause a compile-time error because `model` is internal and\n",
    "        // not accessible from another assembly (Project2).\n",
    "        // Console.WriteLine(myCar.model); \n",
    "    }\n",
    "}"
   ]
  },
  {
   "cell_type": "markdown",
   "metadata": {},
   "source": [
    "## Protected Internal Modifier\n",
    "\n",
    "\n",
    "The `protected internal` access modifier in C# combines the features of both `protected` and `internal`. This means that a member marked as `protected internal` can be accessed by:\n",
    "\n",
    "-   Any class within the same assembly (like `internal`).\n",
    "-   Any derived class (like `protected`), even if it is in a different assembly.\n",
    "\n",
    "Here's an example demonstrating the use of the `protected internal` access modifier:\n",
    "\n",
    "### Project Structure\n",
    "\n",
    "Assume you have two projects in your solution:\n",
    "\n",
    "1.  **Project1**: Contains the `Car` class.\n",
    "2.  **Project2**: Contains the `Program` class and references **Project1**.\n",
    "\n",
    "### Project1 (CarLibrary)\n",
    "\n",
    "**Car.cs**"
   ]
  },
  {
   "cell_type": "code",
   "execution_count": 5,
   "metadata": {
    "dotnet_interactive": {
     "language": "csharp"
    },
    "polyglot_notebook": {
     "kernelName": "csharp"
    },
    "vscode": {
     "languageId": "polyglot-notebook"
    }
   },
   "outputs": [],
   "source": [
    "using System;\n",
    "\n",
    "// namespace CarLibrary\n",
    "// {\n",
    "    public class Car\n",
    "    {\n",
    "        protected internal string model = \"Mustang\";\n",
    "\n",
    "        public void Test()\n",
    "        {\n",
    "            Car myObj = new Car();\n",
    "            Console.WriteLine(myObj.model);\n",
    "        }\n",
    "    }\n",
    "\n",
    "    public class DerivedCar : Car\n",
    "    {\n",
    "        public void ShowModel()\n",
    "        {\n",
    "            Console.WriteLine(\"DerivedCar Model: \" + model);\n",
    "        }\n",
    "    }\n",
    "// }"
   ]
  },
  {
   "cell_type": "code",
   "execution_count": null,
   "metadata": {
    "dotnet_interactive": {
     "language": "csharp"
    },
    "polyglot_notebook": {
     "kernelName": "csharp"
    },
    "vscode": {
     "languageId": "polyglot-notebook"
    }
   },
   "outputs": [],
   "source": [
    "// using System;\n",
    "// using CarLibrary;\n",
    "\n",
    "class Program\n",
    "{\n",
    "    static void Main()\n",
    "    {\n",
    "        Car myCar = new Car();\n",
    "        myCar.Test();\n",
    "\n",
    "        // Accessing protected internal member from a derived class within the same assembly\n",
    "        DerivedCar myDerivedCar = new DerivedCar();\n",
    "        myDerivedCar.ShowModel();\n",
    "\n",
    "        // Accessing protected internal member from a derived class in a different assembly\n",
    "        ExternalDerivedCar myExternalDerivedCar = new ExternalDerivedCar();\n",
    "        myExternalDerivedCar.DisplayModel();\n",
    "    }\n",
    "}\n",
    "\n",
    "public class ExternalDerivedCar : Car\n",
    "{\n",
    "    public void DisplayModel()\n",
    "    {\n",
    "        // This works because `model` is protected and accessible in derived classes\n",
    "        Console.WriteLine(\"Model from ExternalDerivedCar: \" + model);\n",
    "    }\n",
    "}\n"
   ]
  },
  {
   "cell_type": "markdown",
   "metadata": {},
   "source": [
    "## Private Protected Modifier\n",
    "\n",
    "\n",
    "The `private protected` access modifier in C# is used to indicate that a member is accessible only within its containing class or derived classes located in the same assembly. It is a combination of `private` and `protected`, meaning the member is more restricted than `protected internal`.\n",
    "\n",
    "Here's an example demonstrating the use of the `private protected` access modifier:\n",
    "\n",
    "### Project Structure\n",
    "\n",
    "Assume you have two projects in your solution:\n",
    "\n",
    "1.  **Project1**: Contains the `Car` class.\n",
    "2.  **Project2**: Contains the `Program` class and references **Project1**.\n",
    "\n",
    "### Project1 (CarLibrary)\n",
    "\n",
    "**Car.cs**"
   ]
  },
  {
   "cell_type": "code",
   "execution_count": null,
   "metadata": {
    "dotnet_interactive": {
     "language": "csharp"
    },
    "polyglot_notebook": {
     "kernelName": "csharp"
    },
    "vscode": {
     "languageId": "polyglot-notebook"
    }
   },
   "outputs": [],
   "source": [
    "using System;\n",
    "\n",
    "// namespace CarLibrary\n",
    "// {\n",
    "    public class Car\n",
    "    {\n",
    "        private protected string model = \"Mustang\";\n",
    "\n",
    "        public void Test()\n",
    "        {\n",
    "            Car myObj = new Car();\n",
    "            Console.WriteLine(myObj.model);\n",
    "        }\n",
    "    }\n",
    "\n",
    "    public class DerivedCar : Car\n",
    "    {\n",
    "        public void ShowModel()\n",
    "        {\n",
    "            Console.WriteLine(\"DerivedCar Model: \" + model);\n",
    "        }\n",
    "    }\n",
    "// }\n"
   ]
  },
  {
   "cell_type": "markdown",
   "metadata": {},
   "source": [
    "\n",
    "### Project2 (MainProgram)\n",
    "\n",
    "**Program.cs**"
   ]
  },
  {
   "cell_type": "code",
   "execution_count": null,
   "metadata": {
    "dotnet_interactive": {
     "language": "csharp"
    },
    "polyglot_notebook": {
     "kernelName": "csharp"
    },
    "vscode": {
     "languageId": "polyglot-notebook"
    }
   },
   "outputs": [],
   "source": [
    "using System;\n",
    "using CarLibrary;\n",
    "\n",
    "class Program\n",
    "{\n",
    "    static void Main()\n",
    "    {\n",
    "        Car myCar = new Car();\n",
    "        myCar.Test();\n",
    "\n",
    "        DerivedCar myDerivedCar = new DerivedCar();\n",
    "        myDerivedCar.ShowModel();\n",
    "\n",
    "        ExternalDerivedCar myExternalDerivedCar = new ExternalDerivedCar();\n",
    "        myExternalDerivedCar.DisplayModel();\n",
    "    }\n",
    "}\n",
    "\n",
    "// External class in a different assembly\n",
    "public class ExternalDerivedCar : Car\n",
    "{\n",
    "    public void DisplayModel()\n",
    "    {\n",
    "        // This will cause a compile-time error because `model` is private protected\n",
    "        // and not accessible from a derived class in another assembly.\n",
    "        // Console.WriteLine(\"Model from ExternalDerivedCar: \" + model);\n",
    "    }\n",
    "}\n"
   ]
  }
 ],
 "metadata": {
  "kernelspec": {
   "display_name": ".NET (C#)",
   "language": "C#",
   "name": ".net-csharp"
  },
  "language_info": {
   "name": "python",
   "version": "3.11.9"
  },
  "polyglot_notebook": {
   "kernelInfo": {
    "defaultKernelName": "csharp",
    "items": [
     {
      "aliases": [],
      "name": "csharp"
     }
    ]
   }
  }
 },
 "nbformat": 4,
 "nbformat_minor": 2
}
