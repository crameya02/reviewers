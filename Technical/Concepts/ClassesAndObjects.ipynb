{
 "cells": [
  {
   "cell_type": "markdown",
   "metadata": {},
   "source": [
    "\n",
    "## Classes and Objects\n",
    "\n",
    "Everything in C# is associated with classes and objects, along with its attributes and methods. For example: in real life, a car is an object. The car has  **attributes**, such as weight and color, and  **methods**, such as drive and brake.\n",
    "\n",
    "A Class is like an object constructor, or a \"blueprint\" for creating objects."
   ]
  },
  {
   "cell_type": "code",
   "execution_count": 1,
   "metadata": {
    "dotnet_interactive": {
     "language": "csharp"
    },
    "polyglot_notebook": {
     "kernelName": "csharp"
    },
    "vscode": {
     "languageId": "polyglot-notebook"
    }
   },
   "outputs": [],
   "source": [
    "\n",
    "class Car \n",
    "{\n",
    "  string color = \"red\";\n",
    "}\n"
   ]
  },
  {
   "cell_type": "code",
   "execution_count": 5,
   "metadata": {
    "dotnet_interactive": {
     "language": "csharp"
    },
    "polyglot_notebook": {
     "kernelName": "csharp"
    },
    "vscode": {
     "languageId": "polyglot-notebook"
    }
   },
   "outputs": [],
   "source": [
    "\n",
    "public class Car\n",
    "{\n",
    "    // Fields\n",
    "    private string make;\n",
    "    private string model;\n",
    "    private int year;\n",
    "    public double fuelLevel;\n",
    "\n",
    "    // Properties\n",
    "    public string Make \n",
    "    { \n",
    "        get { return make; } \n",
    "        set { make = value; }\n",
    "    }\n",
    "    public string Model \n",
    "    { \n",
    "        get { return model; } \n",
    "        set { model = value; }\n",
    "    }\n",
    "    public int Year \n",
    "    { \n",
    "        get { return year; } \n",
    "        set { year = value; }\n",
    "    }\n",
    "    public double FuelLevel \n",
    "    { \n",
    "        get { return fuelLevel; } \n",
    "        private set { fuelLevel = value; }\n",
    "    }\n",
    "\n",
    "    // Constructor\n",
    "    public Car(string make, string model, int year)\n",
    "    {\n",
    "        this.make = make;\n",
    "        this.model = model;\n",
    "        this.year = year;\n",
    "        this.fuelLevel = 0;\n",
    "    }\n",
    "\n",
    "    // Methods\n",
    "    public void Start()\n",
    "    {\n",
    "        Console.WriteLine(\"The car is starting.\");\n",
    "    }\n",
    "\n",
    "    public void Drive(double distance)\n",
    "    {\n",
    "        if (fuelLevel > 0)\n",
    "        {\n",
    "            Console.WriteLine($\"Driving {distance} miles.\");\n",
    "            fuelLevel -= distance * 0.1; // Simple fuel consumption model\n",
    "        }\n",
    "        else\n",
    "        {\n",
    "            Console.WriteLine(\"Not enough fuel to drive.\");\n",
    "        }\n",
    "    }\n",
    "\n",
    "    public void Refuel(double amount)\n",
    "    {\n",
    "        fuelLevel += amount;\n",
    "        Console.WriteLine($\"Refueled. New fuel level: {fuelLevel}\");\n",
    "    }\n",
    "}\n",
    "\n",
    "Car myCar = new Car(\"Toyota\", \"Corolla\", 2022);\n",
    "myCar.Start();\n",
    "myCar.Refuel(10);\n",
    "myCar.Drive(50);"
   ]
  },
  {
   "cell_type": "markdown",
   "metadata": {},
   "source": [
    "\n",
    "## Create an Object\n",
    "\n",
    "An object is created from a class. We have already created the class named  `Car`, so now we can use this to create objects. Objects in C# are instances of classes. They represent concrete, usable entities based on the blueprint defined by a class. \n",
    "\n",
    "To create an object of  `Car`, specify the class name, followed by the object name, and use the keyword  `new`:"
   ]
  },
  {
   "cell_type": "code",
   "execution_count": 4,
   "metadata": {
    "dotnet_interactive": {
     "language": "csharp"
    },
    "polyglot_notebook": {
     "kernelName": "csharp"
    },
    "vscode": {
     "languageId": "polyglot-notebook"
    }
   },
   "outputs": [],
   "source": [
    "Car anotherCar = new Car(\"Honda\", \"Civic\", 2023);\n",
    "myCar.Drive(50);"
   ]
  }
 ],
 "metadata": {
  "kernelspec": {
   "display_name": ".NET (C#)",
   "language": "C#",
   "name": ".net-csharp"
  },
  "language_info": {
   "name": "python",
   "version": "3.11.9"
  },
  "polyglot_notebook": {
   "kernelInfo": {
    "defaultKernelName": "csharp",
    "items": [
     {
      "aliases": [],
      "name": "csharp"
     }
    ]
   }
  }
 },
 "nbformat": 4,
 "nbformat_minor": 2
}
