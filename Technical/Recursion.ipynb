{
 "cells": [
  {
   "cell_type": "markdown",
   "metadata": {},
   "source": [
    "## Recursion\n",
    "\n",
    "Recursion is the technique of making a function call itself. This technique provides a way to break complicated problems down into simple problems which are easier to solve."
   ]
  },
  {
   "cell_type": "code",
   "execution_count": 8,
   "metadata": {
    "dotnet_interactive": {
     "language": "csharp"
    },
    "polyglot_notebook": {
     "kernelName": "csharp"
    },
    "vscode": {
     "languageId": "polyglot-notebook"
    }
   },
   "outputs": [
    {
     "name": "stdout",
     "output_type": "stream",
     "text": [
      "Final Result: 6\r\n"
     ]
    }
   ],
   "source": [
    "static int Sum(int k)\n",
    "    {\n",
    "        if (k > 0)\n",
    "        {\n",
    "            return k + Sum(k - 1);\n",
    "        }\n",
    "        else\n",
    "        {\n",
    "            return 0;\n",
    "        }\n",
    "    }\n",
    "\n",
    "\n",
    "        int result = Sum(3);\n",
    "        Console.WriteLine(\"Final Result: \" + result);"
   ]
  },
  {
   "cell_type": "markdown",
   "metadata": {},
   "source": [
    "3 + 2 + 1 + sum(0)\n",
    "\n",
    "- The developer should be very careful with recursion as it can be quite easy to slip into writing a function which never terminates, or one that uses excess amounts of memory or processor power."
   ]
  }
 ],
 "metadata": {
  "kernelspec": {
   "display_name": ".NET (C#)",
   "language": "C#",
   "name": ".net-csharp"
  },
  "language_info": {
   "name": "python"
  },
  "polyglot_notebook": {
   "kernelInfo": {
    "defaultKernelName": "csharp",
    "items": [
     {
      "aliases": [],
      "name": "csharp"
     }
    ]
   }
  }
 },
 "nbformat": 4,
 "nbformat_minor": 2
}
