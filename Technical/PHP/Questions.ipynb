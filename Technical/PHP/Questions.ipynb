{
 "cells": [
  {
   "cell_type": "markdown",
   "metadata": {},
   "source": [
    "## What is Laravel?\n",
    "\n",
    "- an open source widely used PHP framework.\n",
    "- used for web development that uses MVC architechtural pattern\n",
    "- competitors are Symfony, CakePHP, Laminas, Slim, LeafPHP"
   ]
  },
  {
   "cell_type": "markdown",
   "metadata": {},
   "source": [
    "## Benifits over other PHP Frameworks?\n",
    "\n",
    "1. Inbuilt Authentication System\n",
    "2. Supports multiple file system\n",
    "3. Pre-loaded packages (Socialite, cashier, passport, scout)\n",
    "4. Eloquent ORM (Object Relation Mapping) with PHP active record implementation\n",
    "5. built in command line tool 'Artisan' for creating code sleton, database structure and their migration\n"
   ]
  },
  {
   "cell_type": "markdown",
   "metadata": {},
   "source": [
    "## Migrations in Laravel\n",
    "\n",
    "- acts like version control for the database\n",
    "- allows easily modification, and sharing of database schema within the team\n",
    "- typically paired with Laravel's schema builder to easily build application's database schema"
   ]
  },
  {
   "cell_type": "code",
   "execution_count": null,
   "metadata": {
    "vscode": {
     "languageId": "plaintext"
    }
   },
   "outputs": [],
   "source": [
    "php aritisan make:migration create_user_table"
   ]
  },
  {
   "cell_type": "markdown",
   "metadata": {},
   "source": [
    "# Official Laravel packages\n",
    "\n",
    "- Cashier\n",
    "- Passport\n",
    "- Scout\n",
    "- Socialite"
   ]
  },
  {
   "cell_type": "markdown",
   "metadata": {},
   "source": [
    "## Cashier\n",
    "\n",
    "- used for subscription based billing\n",
    "- it manages coupons, subscription quantity, subscription swapping, grace periods for cancellation and even create PDF invoices."
   ]
  },
  {
   "cell_type": "markdown",
   "metadata": {},
   "source": [
    "## Passport\n",
    "\n",
    "- makes API authentication simple, since it offers instant Oauth2 server implementation"
   ]
  },
  {
   "cell_type": "markdown",
   "metadata": {},
   "source": [
    "## Scout\n",
    "\n",
    "- includes full text search within Laravels Eloquent models"
   ]
  },
  {
   "cell_type": "markdown",
   "metadata": {},
   "source": [
    "## Socialite \n",
    "\n",
    "- interface for  OAuth authentication with 3rd party sites like Facebook, google, twitter, linkedin\n",
    "- contains almost all the boilerplates social authentication codes."
   ]
  },
  {
   "cell_type": "code",
   "execution_count": null,
   "metadata": {
    "vscode": {
     "languageId": "plaintext"
    }
   },
   "outputs": [],
   "source": [
    "Socialite provides the client for OAuth2, while Passport provides the server.\n",
    "\n",
    "With Socialite you consume other OAuth2 implementations (Google, FB, ...), while with Passport you create the OAuth2 for others to consume."
   ]
  },
  {
   "cell_type": "markdown",
   "metadata": {},
   "source": [
    "# How can you implement soft delete in Laravel?\n",
    "\n",
    "- When enabling soft deletes, you essentially add a deleted_at timestamp to your database records. When a record is \"deleted\", Laravel sets this timestamp instead of removing the record entirely. This allows you to: Recover accidentally deleted data."
   ]
  },
  {
   "cell_type": "code",
   "execution_count": null,
   "metadata": {
    "vscode": {
     "languageId": "plaintext"
    }
   },
   "outputs": [],
   "source": [
    "use Illuminate\\Database\\Eloquent\\Model;\n",
    "use Illuminate\\Database\\Eloquent\\SoftDeletes;\n",
    " \n",
    "class Flight extends Model\n",
    "{\n",
    "    use SoftDeletes;\n",
    "}"
   ]
  },
  {
   "cell_type": "markdown",
   "metadata": {},
   "source": [
    "# How can you request validation in Laravel?\n",
    "\n",
    "- request validation can be carried out using the controller method or by building a class that contains the validation guidelines and error messages"
   ]
  },
  {
   "cell_type": "code",
   "execution_count": null,
   "metadata": {
    "vscode": {
     "languageId": "plaintext"
    }
   },
   "outputs": [],
   "source": [
    "public function store(Request $request)\n",
    "{\n",
    "\n",
    "    $validated = $request -> validate([\n",
    "        'title' -> 'required|unique:posts|max:255',\n",
    "        'body' -> 'required',\n",
    "    \n",
    "    ]);\n",
    "    // blog post is valid\n",
    "}"
   ]
  }
 ],
 "metadata": {
  "language_info": {
   "name": "python"
  }
 },
 "nbformat": 4,
 "nbformat_minor": 2
}
