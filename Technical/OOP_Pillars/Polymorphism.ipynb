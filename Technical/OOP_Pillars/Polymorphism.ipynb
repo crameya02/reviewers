{
 "cells": [
  {
   "cell_type": "markdown",
   "metadata": {},
   "source": [
    "\n",
    "`**Polymorphism**`\n",
    "-  is a core concept in object-oriented programming that allows objects of different classes to be treated as objects of a common superclass. It provides a single interface to represent multiple underlying forms (classes) and enables objects to be processed in a generic manner.\n",
    "\n",
    "\tIn C#, there are two types of  `Polymorphism`:\n",
    "\n",
    "1.  **Compile-time Polymorphism (Method Overloading)**\n",
    "2.  **Run-time Polymorphism (Method Overriding)**"
   ]
  },
  {
   "cell_type": "markdown",
   "metadata": {},
   "source": [
    "\n",
    "### Compile-time Polymorphism (Method Overloading)\n",
    "\n",
    "`Compile-time Polymorphism`, also known as  `Method Overloading`, allows a class to have multiple methods with the same name but different parameters. The compiler determines which method to invoke based on the number and types of arguments."
   ]
  },
  {
   "cell_type": "code",
   "execution_count": null,
   "metadata": {
    "vscode": {
     "languageId": "polyglot-notebook"
    }
   },
   "outputs": [],
   "source": [
    "public class Printer\n",
    "{\n",
    "    public void Print(string message)\n",
    "    {\n",
    "        Console.WriteLine($\"Printing string: {message}\");\n",
    "    }\n",
    "\n",
    "    public void Print(int number)\n",
    "    {\n",
    "        Console.WriteLine($\"Printing number: {number}\");\n",
    "    }\n",
    "\n",
    "    public void Print(string message, int copies)\n",
    "    {\n",
    "        for (int i = 0; i < copies; i++)\n",
    "        {\n",
    "            Console.WriteLine($\"Printing string: {message}\");\n",
    "        }\n",
    "    }\n",
    "}\n",
    "\n",
    "Printer printer = new Printer();\n",
    "string message = \"This is the message\";\n",
    "int copies = 5;\n",
    "printer.Print(message);\n",
    "printer.Print(copies);\n",
    "printer.Print(message, copies)"
   ]
  },
  {
   "cell_type": "markdown",
   "metadata": {},
   "source": [
    "In this example, the Printer class has three Print methods with the same name but different parameters. This is an example of Method Overloading in C#."
   ]
  },
  {
   "cell_type": "markdown",
   "metadata": {},
   "source": [
    "\n",
    "### Run-time Polymorphism (Method Overriding)\n",
    "\n",
    "`Run-time Polymorphism`, also known as  `Method Overriding`, allows a subclass to provide a specific implementation of a method that is already provided by its superclass."
   ]
  },
  {
   "cell_type": "code",
   "execution_count": 10,
   "metadata": {
    "vscode": {
     "languageId": "polyglot-notebook"
    }
   },
   "outputs": [
    {
     "name": "stdout",
     "output_type": "stream",
     "text": [
      "Playing MP3 music\n",
      "Playing WAV music\n",
      "Playing music\n",
      "Playing MP3 music\n"
     ]
    }
   ],
   "source": [
    "public class MusicPlayer\n",
    "{\n",
    "    public virtual void Play()\n",
    "    {\n",
    "        Console.WriteLine(\"Playing music\");\n",
    "    }\n",
    "}\n",
    "\n",
    "public class Mp3Player : MusicPlayer\n",
    "{\n",
    "    public override void Play()\n",
    "    {\n",
    "        Console.WriteLine(\"Playing MP3 music\");\n",
    "    }\n",
    "}\n",
    "\n",
    "public class WavPlayer : MusicPlayer\n",
    "{\n",
    "    public override void Play()\n",
    "    {\n",
    "        Console.WriteLine(\"Playing WAV music\");\n",
    "    }\n",
    "}\n",
    "\n",
    "MusicPlayer player = new Mp3Player();\n",
    "player.Play(); // Output: Playing MP3 music\n",
    "\n",
    "player = new WavPlayer();\n",
    "player.Play(); // Output: Playing WAV music\n",
    "\n",
    "MusicPlayer test = new MusicPlayer();\n",
    "test.Play();\n",
    "test = new Mp3Player();\n",
    "test.Play();"
   ]
  },
  {
   "cell_type": "markdown",
   "metadata": {},
   "source": [
    "In this code snippet, we created an object of the Mp3Player class and assigned it to a variable of type MusicPlayer. We then called the Play method on the player object, which invokes the overridden Play method in the Mp3Player class. We then created an object of the WavPlayer class and assigned it to the player variable. When we call the Play method again, it invokes the overridden Play method in the WavPlayer class."
   ]
  },
  {
   "cell_type": "code",
   "execution_count": 7,
   "metadata": {
    "vscode": {
     "languageId": "polyglot-notebook"
    }
   },
   "outputs": [
    {
     "name": "stdout",
     "output_type": "stream",
     "text": [
      "The dog barks\n",
      "The cat meows\n"
     ]
    }
   ],
   "source": [
    "public class Animal\n",
    "{\n",
    "    // Virtual method to allow overriding in derived classes\n",
    "    public virtual void MakeSound()\n",
    "    {\n",
    "        Console.WriteLine(\"The animal makes a sound\");\n",
    "    }\n",
    "}\n",
    "\n",
    "public class Cat : Animal\n",
    "{\n",
    "    // Override the MakeSound method\n",
    "    public override void MakeSound()\n",
    "    {\n",
    "        Console.WriteLine(\"The cat meows\");\n",
    "    }\n",
    "}\n",
    "\n",
    "public class Dog : Animal\n",
    "{\n",
    "    // Override the MakeSound method\n",
    "    public override void MakeSound()\n",
    "    {\n",
    "        Console.WriteLine(\"The dog barks\");\n",
    "    }\n",
    "}\n",
    "\n",
    "// Create objects of the derived classes\n",
    "Animal myDog = new Dog();\n",
    "Animal myCat = new Cat();\n",
    "\n",
    "// Call the MakeSound method on each object\n",
    "myDog.MakeSound(); // Output: The dog barks\n",
    "myCat.MakeSound(); // Output: The cat meows"
   ]
  }
 ],
 "metadata": {
  "kernelspec": {
   "display_name": ".NET (C#)",
   "language": "C#",
   "name": ".net-csharp"
  },
  "language_info": {
   "name": "python"
  },
  "polyglot_notebook": {
   "kernelInfo": {
    "defaultKernelName": "csharp",
    "items": [
     {
      "aliases": [],
      "name": "csharp"
     }
    ]
   }
  }
 },
 "nbformat": 4,
 "nbformat_minor": 2
}
