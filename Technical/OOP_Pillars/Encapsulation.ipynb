{
 "cells": [
  {
   "cell_type": "markdown",
   "metadata": {},
   "source": [
    "`**Encapsulation**` \n",
    "- is the principle of bundling the data (fields) and methods (functions) that operate on the data into a single unit, known as a `class`. It restricts direct access to some of an object's components and allows access only through the methods of the class. In essence, `Encapsulation` conceals the internal state of an object and only exposes the necessary information to the outside world."
   ]
  },
  {
   "cell_type": "code",
   "execution_count": 3,
   "metadata": {
    "vscode": {
     "languageId": "polyglot-notebook"
    }
   },
   "outputs": [
    {
     "name": "stdout",
     "output_type": "stream",
     "text": [
      "Name: John, Age: 40\r\n"
     ]
    }
   ],
   "source": [
    "public class Person\n",
    "{\n",
    "    private string name;\n",
    "    private int age;\n",
    "\n",
    "    public string Name\n",
    "    {\n",
    "        get { return name; }\n",
    "        set { name = value; }\n",
    "    }\n",
    "\n",
    "    public int Age\n",
    "    {\n",
    "        get { return age; }\n",
    "        set { age = value; }\n",
    "    }\n",
    "\n",
    "    public void Display()\n",
    "    {\n",
    "        Console.WriteLine($\"Name: {Name}, Age: {Age}\");\n",
    "    }\n",
    "}\n",
    "\n",
    "Person person = new Person();\n",
    "person.Name = \"John\";\n",
    "person.Age = 40;\n",
    "\n",
    "person.Display();"
   ]
  },
  {
   "cell_type": "code",
   "execution_count": 9,
   "metadata": {
    "vscode": {
     "languageId": "polyglot-notebook"
    }
   },
   "outputs": [
    {
     "name": "stdout",
     "output_type": "stream",
     "text": [
      "Balance: 1000.00\r\n"
     ]
    }
   ],
   "source": [
    "public class BankAccount\n",
    "{\n",
    "    private decimal balance;\n",
    "\n",
    "    public decimal Balance\n",
    "    {\n",
    "        get { return balance; }\n",
    "        private set { balance = value; }\n",
    "    }\n",
    "\n",
    "    public void Deposit(decimal amount)\n",
    "    {\n",
    "        if (amount > 0)\n",
    "        {\n",
    "            Balance += amount;\n",
    "        }\n",
    "    }\n",
    "\n",
    "    public void Withdraw(decimal amount)\n",
    "    {\n",
    "        if (amount > 0 && Balance >= amount)\n",
    "        {\n",
    "            Balance -= amount;\n",
    "        }\n",
    "    }\n",
    "\n",
    "    public void DisplayBalance()\n",
    "    {\n",
    "        Console.WriteLine($\"Balance: {Balance}\");\n",
    "    }\n",
    "}\n",
    "\n",
    "BankAccount zxc123 = new BankAccount();\n",
    "zxc123.Deposit(1500.35m);\n",
    "zxc123.Withdraw(500.35m);\n",
    "zxc123.DisplayBalance();"
   ]
  }
 ],
 "metadata": {
  "kernelspec": {
   "display_name": ".NET (C#)",
   "language": "C#",
   "name": ".net-csharp"
  },
  "language_info": {
   "name": "python"
  },
  "polyglot_notebook": {
   "kernelInfo": {
    "defaultKernelName": "csharp",
    "items": [
     {
      "aliases": [],
      "name": "csharp"
     }
    ]
   }
  }
 },
 "nbformat": 4,
 "nbformat_minor": 2
}
