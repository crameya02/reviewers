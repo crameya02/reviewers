{
 "cells": [
  {
   "cell_type": "markdown",
   "metadata": {},
   "source": [
    "**Inheritance**\n",
    "\n",
    " - is a mechanism that allows you to define a new `class` based on an\n",
    "   existing `class`. The new class inherits all the members (fields,\n",
    "   properties, and methods) of the existing class. The existing class is\n",
    "   known as the `base` class, and the new class is known as the\n",
    "   `derived` class.\n"
   ]
  },
  {
   "cell_type": "code",
   "execution_count": null,
   "metadata": {
    "dotnet_interactive": {
     "language": "csharp"
    },
    "polyglot_notebook": {
     "kernelName": "csharp"
    },
    "vscode": {
     "languageId": "polyglot-notebook"
    }
   },
   "outputs": [],
   "source": [
    "class Person\n",
    "{\n",
    "    public string Name { get; set; }\n",
    "    public int Age { get; set; }\n",
    "\n",
    "    public void Display()\n",
    "    {\n",
    "        Console.WriteLine($\"Name: {Name}, Age: {Age}\");\n",
    "    }\n",
    "}\n",
    "\n",
    "Person person = new Person();\n",
    "person.Name = \"John\";\n",
    "person.Age = 30;\n",
    "\n",
    "person.Display(); // Output: Name: John, Age: 30"
   ]
  },
  {
   "cell_type": "markdown",
   "metadata": {},
   "source": [
    "\n",
    "1. **Single Inheritance**\n",
    "\t-\t\n",
    "\t-\tSingle inheritance is a fundamental concept in object-oriented programming where a class, known as the `derived class`, is based on another class, known as the `base class`. This is the simplest form of inheritance."
   ]
  },
  {
   "cell_type": "code",
   "execution_count": null,
   "metadata": {
    "dotnet_interactive": {
     "language": "csharp"
    },
    "polyglot_notebook": {
     "kernelName": "csharp"
    },
    "vscode": {
     "languageId": "polyglot-notebook"
    }
   },
   "outputs": [],
   "source": [
    "public class Father\n",
    "{\n",
    "    public void Display()\n",
    "    {\n",
    "        Console.WriteLine(\"This is the father class\");\n",
    "    }\n",
    "}\n",
    "\n",
    "public class Child : Father\n",
    "{\n",
    "    public void Show()\n",
    "    {\n",
    "        Console.WriteLine(\"This is the child class\");\n",
    "    }\n",
    "}\n",
    "Child child = new Child();\n",
    "child.Display(); // Output: This is the father class - you accesed Display method of Father class through inheritance\n",
    "child.Show(); //  Output: This is the child class"
   ]
  },
  {
   "cell_type": "code",
   "execution_count": null,
   "metadata": {
    "dotnet_interactive": {
     "language": "csharp"
    },
    "polyglot_notebook": {
     "kernelName": "csharp"
    },
    "vscode": {
     "languageId": "polyglot-notebook"
    }
   },
   "outputs": [],
   "source": [
    "public class Person\n",
    "{\n",
    "    public string Name { get; set; }\n",
    "    public int Age { get; set; }\n",
    "\n",
    "    public void DisplayInfo()\n",
    "    {\n",
    "        Console.WriteLine($\"Name: {Name}, Age: {Age}\");\n",
    "    }\n",
    "}\n",
    "public class Employee : Person\n",
    "{\n",
    "    public string EmployeeID { get; set; }\n",
    "    public string Department { get; set; }\n",
    "\n",
    "    public void DisplayEmployeeInfo()\n",
    "    {\n",
    "        DisplayInfo(); // Call the method from the base class\n",
    "        Console.WriteLine($\"Employee ID: {EmployeeID}, Department: {Department}\");\n",
    "    }\n",
    "}\n",
    "\n",
    "        Employee emp = new Employee\n",
    "        {\n",
    "            Name = \"John Doe\",\n",
    "            Age = 30,\n",
    "            EmployeeID = \"E123\",\n",
    "            Department = \"Engineering\"\n",
    "        };\n",
    "\n",
    "        emp.DisplayEmployeeInfo();\n",
    "  "
   ]
  },
  {
   "cell_type": "markdown",
   "metadata": {},
   "source": [
    "2.  **Multilevel Inheritance**\n",
    "\t-\n",
    "\t- Multilevel inheritance is a concept in object-oriented programming where a class is derived from another derived class, creating a chain of inheritance."
   ]
  },
  {
   "cell_type": "code",
   "execution_count": null,
   "metadata": {
    "dotnet_interactive": {
     "language": "csharp"
    },
    "polyglot_notebook": {
     "kernelName": "csharp"
    },
    "vscode": {
     "languageId": "polyglot-notebook"
    }
   },
   "outputs": [],
   "source": [
    "public class Grandfather\n",
    "{\n",
    "    public void Display()\n",
    "    {\n",
    "        Console.WriteLine(\"This is the grandfather class\");\n",
    "    }\n",
    "}\n",
    "public class Father : Grandfather\n",
    "{\n",
    "    public void Show()\n",
    "    {\n",
    "        Console.WriteLine(\"This is the father class\");\n",
    "    }\n",
    "}\n",
    "public class Child : Father\n",
    "{\n",
    "    public void DisplayChild()\n",
    "    {\n",
    "        Console.WriteLine(\"This is the child class\");\n",
    "    }\n",
    "}\n",
    "Child child = new Child();\n",
    "child.Display(); // Output: This is the grandfather class\n",
    "child.Show(); // Output: This is the father class\n",
    "child.DisplayChild(); // Output: This is the child class"
   ]
  },
  {
   "cell_type": "code",
   "execution_count": null,
   "metadata": {
    "dotnet_interactive": {
     "language": "csharp"
    },
    "polyglot_notebook": {
     "kernelName": "csharp"
    },
    "vscode": {
     "languageId": "polyglot-notebook"
    }
   },
   "outputs": [],
   "source": [
    "public class Person\n",
    "{\n",
    "    public string Name { get; set; }\n",
    "    public int Age { get; set; }\n",
    "\n",
    "    public void DisplayInfo()\n",
    "    {\n",
    "        Console.WriteLine($\"Name: {Name}, Age: {Age}\");\n",
    "    }\n",
    "}\n",
    "public class Employee : Person\n",
    "{\n",
    "    public string EmployeeID { get; set; }\n",
    "    public string Department { get; set; }\n",
    "\n",
    "    public void DisplayEmployeeInfo()\n",
    "    {\n",
    "        DisplayInfo(); // Call the method from the base class\n",
    "        Console.WriteLine($\"Employee ID: {EmployeeID}, Department: {Department}\");\n",
    "    }\n",
    "}\n",
    "public class Manager : Employee\n",
    "{\n",
    "    public string Project { get; set; }\n",
    "\n",
    "    public void DisplayManagerInfo()\n",
    "    {\n",
    "        DisplayEmployeeInfo(); // Call the method from the intermediate class\n",
    "        Console.WriteLine($\"Project: {Project}\");\n",
    "    }\n",
    "}\n",
    "  Manager mgr = new Manager\n",
    "        {\n",
    "            Name = \"Jane Smith\",\n",
    "            Age = 40,\n",
    "            EmployeeID = \"M456\",\n",
    "            Department = \"Development\",\n",
    "            Project = \"OpenAI - Data Management\"\n",
    "        };\n",
    "\n",
    "        mgr.DisplayManagerInfo();"
   ]
  },
  {
   "cell_type": "markdown",
   "metadata": {},
   "source": [
    "3. **Hierarchical Inheritance**\n",
    "\t- \n",
    "\t- Hierarchical inheritance is a concept in object-oriented programming where multiple classes are derived from a `single base class`, forming a `tree-like structure`.\n"
   ]
  },
  {
   "cell_type": "code",
   "execution_count": 11,
   "metadata": {
    "dotnet_interactive": {
     "language": "csharp"
    },
    "polyglot_notebook": {
     "kernelName": "csharp"
    },
    "vscode": {
     "languageId": "polyglot-notebook"
    }
   },
   "outputs": [
    {
     "name": "stdout",
     "output_type": "stream",
     "text": [
      "This is the parent class\n",
      "This is the first child class\n",
      "This is the parent class\n",
      "This is the second child class\n"
     ]
    }
   ],
   "source": [
    "public class Parent\n",
    "{\n",
    "    public void Display()\n",
    "    {\n",
    "        Console.WriteLine(\"This is the parent class\");\n",
    "    }\n",
    "}\n",
    "\n",
    "public class Child1 : Parent\n",
    "{\n",
    "    public void Show1()\n",
    "    {\n",
    "        Console.WriteLine(\"This is the first child class\");\n",
    "    }\n",
    "}\n",
    "\n",
    "public class Child2 : Parent\n",
    "{\n",
    "    public void Show2()\n",
    "    {\n",
    "        Console.WriteLine(\"This is the second child class\");\n",
    "    }\n",
    "}\n",
    "\n",
    "Child1 child1 = new Child1();\n",
    "child1.Display(); // Output: This is the parent class\n",
    "child1.Show1(); // Output: This is the first child class\n",
    "\n",
    "Child2 child2 = new Child2();\n",
    "child2.Display(); // Output: This is the parent class\n",
    "child2.Show2(); // Output: This is the second child class"
   ]
  },
  {
   "cell_type": "code",
   "execution_count": 13,
   "metadata": {
    "dotnet_interactive": {
     "language": "csharp"
    },
    "polyglot_notebook": {
     "kernelName": "csharp"
    },
    "vscode": {
     "languageId": "polyglot-notebook"
    }
   },
   "outputs": [
    {
     "name": "stdout",
     "output_type": "stream",
     "text": [
      "Name: John Doe, Age: 30\n",
      "Employee ID: E123, Department: Engineering\n",
      "\n",
      "Name: Alice Johnson, Age: 20\n",
      "Student ID: S456, Major: Computer Science\n"
     ]
    }
   ],
   "source": [
    "public class Person\n",
    "{\n",
    "    public string Name { get; set; }\n",
    "    public int Age { get; set; }\n",
    "\n",
    "    public void DisplayInfo()\n",
    "    {\n",
    "        Console.WriteLine($\"Name: {Name}, Age: {Age}\");\n",
    "    }\n",
    "}\n",
    "\n",
    "public class Employee : Person\n",
    "{\n",
    "    public string EmployeeID { get; set; }\n",
    "    public string Department { get; set; }\n",
    "\n",
    "    public void DisplayEmployeeInfo()\n",
    "    {\n",
    "        DisplayInfo(); // Call the method from the base class\n",
    "        Console.WriteLine($\"Employee ID: {EmployeeID}, Department: {Department}\");\n",
    "    }\n",
    "}\n",
    "\n",
    "public class Student : Person\n",
    "{\n",
    "    public string StudentID { get; set; }\n",
    "    public string Major { get; set; }\n",
    "\n",
    "    public void DisplayStudentInfo()\n",
    "    {\n",
    "        DisplayInfo(); // Call the method from the base class\n",
    "        Console.WriteLine($\"Student ID: {StudentID}, Major: {Major}\");\n",
    "    }\n",
    "}\n",
    "\n",
    "Employee emp = new Employee\n",
    "        {\n",
    "            Name = \"John Doe\",\n",
    "            Age = 30,\n",
    "            EmployeeID = \"E123\",\n",
    "            Department = \"Engineering\"\n",
    "        };\n",
    "\n",
    "Student stu = new Student\n",
    "        {\n",
    "            Name = \"Alice Johnson\",\n",
    "            Age = 20,\n",
    "            StudentID = \"S456\",\n",
    "            Major = \"Computer Science\"\n",
    "        };\n",
    "\n",
    "emp.DisplayEmployeeInfo();\n",
    "Console.WriteLine();\n",
    "stu.DisplayStudentInfo();\n",
    "\n"
   ]
  }
 ],
 "metadata": {
  "kernelspec": {
   "display_name": ".NET (C#)",
   "language": "C#",
   "name": ".net-csharp"
  },
  "language_info": {
   "name": "python"
  },
  "polyglot_notebook": {
   "kernelInfo": {
    "defaultKernelName": "csharp",
    "items": [
     {
      "aliases": [],
      "name": "csharp"
     }
    ]
   }
  }
 },
 "nbformat": 4,
 "nbformat_minor": 2
}
