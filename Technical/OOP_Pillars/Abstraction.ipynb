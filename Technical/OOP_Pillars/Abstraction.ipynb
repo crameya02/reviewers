{
 "cells": [
  {
   "cell_type": "markdown",
   "metadata": {},
   "source": [
    "\n",
    "`**Abstraction**` \n",
    " - is the process of hiding complex implementation details and exposing only the essential features of an object. It emphasizes on what an object does rather than how it does it.\n",
    "\n",
    " To comprehend Abstraction, let's consider a smartphone. When you use a smartphone, you don't need to understand the intricacies of how the internal components like the processor or the memory work. You only need to know how to interact with the user interface to make calls, send messages, or use apps. This is akin to Abstraction in object-oriented programming.\n",
    "\n",
    "\n",
    "## Abstraction\n",
    "\n",
    "`Abstraction`  is a key concept in object-oriented programming that allows you to create a blueprint for a class with some abstract methods that must be implemented by the derived classes. It enables you to define the structure of a class without providing the implementation details.\n",
    "\n",
    "In C#,  `Abstraction`  can be achieved using  `abstract`  classes and  `interfaces`. Let's explore both concepts:"
   ]
  },
  {
   "cell_type": "markdown",
   "metadata": {},
   "source": [
    "\n",
    "### Abstract Classes\n",
    "\n",
    "An  `abstract class`  is a class that cannot be instantiated and can contain both abstract and non-abstract methods. An abstract method is a method without a body that must be implemented by the derived classes."
   ]
  },
  {
   "cell_type": "code",
   "execution_count": 1,
   "metadata": {
    "dotnet_interactive": {
     "language": "csharp"
    },
    "polyglot_notebook": {
     "kernelName": "csharp"
    },
    "vscode": {
     "languageId": "polyglot-notebook"
    }
   },
   "outputs": [
    {
     "name": "stdout",
     "output_type": "stream",
     "text": [
      "The dog barks\n",
      "The cat meows\n"
     ]
    }
   ],
   "source": [
    "public abstract class Animal\n",
    "{\n",
    "    public abstract void Speak();\n",
    "}\n",
    "\n",
    "public class Dog : Animal\n",
    "{\n",
    "    public override void Speak()\n",
    "    {\n",
    "        Console.WriteLine(\"The dog barks\");\n",
    "    }\n",
    "}\n",
    "\n",
    "public class Cat : Animal\n",
    "{\n",
    "    public override void Speak()\n",
    "    {\n",
    "        Console.WriteLine(\"The cat meows\");\n",
    "    }\n",
    "}\n",
    "\n",
    "Animal labrador = new Dog();\n",
    "labrador.Speak();\n",
    "Animal Siamese = new Cat();\n",
    "Siamese.Speak();"
   ]
  },
  {
   "cell_type": "markdown",
   "metadata": {},
   "source": [
    "In this example, the Animal class is an abstract class with an abstract method Speak. The Dog and Cat classes inherit from the Animal class and provide specific implementations for the Speak method. This is an example of Abstraction using abstract classes in C#."
   ]
  },
  {
   "cell_type": "code",
   "execution_count": 3,
   "metadata": {
    "dotnet_interactive": {
     "language": "csharp"
    },
    "polyglot_notebook": {
     "kernelName": "csharp"
    },
    "vscode": {
     "languageId": "polyglot-notebook"
    }
   },
   "outputs": [
    {
     "name": "stdout",
     "output_type": "stream",
     "text": [
      "This is a shape.\n",
      "Area of circle: 78.53981633974483\n",
      "This is a shape.\n",
      "Area of rectangle: 24\n"
     ]
    }
   ],
   "source": [
    "// Abstract class for shapes\n",
    "public abstract class Shape\n",
    "{\n",
    "    // Abstract method for calculating area (must be overridden)\n",
    "    public abstract double CalculateArea();\n",
    "\n",
    "    // Non-abstract method\n",
    "    public void Display()\n",
    "    {\n",
    "        Console.WriteLine(\"This is a shape.\");\n",
    "    }\n",
    "}\n",
    "\n",
    "// Derived class: Circle\n",
    "public class Circle : Shape\n",
    "{\n",
    "    // Fields\n",
    "    private double radius;\n",
    "\n",
    "    // Constructor\n",
    "    public Circle(double r)\n",
    "    {\n",
    "        radius = r;\n",
    "    }\n",
    "\n",
    "    // Override CalculateArea method\n",
    "    public override double CalculateArea()\n",
    "    {\n",
    "        return Math.PI * radius * radius;\n",
    "    }\n",
    "}\n",
    "\n",
    "// Derived class: Rectangle\n",
    "public class Rectangle : Shape\n",
    "{\n",
    "    // Fields\n",
    "    private double length;\n",
    "    private double width;\n",
    "\n",
    "    // Constructor\n",
    "    public Rectangle(double l, double w)\n",
    "    {\n",
    "        length = l;\n",
    "        width = w;\n",
    "    }\n",
    "\n",
    "    // Override CalculateArea method\n",
    "    public override double CalculateArea()\n",
    "    {\n",
    "        return length * width;\n",
    "    }\n",
    "}\n",
    "\n",
    "// Create instances of shapes\n",
    "    Shape circle = new Circle(5);\n",
    "    Shape rectangle = new Rectangle(4, 6);\n",
    "\n",
    "    // Call methods\n",
    "    circle.Display();\n",
    "    Console.WriteLine($\"Area of circle: {circle.CalculateArea()}\");\n",
    "\n",
    "    rectangle.Display();\n",
    "    Console.WriteLine($\"Area of rectangle: {rectangle.CalculateArea()}\");"
   ]
  },
  {
   "cell_type": "markdown",
   "metadata": {},
   "source": [
    "\n",
    "### Interfaces\n",
    "\n",
    "An  `interface`  is a reference type in C# that defines a contract for classes to implement. It contains only the declaration of the methods, properties, events, or indexers, without providing the implementation."
   ]
  },
  {
   "cell_type": "code",
   "execution_count": 5,
   "metadata": {
    "dotnet_interactive": {
     "language": "csharp"
    },
    "polyglot_notebook": {
     "kernelName": "csharp"
    },
    "vscode": {
     "languageId": "polyglot-notebook"
    }
   },
   "outputs": [
    {
     "name": "stdout",
     "output_type": "stream",
     "text": [
      "The bird flies\n",
      "The airplane flies\n"
     ]
    }
   ],
   "source": [
    "public interface IFlyable\n",
    "{\n",
    "    void Fly();\n",
    "}\n",
    "\n",
    "public class Bird : IFlyable\n",
    "{\n",
    "    public void Fly()\n",
    "    {\n",
    "        Console.WriteLine(\"The bird flies\");\n",
    "    }\n",
    "}\n",
    "\n",
    "public class Airplane : IFlyable\n",
    "{\n",
    "    public void Fly()\n",
    "    {\n",
    "        Console.WriteLine(\"The airplane flies\");\n",
    "    }\n",
    "}\n",
    "\n",
    "IFlyable crow = new Bird();\n",
    "crow.Fly();\n",
    "\n",
    "IFlyable boeing = new Airplane();\n",
    "boeing.Fly();"
   ]
  },
  {
   "cell_type": "markdown",
   "metadata": {},
   "source": [
    "In this example, the IFlyable interface defines a contract with a method Fly. The Bird and Airplane classes implement the IFlyable interface and provide specific implementations for the Fly method. This is an example of Abstraction using interfaces in C#."
   ]
  },
  {
   "cell_type": "code",
   "execution_count": 6,
   "metadata": {
    "dotnet_interactive": {
     "language": "csharp"
    },
    "polyglot_notebook": {
     "kernelName": "csharp"
    },
    "vscode": {
     "languageId": "polyglot-notebook"
    }
   },
   "outputs": [
    {
     "name": "stdout",
     "output_type": "stream",
     "text": [
      "Car started.\n",
      "Car stopped.\n",
      "Motorcycle started.\n",
      "Motorcycle stopped.\n"
     ]
    }
   ],
   "source": [
    "// Interface for vehicles\n",
    "public interface IVehicle\n",
    "{\n",
    "    void Start();   // Method to start the vehicle\n",
    "    void Stop();    // Method to stop the vehicle\n",
    "}\n",
    "\n",
    "// Car class implementing IVehicle interface\n",
    "public class Car : IVehicle\n",
    "{\n",
    "    public void Start()\n",
    "    {\n",
    "        Console.WriteLine(\"Car started.\");\n",
    "    }\n",
    "\n",
    "    public void Stop()\n",
    "    {\n",
    "        Console.WriteLine(\"Car stopped.\");\n",
    "    }\n",
    "}\n",
    "\n",
    "// Motorcycle class implementing IVehicle interface\n",
    "public class Motorcycle : IVehicle\n",
    "{\n",
    "    public void Start()\n",
    "    {\n",
    "        Console.WriteLine(\"Motorcycle started.\");\n",
    "    }\n",
    "\n",
    "    public void Stop()\n",
    "    {\n",
    "        Console.WriteLine(\"Motorcycle stopped.\");\n",
    "    }\n",
    "}\n",
    "\n",
    "// Create instances of vehicles\n",
    "IVehicle car = new Car();\n",
    "IVehicle motorcycle = new Motorcycle();\n",
    "\n",
    "// Call methods\n",
    "car.Start();\n",
    "car.Stop();\n",
    "\n",
    "motorcycle.Start();\n",
    "motorcycle.Stop();\n"
   ]
  },
  {
   "cell_type": "markdown",
   "metadata": {},
   "source": [
    "\n",
    "### Choosing Between Interface and Abstract Class:\n",
    "\n",
    "-   **If you need to enforce a contract for multiple unrelated classes or enable polymorphism without a base class, use an interface**.\n",
    "-   **If you need to provide a common base implementation, share code among related classes, or define default behavior that subclasses can optionally override, use an abstract class**."
   ]
  }
 ],
 "metadata": {
  "kernelspec": {
   "display_name": ".NET (C#)",
   "language": "C#",
   "name": ".net-csharp"
  },
  "language_info": {
   "name": "python"
  },
  "polyglot_notebook": {
   "kernelInfo": {
    "defaultKernelName": "csharp",
    "items": [
     {
      "aliases": [],
      "name": "csharp"
     }
    ]
   }
  }
 },
 "nbformat": 4,
 "nbformat_minor": 2
}
