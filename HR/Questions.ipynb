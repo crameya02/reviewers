{
 "cells": [
  {
   "cell_type": "markdown",
   "metadata": {},
   "source": [
    "## Tell me about yourself?\n",
    "Hello, and thank you for having me today.\n",
    "My name is Marc Angelo Sarmiento, and I’m a software engineer with 6.5 years of experience specializing in full-stack development. Throughout my career, I’ve led the development of several impactful applications, including two that successfully doubled user productivity.\n",
    "\n",
    "I’m deeply passionate about solving complex problems and continuously expanding my knowledge of emerging technologies. I’m particularly excited about this opportunity because of your company’s commitment to innovation, and I look forward to the possibility of contributing my skills and expertise to your team."
   ]
  },
  {
   "cell_type": "markdown",
   "metadata": {},
   "source": [
    "## Strengths\n",
    "\n",
    "One of my greatest strengths is my ability to approach complex problems with a structured and analytical mindset. I thrive in situations where I need to break down a challenge into manageable parts, analyze the root cause, and implement innovative solutions. For example, during a freelance project, a client requested an urgent feature addition, just two days before the delivery deadline. I quickly analyzed the requirements, divided the tasks into manageable pieces, and prioritized them effectively.\n",
    "\n",
    "By staying focused and efficient, I successfully delivered the feature on time, ensuring compatibility with the existing architecture and maintaining high quality.\n",
    "\n",
    "Additionally, I take pride in my adaptability and eagerness to learn new technologies. In the ever-evolving tech landscape, I’ve consistently stayed updated, whether it’s by learning a new framework or adopting industry best practices. This combination of problem-solving skills and a commitment to continuous learning enables me to contribute effectively to any project or team."
   ]
  },
  {
   "cell_type": "markdown",
   "metadata": {},
   "source": [
    "## Weakness\n",
    "\n",
    "One area I’ve been working on is my tendency to take on too much by saying yes to every request for help. I genuinely enjoy supporting my colleagues and contributing to the team’s success, but I’ve realized that this can sometimes stretch my bandwidth too thin and affect my ability to focus on my primary responsibilities.\n",
    "\n",
    "To address this, I’ve started practicing setting clearer boundaries and prioritizing tasks more effectively. For instance, I now evaluate requests based on urgency and alignment with team goals before committing. I’ve also improved my communication by offering alternative solutions, like connecting people to the right resources or scheduling assistance when I can dedicate the proper time.\n",
    "\n",
    "This has helped me maintain my collaborative nature while ensuring I stay productive and deliver my own work at a high standard."
   ]
  },
  {
   "cell_type": "markdown",
   "metadata": {},
   "source": [
    "## Why are you looking for a job change?\n",
    "\n",
    "I've truly appreciated my time at my current company and have gained valuable experience over the past 1.5 years. During this time, I’ve not only developed my technical skills but also honed my ability to collaborate effectively with cross-functional teams.\n",
    "\n",
    "That said, I feel ready to take on new challenges that will allow me to further grow and align more closely with my personal and professional aspirations. I’m particularly excited about opportunities where I can contribute meaningfully while continuing to develop my expertise."
   ]
  }
 ],
 "metadata": {
  "language_info": {
   "name": "python"
  }
 },
 "nbformat": 4,
 "nbformat_minor": 2
}
