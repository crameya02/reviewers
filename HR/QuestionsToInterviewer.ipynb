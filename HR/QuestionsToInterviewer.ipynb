{
 "cells": [
  {
   "cell_type": "markdown",
   "metadata": {},
   "source": [
    "#How long have you worked with the company and what experience made you stay?"
   ]
  },
  {
   "cell_type": "markdown",
   "metadata": {},
   "source": [
    "#If you were to hire my right now, where best would you utilize my skillset?"
   ]
  }
 ],
 "metadata": {
  "kernelspec": {
   "display_name": "Python 3",
   "language": "python",
   "name": "python3"
  },
  "language_info": {
   "name": "python",
   "version": "3.11.9"
  }
 },
 "nbformat": 4,
 "nbformat_minor": 2
}
