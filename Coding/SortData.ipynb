{
 "cells": [
  {
   "cell_type": "markdown",
   "metadata": {},
   "source": [
    "\n",
    "# Bubble Sort\n",
    "\n",
    "Bubble sort is a basic algorithm for arranging a string of numbers or other elements in the correct order. The method works by examining each set of adjacent elements in the string, from left to right, switching their positions if they are out of order. The algorithm then repeats this process until it can run through the entire string and find no two elements that need to be swapped."
   ]
  },
  {
   "cell_type": "code",
   "execution_count": 12,
   "metadata": {
    "dotnet_interactive": {
     "language": "csharp"
    },
    "polyglot_notebook": {
     "kernelName": "csharp"
    },
    "vscode": {
     "languageId": "polyglot-notebook"
    }
   },
   "outputs": [
    {
     "name": "stdout",
     "output_type": "stream",
     "text": [
      "1, 3, 4, 5, 7, 9\r\n"
     ]
    }
   ],
   "source": [
    "int[] newArray = new int[] { 5, 9, 1, 3, 4, 7 };\n",
    "        \n",
    "        // Bubble Sort algorithm\n",
    "        for (int i = 0; i < newArray.Length - 1; i++)\n",
    "        {\n",
    "            for (int j = 0; j < newArray.Length - 1 - i; j++)\n",
    "            {\n",
    "                if (newArray[j] > newArray[j + 1])\n",
    "                {\n",
    "                    // Swap elements\n",
    "                    int temp = newArray[j];\n",
    "                    newArray[j] = newArray[j + 1];\n",
    "                    newArray[j + 1] = temp;\n",
    "                }\n",
    "            }\n",
    "        }\n",
    "\n",
    "        // Output the sorted array\n",
    "        Console.WriteLine(string.Join(\", \", newArray));"
   ]
  },
  {
   "cell_type": "code",
   "execution_count": 13,
   "metadata": {
    "vscode": {
     "languageId": "polyglot-notebook"
    }
   },
   "outputs": [
    {
     "name": "stdout",
     "output_type": "stream",
     "text": [
      "1, 2, 3\r\n"
     ]
    }
   ],
   "source": [
    "public class BubbleSort \n",
    "{\n",
    "    public void bubbleSort(int[] numbers)\n",
    "    {\n",
    "        for (int i = 0; i < numbers.Length - 1; i++)\n",
    "        {\n",
    "            bool swapped = false;\n",
    "            for (int j = 0; j < numbers.Length - 1 -i; j++)\n",
    "            {   \n",
    "                if (numbers[j] > numbers[j+1])\n",
    "                {\n",
    "                int temp = numbers[j];\n",
    "                numbers[j] = numbers[j+1];\n",
    "                numbers[j+1] = temp;\n",
    "                swapped = true;\n",
    "                }\n",
    "            }\n",
    "             // If no two elements were\n",
    "            // swapped by inner loop, then break\n",
    "            if (swapped == false)\n",
    "                break;\n",
    "        }\n",
    "        Console.WriteLine(string.Join(\", \", numbers));\n",
    "    }\n",
    "}\n",
    "BubbleSort testData = new BubbleSort();\n",
    "int[] array = new int[]{3,2,1};\n",
    "testData.bubbleSort(array);"
   ]
  }
 ],
 "metadata": {
  "kernelspec": {
   "display_name": ".NET (C#)",
   "language": "C#",
   "name": ".net-csharp"
  },
  "language_info": {
   "name": "python"
  },
  "polyglot_notebook": {
   "kernelInfo": {
    "defaultKernelName": "csharp",
    "items": [
     {
      "aliases": [],
      "name": "csharp"
     }
    ]
   }
  }
 },
 "nbformat": 4,
 "nbformat_minor": 2
}
