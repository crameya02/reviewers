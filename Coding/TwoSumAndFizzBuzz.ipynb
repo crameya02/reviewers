{
 "cells": [
  {
   "cell_type": "markdown",
   "metadata": {},
   "source": [
    "# FizzBuzz\n",
    "```\n",
    "Write a short program that prints each number from 1 to 100 on a new line. \n",
    "\n",
    "For each multiple of 3, print \"Fizz\" instead of the number. \n",
    "\n",
    "For each multiple ofa 5, print \"Buzz\" instead of the number. \n",
    "\n",
    "For numbers which are multiples of both 3 and 5, print \"FizzBuzz\" instead of the number.\n",
    "```"
   ]
  },
  {
   "cell_type": "code",
   "execution_count": null,
   "metadata": {
    "dotnet_interactive": {
     "language": "csharp"
    },
    "polyglot_notebook": {
     "kernelName": "csharp"
    },
    "vscode": {
     "languageId": "polyglot-notebook"
    }
   },
   "outputs": [],
   "source": [
    "for (int i = 1; i<=100; i++)\n",
    "{\n",
    "    if (i % 3 == 0 &&  i % 5 == 0)\n",
    "    {\n",
    "    Console.WriteLine(i + \" FizzBuzz\");\n",
    "    }\n",
    "    else if (i % 3 == 0)\n",
    "    {\n",
    "    Console.WriteLine(i + \" Fizz\");\n",
    "    }\n",
    "    else if (i % 5 == 0)\n",
    "    {\n",
    "    Console.WriteLine(i + \" Buzz\");\n",
    "    }\n",
    "    else\n",
    "    {\n",
    "    Console.WriteLine(i);\n",
    "    }\n",
    "}"
   ]
  },
  {
   "cell_type": "code",
   "execution_count": null,
   "metadata": {
    "dotnet_interactive": {
     "language": "csharp"
    },
    "polyglot_notebook": {
     "kernelName": "csharp"
    },
    "vscode": {
     "languageId": "polyglot-notebook"
    }
   },
   "outputs": [],
   "source": [
    "for (int i = 1; i<=100; i++)\n",
    "{\n",
    "    if (i % 3 == 0 &&  i % 5 == 0)\n",
    "    {\n",
    "    Console.WriteLine(i + \" FizzBuzz\");\n",
    "    }\n",
    "    else if (i % 3 == 0)\n",
    "    {\n",
    "    Console.WriteLine(i + \" Fizz\");\n",
    "    }\n",
    "    else if (i % 5 == 0)\n",
    "    {\n",
    "    Console.WriteLine(i + \" Buzz\");\n",
    "    }\n",
    "     else if (i % 7 == 0)\n",
    "     {\n",
    "    Console.WriteLine(i + \" Bazz\");\n",
    "\n",
    "     }\n",
    "    else\n",
    "    {\n",
    "    Console.WriteLine(i);\n",
    "    }\n",
    "}"
   ]
  },
  {
   "cell_type": "code",
   "execution_count": 1,
   "metadata": {
    "dotnet_interactive": {
     "language": "csharp"
    },
    "polyglot_notebook": {
     "kernelName": "csharp"
    },
    "vscode": {
     "languageId": "polyglot-notebook"
    }
   },
   "outputs": [],
   "source": [
    "for (int i = 1; i<=100; i++)\n",
    "{\n",
    "    string output = \"\";\n",
    "\n",
    "    if (i% 3 == 0)\n",
    "    {\n",
    "        output += \"Fizz\";\n",
    "    } \n",
    "    if (i% 5 == 0)\n",
    "    {\n",
    "        output += \"Buzz\";\n",
    "    } \n",
    "    if (i% 7 ==0)\n",
    "    {\n",
    "        output += \"Bazz\";\n",
    "    } \n",
    "   \n",
    "    Console.WriteLine(string.IsNullOrEmpty(output)? i.ToString() : output);\n",
    "}"
   ]
  },
  {
   "cell_type": "markdown",
   "metadata": {},
   "source": [
    "# TwoSum\n",
    "```\n",
    "Given an array of integers  `nums` and an integer  `target`, return  _indices of the two numbers such that they add up to  `target`_.\n",
    "\n",
    "You may assume that each input would have  **_exactly_  one solution**, and you may not use the  _same_  element twice.\n",
    "\n",
    "You can return the answer in any order.\n",
    "```"
   ]
  },
  {
   "cell_type": "code",
   "execution_count": 28,
   "metadata": {
    "dotnet_interactive": {
     "language": "csharp"
    },
    "polyglot_notebook": {
     "kernelName": "csharp"
    },
    "vscode": {
     "languageId": "polyglot-notebook"
    }
   },
   "outputs": [],
   "source": [
    "public class Solution\n",
    "{\n",
    "    public int[] TwoSum(int[] nums, int target)\n",
    "    {\n",
    "        for (int i=0; i<=nums.Length; i++)\n",
    "        {\n",
    "            for (int j= i+1; j<=nums.Length; j++)\n",
    "            {\n",
    "                if (nums[i]+ nums[j] == target)\n",
    "                {\n",
    "                    return new int[]{i,j};\n",
    "                }\n",
    "            }\n",
    "        }\n",
    "    return new int[]{};\n",
    "    }\n",
    "}\n",
    "Solution solution = new Solution();\n",
    "int[] nums = {2,7,11,15};\n",
    "int target = 9;\n",
    "\n",
    "int[] result = solution.TwoSum(nums,target);\n",
    "\n",
    "string output = string.Join(\", \", result);\n",
    "Console.WriteLine(output);\n",
    "\n"
   ]
  },
  {
   "cell_type": "code",
   "execution_count": 58,
   "metadata": {
    "dotnet_interactive": {
     "language": "csharp"
    },
    "polyglot_notebook": {
     "kernelName": "csharp"
    },
    "vscode": {
     "languageId": "polyglot-notebook"
    }
   },
   "outputs": [],
   "source": [
    "public int[] TwoSum(int[] nums, int target)\n",
    "{\n",
    "    Dictionary<int,int> dict = new Dictionary<int,int>();\n",
    "    for (int i=0; i<=nums.Length; i++)\n",
    "    {\n",
    "        int difference = target - nums[i];\n",
    "        //index 0. 6-3 = 3\n",
    "        //incex 1. 6-2 = 4\n",
    "        //index 2. 6-4 = 2\n",
    "        if (dict.ContainsKey(difference))\n",
    "        {\n",
    "        //1. dict.ContainsKey(3) returns false (3 is not in dict).\n",
    "        //2. dict.ContainsKey(4) returns false (4 is not in dict).\n",
    "        //2. dict.ContainsKey(2) returns true (2 is in dict).\n",
    "            Console.WriteLine(\"Numbers \"+ nums[dict[difference]]  + \" and \" + nums[i] + \" is equal to \" + target); \n",
    "\n",
    "            return new int[]{dict[difference],i}; // dict[2] is 1, so return {1, 2}\n",
    "        }\n",
    "        if (!dict.ContainsKey(nums[i]))\n",
    "        {\n",
    "            dict[nums[i]] = i;\n",
    "            //dict now: { 3: 0 }\n",
    "            //key 3 , value 0\n",
    "            //dict now: { 3: 0, 2: 1 }\n",
    "            //key 2 , value 1\n",
    "              // Print the contents of the dictionary\n",
    "            Console.WriteLine(\"Dictionary contents after iteration \" + i + \":\");\n",
    "            foreach (var kvp in dict)\n",
    "            {\n",
    "                Console.WriteLine($\"Key: {kvp.Key}, Value: {kvp.Value}\");\n",
    "            }\n",
    "\n",
    "        }\n",
    "    \n",
    "          \n",
    "    }\n",
    "    return new int[]{};\n",
    "}\n",
    "int[] nums = {3,2,4};\n",
    "int target = 6;\n",
    "\n",
    "int[] result = TwoSum(nums,target);\n",
    "string output = string.Join(\", \", result);\n",
    "Console.WriteLine(\"Output: \" + output);"
   ]
  }
 ],
 "metadata": {
  "kernelspec": {
   "display_name": ".NET (C#)",
   "language": "C#",
   "name": ".net-csharp"
  },
  "language_info": {
   "name": "python",
   "version": "3.11.9"
  },
  "polyglot_notebook": {
   "kernelInfo": {
    "defaultKernelName": "csharp",
    "items": [
     {
      "aliases": [],
      "name": "csharp"
     }
    ]
   }
  }
 },
 "nbformat": 4,
 "nbformat_minor": 2
}
