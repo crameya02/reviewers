{
 "cells": [
  {
   "cell_type": "markdown",
   "metadata": {},
   "source": [
    "\n",
    "### Key Characteristics\n",
    "\n",
    "1.  **Nodes**: Each node in a LinkedList contains data and a reference to the next node (`next` pointer).\n",
    "2.  **Head**: The first node of the list is called the head.\n",
    "3.  **Tail**: The last node of the list is called the tail.\n",
    "4.  **Null Termination**: The `next` reference of the tail node points to null, indicating the end of the list.\n",
    "\n",
    "\n",
    "### Types of Linked Lists\n",
    "\n",
    "-   **Singly Linked List**: Each node has only one reference, typically pointing to the next node in the sequence.\n",
    "    \n",
    "-   **Doubly Linked List**: Each node has two references: one to the next node and another to the previous node. This allows traversal in both directions.\n",
    "    \n",
    "-   **Circular Linked List**: In this variant, the last node's `next` reference points back to the first node, forming a circular structure."
   ]
  },
  {
   "cell_type": "code",
   "execution_count": null,
   "metadata": {
    "dotnet_interactive": {
     "language": "csharp"
    },
    "polyglot_notebook": {
     "kernelName": "csharp"
    },
    "vscode": {
     "languageId": "polyglot-notebook"
    }
   },
   "outputs": [],
   "source": [
    "  // Create a linked list\n",
    "        LinkedList<string> linkedList = new LinkedList<string>();\n",
    "\n",
    "        // Add nodes to the linked list\n",
    "        linkedList.AddLast(\"Node 1\");\n",
    "        linkedList.AddLast(\"Node 2\");\n",
    "        linkedList.AddLast(\"Node 3\");\n",
    "\n",
    "        // Traverse and print all nodes\n",
    "        Console.WriteLine(\"Linked List contents:\");\n",
    "        foreach (var node in linkedList)\n",
    "        {\n",
    "            Console.WriteLine(node);\n",
    "        }\n",
    "        "
   ]
  },
  {
   "cell_type": "code",
   "execution_count": null,
   "metadata": {
    "vscode": {
     "languageId": "polyglot-notebook"
    }
   },
   "outputs": [],
   "source": [
    "      // Create an instance of the LinkedList\n",
    "             LinkedList<int> linkedList = new LinkedList<int>();\n",
    "\n",
    "    // Add nodes at the beginning using AddFirst method\n",
    "            linkedList.AddFirst(1);\n",
    "            linkedList.AddFirst(2);\n",
    "            linkedList.AddFirst(3);\n",
    "              // Print the linked list\n",
    "        Console.WriteLine(\"Linked List contents:\");\n",
    "        foreach (var node in linkedList)\n",
    "        {\n",
    "            Console.WriteLine(node);\n",
    "        }"
   ]
  },
  {
   "cell_type": "code",
   "execution_count": 5,
   "metadata": {
    "vscode": {
     "languageId": "polyglot-notebook"
    }
   },
   "outputs": [
    {
     "name": "stdout",
     "output_type": "stream",
     "text": [
      "Linked List contents:\n",
      "1\n",
      "2\n",
      "3\n"
     ]
    }
   ],
   "source": [
    "  // Create a new LinkedList\n",
    "        LinkedList<int> linkedList = new LinkedList<int>();\n",
    "\n",
    "        // Add nodes to the linked list\n",
    "        linkedList.AddLast(1);\n",
    "        linkedList.AddLast(3);\n",
    "\n",
    "        // Find the node after which to insert\n",
    "        var node = linkedList.First;\n",
    "        while (node != null && node.Value != 1)\n",
    "        {\n",
    "            node = node.Next;\n",
    "        }\n",
    "\n",
    "        // Insert node 2 after node 1\n",
    "        if (node != null)\n",
    "        {\n",
    "            linkedList.AddAfter(node, 2);\n",
    "        }\n",
    "\n",
    "        // Print the linked list\n",
    "        Console.WriteLine(\"Linked List contents:\");\n",
    "        foreach (var value in linkedList)\n",
    "        {\n",
    "            Console.WriteLine(value);\n",
    "        }"
   ]
  },
  {
   "cell_type": "code",
   "execution_count": 8,
   "metadata": {
    "vscode": {
     "languageId": "polyglot-notebook"
    }
   },
   "outputs": [
    {
     "name": "stdout",
     "output_type": "stream",
     "text": [
      "Linked List contents before modification:\n",
      "1\n",
      "2\n",
      "3\n",
      "5\n",
      "6\n",
      "Linked List contents after modification :\n",
      "1\n",
      "2\n",
      "3\n",
      "4\n",
      "5\n",
      "6\n",
      "Node with value 6 deleted.\n"
     ]
    }
   ],
   "source": [
    " // Create a new LinkedList\n",
    "        LinkedList<int> linkedList = new LinkedList<int>();\n",
    "\n",
    "        // Add nodes to the linked list\n",
    "        linkedList.AddLast(1);\n",
    "        linkedList.AddLast(2);\n",
    "        linkedList.AddLast(3);\n",
    "        linkedList.AddLast(5);\n",
    "        linkedList.AddLast(6);\n",
    "        // Print the linked list \n",
    "        Console.WriteLine(\"Linked List contents before modification:\");\n",
    "        foreach (var value in linkedList)\n",
    "        {\n",
    "            Console.WriteLine(value);\n",
    "        }\n",
    "        // Find the node with value 3\n",
    "        var node = linkedList.Find(3);\n",
    "\n",
    "        // Insert node 4 after node 3\n",
    "        if (node != null)\n",
    "        {\n",
    "            linkedList.AddAfter(node, 4);\n",
    "        }\n",
    "        else\n",
    "        {\n",
    "            Console.WriteLine(\"Node 3 not found in the list.\");\n",
    "        }\n",
    "\n",
    "        // Print the linked list\n",
    "        Console.WriteLine(\"Linked List contents after modification :\");\n",
    "        foreach (var value in linkedList)\n",
    "        {\n",
    "            Console.WriteLine(value);\n",
    "        }\n",
    "\n",
    "       DeleteNode(linkedList, 6);\n",
    "\n",
    "         // Method to delete a node with specific value from linked list\n",
    "    static void DeleteNode(LinkedList<int> list, int value)\n",
    "    {\n",
    "        var node = list.Find(value);\n",
    "        if (node != null)\n",
    "        {\n",
    "            list.Remove(node);\n",
    "            Console.WriteLine($\"Node with value {value} deleted.\");\n",
    "        }\n",
    "        else\n",
    "        {\n",
    "            Console.WriteLine($\"Node with value {value} not found.\");\n",
    "        }\n",
    "    }"
   ]
  }
 ],
 "metadata": {
  "kernelspec": {
   "display_name": ".NET (C#)",
   "language": "C#",
   "name": ".net-csharp"
  },
  "language_info": {
   "name": "python"
  },
  "polyglot_notebook": {
   "kernelInfo": {
    "defaultKernelName": "csharp",
    "items": [
     {
      "aliases": [],
      "name": "csharp"
     }
    ]
   }
  }
 },
 "nbformat": 4,
 "nbformat_minor": 2
}
