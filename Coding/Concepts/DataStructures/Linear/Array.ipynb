{
 "cells": [
  {
   "cell_type": "code",
   "execution_count": null,
   "metadata": {
    "dotnet_interactive": {
     "language": "csharp"
    },
    "polyglot_notebook": {
     "kernelName": "csharp"
    },
    "vscode": {
     "languageId": "polyglot-notebook"
    }
   },
   "outputs": [],
   "source": [
    "    // Sample Array\n",
    "        // Declare and initialize an array of integers\n",
    "        int[] numbers = new int[5] { 1, 2, 3, 4, 5 };\n",
    "\n",
    "        // Access and print elements of the array\n",
    "        Console.WriteLine(\"Elements of the array:\");\n",
    "        for (int i = 0; i < numbers.Length; i++)\n",
    "        {\n",
    "            Console.WriteLine(\"Element at index \" + i + \": \" + numbers[i]);\n",
    "        }\n",
    "\n",
    "        // Modify an element in the array\n",
    "        numbers[2] = 10;\n",
    "        Console.WriteLine(\"\\nAfter modifying element at index 2:\");\n",
    "\n",
    "        // Print the modified array\n",
    "        for (int i = 0; i < numbers.Length; i++)\n",
    "        {\n",
    "            Console.WriteLine(\"Element at index \" + i + \": \" + numbers[i]);\n",
    "        }\n",
    "\n",
    "        // Sum all elements in the array\n",
    "        int sum = 0;\n",
    "        for (int i = 0; i < numbers.Length; i++)\n",
    "        {\n",
    "            sum += numbers[i];\n",
    "        }\n",
    "        Console.WriteLine(\"\\nSum of all elements: \" + sum);\n",
    "     \n"
   ]
  },
  {
   "cell_type": "code",
   "execution_count": 2,
   "metadata": {
    "dotnet_interactive": {
     "language": "csharp"
    },
    "polyglot_notebook": {
     "kernelName": "csharp"
    },
    "vscode": {
     "languageId": "polyglot-notebook"
    }
   },
   "outputs": [],
   "source": [
    "  //you can also declare like this:\n",
    "        int[] numbers2 = new int[] { 7,8,9,10};\n",
    "        Console.WriteLine(\"\\nNumbers2 at index 0 : \" + numbers2[0]);\n",
    "\n",
    "// Print all elements of the array using string.Join\n",
    "        Console.WriteLine(\"Contents of numbers2: \" + string.Join(\", \", numbers2));"
   ]
  },
  {
   "cell_type": "code",
   "execution_count": 3,
   "metadata": {
    "dotnet_interactive": {
     "language": "csharp"
    },
    "polyglot_notebook": {
     "kernelName": "csharp"
    },
    "vscode": {
     "languageId": "polyglot-notebook"
    }
   },
   "outputs": [],
   "source": [
    "  // 1. Specified size, default values\n",
    "        int[] numbers1 = new int[5];\n",
    "\n",
    "        // 2. Specified values\n",
    "        int[] numbers2 = new int[] { 7, 8, 9, 10 };\n",
    "\n",
    "        // 3. Shortened syntax\n",
    "        int[] numbers3 = { 11, 12, 13, 14 };\n",
    "\n",
    "        // 4. 2D array\n",
    "        int[,] matrix = { { 1, 2, 3 }, { 4, 5, 6 }, { 7, 8, 9 } };\n",
    "\n",
    "        // 5. Jagged array\n",
    "        int[][] jaggedArray = new int[3][];\n",
    "        jaggedArray[0] = new int[] { 1, 2 };\n",
    "        jaggedArray[1] = new int[] { 3, 4, 5 };\n",
    "        jaggedArray[2] = new int[] { 6, 7, 8, 9 };\n",
    "\n",
    "        // 6. Implicitly typed array , this has one type only , int in this example . if you want to combine different type use object.\n",
    "        var numbers4 = new[] { 15, 16, 17, 18 };\n",
    "\n",
    "        // 7. Array of strings\n",
    "        string[] fruits = new string[] { \"Apple\", \"Banana\", \"Cherry\" };\n",
    "\n",
    "        // Print contents of arrays\n",
    "        Console.WriteLine(\"numbers2: \" + string.Join(\", \", numbers2));\n",
    "        Console.WriteLine(\"numbers3: \" + string.Join(\", \", numbers3));\n",
    "        Console.WriteLine(\"matrix:\");\n",
    "        for (int i = 0; i < matrix.GetLength(0); i++)\n",
    "        {\n",
    "            for (int j = 0; j < matrix.GetLength(1); j++)\n",
    "            {\n",
    "                Console.Write(matrix[i, j] + \" \");\n",
    "            }\n",
    "            Console.WriteLine();\n",
    "        }\n",
    "        Console.WriteLine(\"jaggedArray:\");\n",
    "        foreach (var arr in jaggedArray)\n",
    "        {\n",
    "            Console.WriteLine(string.Join(\", \", arr));\n",
    "        }\n",
    "        Console.WriteLine(\"numbers4: \" + string.Join(\", \", numbers4));\n",
    "        Console.WriteLine(\"fruits: \" + string.Join(\", \", fruits));"
   ]
  },
  {
   "cell_type": "code",
   "execution_count": 4,
   "metadata": {
    "dotnet_interactive": {
     "language": "csharp"
    },
    "polyglot_notebook": {
     "kernelName": "csharp"
    },
    "vscode": {
     "languageId": "polyglot-notebook"
    }
   },
   "outputs": [],
   "source": [
    "// Declare and initialize an array with different types using object\n",
    "        object[] mixedArray = new object[] { 1, \"John\", \"Doe\", 35000.35 };\n",
    "\n",
    "        // Print the contents of the array\n",
    "        foreach (var item in mixedArray)\n",
    "        {\n",
    "            Console.WriteLine(item);\n",
    "        }\n",
    "\n",
    "        // Accessing specific elements with type casting\n",
    "        int id = (int)mixedArray[0];\n",
    "        string firstName = (string)mixedArray[1];\n",
    "        string lastName = (string)mixedArray[2];\n",
    "        double salary = (double)mixedArray[3];\n",
    "\n",
    "        // Printing the accessed elements\n",
    "        Console.WriteLine($\"\\nID: {id}, First Name: {firstName}, Last Name: {lastName}, Salary: {salary}\");"
   ]
  },
  {
   "cell_type": "code",
   "execution_count": 5,
   "metadata": {
    "dotnet_interactive": {
     "language": "csharp"
    },
    "polyglot_notebook": {
     "kernelName": "csharp"
    },
    "vscode": {
     "languageId": "polyglot-notebook"
    }
   },
   "outputs": [],
   "source": [
    "        object[,] mixedArrayMatrix =  \n",
    "        { \n",
    "            { 1, \"John\", \"Doe\", 35000.35 }, \n",
    "            { 2, \"First Name\", \"Last Name\", 2534.35 }, \n",
    "            { 3, \"test fname\", \"test Lastname\", 100.35 } \n",
    "        };\n",
    "\n",
    "            // Print the contents of the array\n",
    "        foreach (var item in mixedArrayMatrix)\n",
    "        {\n",
    "            // Console.WriteLine(item);\n",
    "        }\n",
    "\n",
    "        \n",
    "        // Accessing specific elements with type casting for the first row\n",
    "        int id1 = (int)mixedArrayMatrix[0, 0];\n",
    "        string firstName1 = (string)mixedArrayMatrix[0, 1];\n",
    "        string lastName1 = (string)mixedArrayMatrix[0, 2];\n",
    "        double salary1 = (double)mixedArrayMatrix[0, 3];\n",
    "\n",
    "        //    Console.WriteLine($\"ID: {id1}, First Name: {firstName1}, Last Name: {lastName1}, Salary: {salary1}\");\n",
    "\n",
    "      \n",
    "      \n",
    "        // for print all values with label infront of each item in the mix object array\n",
    "        for (int i = 0; i < mixedArrayMatrix.GetLength(0); i++)\n",
    "        {\n",
    "            for (int j = 0; j < mixedArrayMatrix.GetLength(1); j++)\n",
    "            {\n",
    "                 // Print the elements with appropriate labels\n",
    "                if (j == 0)\n",
    "                {\n",
    "                    Console.Write(\"ID: \" + mixedArrayMatrix[i, j] + \" \");\n",
    "                }\n",
    "                else if (j == 1)\n",
    "                {\n",
    "                    Console.Write(\"First Name: \" + mixedArrayMatrix[i, j] + \" \");\n",
    "                }\n",
    "                else if (j == 2)\n",
    "                {\n",
    "                    Console.Write(\"Last Name: \" + mixedArrayMatrix[i, j] + \" \");\n",
    "                }\n",
    "                else if (j == 3)\n",
    "                {\n",
    "                    Console.Write(\"Salary: \" + mixedArrayMatrix[i, j] + \" \");\n",
    "                }\n",
    "\n",
    "                //or\n",
    "\n",
    "                switch (j)\n",
    "                {\n",
    "                    case 0:\n",
    "                        Console.Write(\"ID: \" + mixedArrayMatrix[i, j] + \" \");\n",
    "                        break;\n",
    "                    case 1:\n",
    "                        Console.Write(\"First Name: \" + mixedArrayMatrix[i, j] + \" \");\n",
    "                        break;\n",
    "                    case 2:\n",
    "                        Console.Write(\"Last Name: \" + mixedArrayMatrix[i, j] + \" \");\n",
    "                        break;\n",
    "                    case 3:\n",
    "                        Console.Write(\"Salary: \" + mixedArrayMatrix[i, j] + \" \");\n",
    "                        break;\n",
    "                }\n",
    "            }\n",
    "            Console.WriteLine();\n",
    "        }\n",
    "\n",
    "\n"
   ]
  }
 ],
 "metadata": {
  "kernelspec": {
   "display_name": ".NET (C#)",
   "language": "C#",
   "name": ".net-csharp"
  },
  "language_info": {
   "name": "python",
   "version": "3.11.9"
  },
  "polyglot_notebook": {
   "kernelInfo": {
    "defaultKernelName": "csharp",
    "items": [
     {
      "aliases": [],
      "name": "csharp"
     }
    ]
   }
  }
 },
 "nbformat": 4,
 "nbformat_minor": 2
}
