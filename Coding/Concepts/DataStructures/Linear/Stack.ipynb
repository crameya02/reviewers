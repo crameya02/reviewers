{
 "cells": [
  {
   "cell_type": "markdown",
   "metadata": {},
   "source": [
    "  Operations\n",
    "                    Stacks typically support the following operations:\n",
    "\n",
    "                        Push: Adds an element to the top of the stack.\n",
    "                        Pop: Removes and returns the element from the top of the stack.\n",
    "                        Peek (or Top): Returns the element from the top of the stack without removing it.\n",
    "                        IsEmpty: Checks if the stack is empty.\n",
    "                        Count (or Size): Returns the number of elements in the stack.\n"
   ]
  },
  {
   "cell_type": "code",
   "execution_count": null,
   "metadata": {
    "dotnet_interactive": {
     "language": "csharp"
    },
    "polyglot_notebook": {
     "kernelName": "csharp"
    },
    "vscode": {
     "languageId": "polyglot-notebook"
    }
   },
   "outputs": [],
   "source": [
    "  // Create a stack of integers\n",
    "        Stack<int> stack = new Stack<int>();\n",
    "\n",
    "        // Push elements onto the stack\n",
    "        stack.Push(1);\n",
    "        stack.Push(2);\n",
    "        stack.Push(3);\n",
    "\n",
    "        // Print the entire stack\n",
    "        Console.WriteLine(\"Current stack:\");\n",
    "        Console.WriteLine(\"Before popping:\");\n",
    "        foreach (int item in stack)\n",
    "        {\n",
    "            Console.WriteLine(item);\n",
    "        }\n",
    "\n",
    "        // Pop elements from the stack\n",
    "        Console.WriteLine(\"\\nPopping elements:\");\n",
    "        while (stack.Count > 0)\n",
    "        {\n",
    "            int poppedElement = stack.Pop();\n",
    "            Console.WriteLine(\"Popped element: \" + poppedElement);\n",
    "           if (stack.Count == 0)\n",
    "           {\n",
    "            Console.WriteLine(\"No more elements to pop.\");\n",
    "           }\n",
    "        }\n",
    "        \n",
    "    Console.WriteLine(\"After popping:\");\n",
    "     if (stack.Count == 0)\n",
    "        {\n",
    "            Console.WriteLine(\"Stack is empty.\");\n",
    "        }\n",
    "        else\n",
    "        {\n",
    "            foreach (int item in stack)\n",
    "            {\n",
    "                Console.WriteLine(item);\n",
    "            }\n",
    "        }"
   ]
  },
  {
   "cell_type": "code",
   "execution_count": 5,
   "metadata": {
    "vscode": {
     "languageId": "polyglot-notebook"
    }
   },
   "outputs": [
    {
     "name": "stdout",
     "output_type": "stream",
     "text": [
      "Top plate: Side Plate\n",
      "New top plate: Side Plate\n"
     ]
    }
   ],
   "source": [
    "        // peek is use to check for the last item in the stack (which is the top item if we are to use stack of plates analogy) without removing it from the stack it self.\n",
    "         Stack<string> platesStack = new Stack<string>();\n",
    "\n",
    "        // Adding plates to the stack\n",
    "        platesStack.Push(\"Dinner Plate\");\n",
    "        platesStack.Push(\"Dessert Plate\");\n",
    "        platesStack.Push(\"Side Plate\");\n",
    "\n",
    "        // Peek at the top plate without removing it\n",
    "        string topPlate = platesStack.Peek();\n",
    "        Console.WriteLine(\"Top plate: \" + topPlate);\n",
    "\n",
    "        // If the top plate is a dessert plate, take it off the stack\n",
    "        if (topPlate == \"Dessert Plate\")\n",
    "        {\n",
    "            string removedPlate = platesStack.Pop();\n",
    "            Console.WriteLine(\"Removed plate: \" + removedPlate);\n",
    "        }\n",
    "\n",
    "        // Peek again to see the new top plate\n",
    "        topPlate = platesStack.Peek();\n",
    "        Console.WriteLine(\"New top plate: \" + topPlate);"
   ]
  },
  {
   "cell_type": "markdown",
   "metadata": {},
   "source": [
    "1. Algorithmic Applications\n",
    "Recursive Function Calls: Stacks are crucial in handling function calls in many programming languages. Each function call is pushed onto the call stack, and Peek can be used to inspect the current state of function parameters or variables without completing the call.\n",
    "\n",
    "Expression Evaluation: In compilers or interpreters, stacks are used to evaluate arithmetic expressions (e.g., postfix notation). Peek helps in evaluating operators or operands at the top of the stack without modifying it.\n",
    "\n",
    "2. Undo/Redo Functionality\n",
    "Application State Management: Stacks can store application states or user actions. Peek can be used to preview the last action or state change without actually applying it.\n",
    "\n",
    "Text Editors and IDEs: Implementing undo and redo functionalities often involves using stacks to store changes or commands. Peek allows users to preview the next action to be undone or redone.\n",
    "\n",
    "3. Web Development\n",
    "Back and Forward Navigation: In web browsers, stacks are used to manage history for back and forward navigation. Peek can be used to show the URL or content of the page that the user would navigate to next.\n",
    "4. Data Structures and Algorithms\n",
    "Depth-First Search (DFS): In graph traversal algorithms like DFS, stacks are used to keep track of vertices to be explored. Peek helps in examining the current vertex without popping it off the stack.\n",
    "\n",
    "Parsing and Syntax Analysis: Stacks are used in parsing techniques such as the shunting-yard algorithm for parsing mathematical expressions. Peek assists in determining the next operation or operand to be processed.\n",
    "\n",
    "5. Concurrency and Task Management\n",
    "Task Scheduling: Stacks can be used to manage task scheduling in concurrent programming. Peek can help in inspecting pending tasks or threads without executing them.\n",
    "6. UI/UX Design\n",
    "Navigation and Page Management: In applications with multiple screens or pages, stacks can manage navigation history. Peek can show the next screen or page to be navigated to without navigating yet."
   ]
  }
 ],
 "metadata": {
  "kernelspec": {
   "display_name": ".NET (C#)",
   "language": "C#",
   "name": ".net-csharp"
  },
  "language_info": {
   "name": "python"
  },
  "polyglot_notebook": {
   "kernelInfo": {
    "defaultKernelName": "csharp",
    "items": [
     {
      "aliases": [],
      "name": "csharp"
     }
    ]
   }
  }
 },
 "nbformat": 4,
 "nbformat_minor": 2
}
