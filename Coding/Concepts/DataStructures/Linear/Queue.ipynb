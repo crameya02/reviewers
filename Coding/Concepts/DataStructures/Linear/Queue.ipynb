{
 "cells": [
  {
   "cell_type": "markdown",
   "metadata": {},
   "source": [
    "Key Operations\n",
    "1. Enqueue: Adds an element to the end of the queue.\n",
    "2. Dequeue: Removes and returns the element at the front of the queue.\n",
    "3. Peek: Returns the element at the front of the queue without removing it.\n",
    "4. IsEmpty: Checks if the queue is empty.\n",
    "5. Count: Returns the number of elements in the queue"
   ]
  },
  {
   "cell_type": "code",
   "execution_count": 1,
   "metadata": {
    "dotnet_interactive": {
     "language": "csharp"
    },
    "polyglot_notebook": {
     "kernelName": "csharp"
    },
    "vscode": {
     "languageId": "polyglot-notebook"
    }
   },
   "outputs": [
    {
     "name": "stdout",
     "output_type": "stream",
     "text": [
      "Served customer: Customer 1\n",
      "Next customer: Customer 2\n",
      "\n",
      "Remaining customers:\n",
      "Customer 2\n",
      "Customer 3\n"
     ]
    }
   ],
   "source": [
    " Queue<string> queue = new Queue<string>();\n",
    "\n",
    "        // Enqueue elements\n",
    "        queue.Enqueue(\"Customer 1\");\n",
    "        queue.Enqueue(\"Customer 2\");\n",
    "        queue.Enqueue(\"Customer 3\");\n",
    "\n",
    "        // Dequeue elements\n",
    "        string servedCustomer = queue.Dequeue();\n",
    "        Console.WriteLine(\"Served customer: \" + servedCustomer);\n",
    "\n",
    "        // Peek at the next customer to be served\n",
    "        string nextCustomer = queue.Peek();\n",
    "        Console.WriteLine(\"Next customer: \" + nextCustomer);\n",
    "\n",
    "        // Print all remaining customers in the queue\n",
    "        Console.WriteLine(\"\\nRemaining customers:\");\n",
    "        foreach (string customer in queue)\n",
    "        {\n",
    "            Console.WriteLine(customer);\n",
    "        }"
   ]
  },
  {
   "cell_type": "markdown",
   "metadata": {},
   "source": [
    "\n",
    "A **deque** (pronounced \"deck\") stands for \"double-ended queue.\" It is a data structure that allows insertion and deletion of elements from both the front and the back. This makes it more flexible than a traditional queue (which is strictly FIFO - First In, First Out) or a stack (which is strictly LIFO - Last In, First Out).\n",
    "\n",
    "### Characteristics of a Deque:\n",
    "\n",
    "1.  **Double-Ended**: Elements can be added or removed from both ends.\n",
    "2.  **Versatile**: Can function as both a queue and a stack.\n",
    "3.  **Dynamic**: Usually implemented as a dynamic array or a doubly linked list, allowing it to grow and shrink as needed.\n",
    "\n",
    "### Operations on a Deque:\n",
    "\n",
    "-   **Insertion**:\n",
    "    \n",
    "    -   `addFirst(element)`: Adds an element at the front.\n",
    "    -   `addLast(element)`: Adds an element at the back.\n",
    "-   **Deletion**:\n",
    "    \n",
    "    -   `removeFirst()`: Removes and returns the front element.\n",
    "    -   `removeLast()`: Removes and returns the back element.\n",
    "-   **Access**:\n",
    "    \n",
    "    -   `getFirst()`: Returns the front element without removing it.\n",
    "    -   `getLast()`: Returns the back element without removing it."
   ]
  },
  {
   "cell_type": "code",
   "execution_count": 5,
   "metadata": {
    "dotnet_interactive": {
     "language": "csharp"
    },
    "polyglot_notebook": {
     "kernelName": "csharp"
    },
    "vscode": {
     "languageId": "polyglot-notebook"
    }
   },
   "outputs": [
    {
     "name": "stdout",
     "output_type": "stream",
     "text": [
      "List of Queue:\n",
      "1\n",
      "2\n",
      "3\n",
      "Add elements at the front:\n",
      "0\n",
      "1\n",
      "2\n",
      "3\n",
      "Add elements at the front:\n",
      "1\n",
      "2\n",
      "3\n",
      "Front element: 1\n",
      "Back element: 2\n",
      "1\n",
      "2\n"
     ]
    }
   ],
   "source": [
    " LinkedList<int> deque = new LinkedList<int>();\n",
    "\n",
    "        // Add elements at the end\n",
    "        deque.AddLast(1);\n",
    "        deque.AddLast(2);\n",
    "        deque.AddLast(3);\n",
    "        Console.WriteLine(\"List of Queue:\");\n",
    "         foreach (var item in deque)\n",
    "        {\n",
    "            Console.WriteLine(item);\n",
    "        }\n",
    "        Console.WriteLine(\"Add elements at the front:\");\n",
    "        // Add elements at the front\n",
    "        deque.AddFirst(0);\n",
    "        foreach (var item in deque)\n",
    "        {\n",
    "            Console.WriteLine(item);\n",
    "        }\n",
    "        Console.WriteLine(\"Add elements at the front:\");\n",
    "        // Remove elements from the front\n",
    "        deque.RemoveFirst(); // Removes 0\n",
    "        foreach (var item in deque)\n",
    "        {\n",
    "            Console.WriteLine(item);\n",
    "        }\n",
    "        // Remove elements from the back\n",
    "        deque.RemoveLast(); // Removes 3\n",
    "\n",
    "        // Access the front element\n",
    "        Console.WriteLine(\"Front element: \" + deque.First.Value); // 1\n",
    "\n",
    "        // Access the back element\n",
    "        Console.WriteLine(\"Back element: \" + deque.Last.Value); // 2\n",
    "\n",
    "        // Print all elements\n",
    "        foreach (var item in deque)\n",
    "        {\n",
    "            Console.WriteLine(item);\n",
    "        }"
   ]
  },
  {
   "cell_type": "markdown",
   "metadata": {},
   "source": [
    "\n",
    "\n",
    "\n",
    "### 1. **Operating Systems**\n",
    "\n",
    "-   **Process Scheduling**: Operating systems use queues to manage processes waiting to be executed by the CPU. The scheduler selects processes from the ready queue based on scheduling algorithms like Round Robin or Priority Scheduling.\n",
    "    \n",
    "-   **Input/Output (I/O) Requests**: Queues are used to manage I/O requests from peripherals (e.g., printers, disk drives). Requests are handled in the order they arrive, ensuring fairness and efficient use of resources.\n",
    "    \n",
    "\n",
    "### 2. **Networking**\n",
    "\n",
    "-   **Network Data Packets**: Routers and network devices use queues to manage incoming data packets. Queues ensure that packets are processed in the order they arrive, preventing data loss and optimizing network traffic.\n",
    "    \n",
    "-   **Message Queues**: In messaging systems (e.g., RabbitMQ, Kafka), queues store messages until they are consumed by the recipient. This ensures reliable message delivery and decouples producers from consumers.\n",
    "    \n",
    "\n",
    "### 3. **Web Development**\n",
    "\n",
    "-   **Request Handling**: Web servers use queues to manage incoming client requests. Requests are queued and processed by worker threads or processes, ensuring that each request is handled in sequence and preventing overload.\n",
    "\n",
    "### 4. **Print Queues**\n",
    "\n",
    "-   **Print Spoolers**: Print queues manage print jobs sent to printers. Jobs are queued and printed in the order they were submitted, ensuring fairness and efficient use of printing resources.\n",
    "\n",
    "### 5. **Breadth-First Search (BFS) Algorithm**\n",
    "\n",
    "-   **Graph Traversal**: BFS uses a queue to explore nodes level by level in a graph. It's widely used in shortest path algorithms, web crawlers, and finding connected components in networks.\n",
    "\n",
    "### 6. **Event Handling**\n",
    "\n",
    "-   **Event Queues**: User interface frameworks (e.g., Windows Forms, WPF) use event queues to manage user interactions (e.g., mouse clicks, keyboard events). Events are queued and processed sequentially, ensuring responsiveness.\n",
    "\n",
    "### 7. **Transactional Systems**\n",
    "\n",
    "-   **Transaction Processing**: Queues are used in transactional systems to ensure reliable and ordered processing of transactions. For example, in banking systems, transaction requests are queued to maintain consistency and integrity.\n",
    "\n",
    "### Benefits of Using Queues\n",
    "\n",
    "-   **Order Preservation**: Queues maintain the order of items as they are added, ensuring that items are processed in a fair and predictable manner.\n",
    "    \n",
    "-   **Buffering and Load Balancing**: Queues act as buffers between producers and consumers, managing peaks in workload and distributing tasks evenly.\n",
    "    \n",
    "-   **Concurrency and Scalability**: Queues facilitate concurrent processing of tasks by multiple threads or processes, enabling efficient resource utilization and scalability.\n",
    "    \n",
    "\n",
    "### Conclusion\n",
    "\n",
    "The Queue data structure is fundamental in managing tasks, requests, and data flows where ordering and fairness are critical. Its applications span from operating systems and networking to web development and transactional systems, making it a versatile tool in software engineering and system design."
   ]
  }
 ],
 "metadata": {
  "kernelspec": {
   "display_name": ".NET (C#)",
   "language": "C#",
   "name": ".net-csharp"
  },
  "language_info": {
   "name": "python"
  },
  "polyglot_notebook": {
   "kernelInfo": {
    "defaultKernelName": "csharp",
    "items": [
     {
      "aliases": [],
      "name": "csharp"
     }
    ]
   }
  }
 },
 "nbformat": 4,
 "nbformat_minor": 2
}
